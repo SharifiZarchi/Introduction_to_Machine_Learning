{
 "cells": [
  {
   "cell_type": "markdown",
   "metadata": {},
   "source": [
    "<img src='http://www-scf.usc.edu/~ghasemig/images/sharif.png' alt=\"SUT logo\" width=200 height=200 align=left class=\"saturate\" >\n",
    "\n",
    "<br>\n",
    "<font face=\"Times New Roman\">\n",
    "<div dir=ltr align=center>\n",
    "<font color=0F5298 size=7>\n",
    "    Introduction to Machine Learning <br>\n",
    "<font color=2565AE size=5>\n",
    "    Computer Engineering Department <br>\n",
    "    Fall 2022<br>\n",
    "<font color=3C99D size=5>\n",
    "    Homework 3: Practical - PyTorch Classification <br>\n",
    "<font color=696880 size=4>\n",
    "    Javad Hezareh \n",
    "    \n",
    "    \n",
    "____\n"
   ]
  },
  {
   "cell_type": "markdown",
   "metadata": {},
   "source": [
    "### Full Name : \n",
    "### Student Number : \n",
    "___"
   ]
  },
  {
   "cell_type": "markdown",
   "metadata": {},
   "source": [
    "# Problem\n",
    "This assignment uses PyTorch to build and implement a MLP model for solving a classification problem. Our goal is to classify galaxy images into 4 classes: ellipticals, lenticulars, spirals, and irregulars. We will use [EFIGI](https://www.astromatic.net/projects/efigi/) dataset which contains 4458 images.\n",
    "\n",
    "* It is highly recommended to run this notebook on Google Colab so that you can utilize its GPU.\n",
    "* If you need to change the inputs of functions you are implementing, or want to add new cells or functions, feel free to do so."
   ]
  },
  {
   "cell_type": "markdown",
   "metadata": {
    "id": "W0bGV8AXO3Yx"
   },
   "source": [
    "# Setup"
   ]
  },
  {
   "cell_type": "code",
   "execution_count": null,
   "metadata": {
    "id": "CdrZr6HWO2p8"
   },
   "outputs": [],
   "source": [
    "import torch\n",
    "from torch import nn\n",
    "from torch.nn import functional as F\n",
    "from torch.utils.data import Dataset, DataLoader, random_split\n",
    "from torchvision import transforms, datasets\n",
    "\n",
    "from tqdm import tqdm\n",
    "import numpy as np\n",
    "import pandas as pd\n",
    "import matplotlib.pyplot as plt\n",
    "\n",
    "plt.style.use('ggplot')\n",
    "###########################################################\n",
    "##  If you need any other packages, import them below    ##\n",
    "###########################################################\n"
   ]
  },
  {
   "cell_type": "code",
   "execution_count": null,
   "metadata": {},
   "outputs": [],
   "source": [
    "device = torch.device('cuda' if torch.cuda.is_available() else 'cpu')\n",
    "device"
   ]
  },
  {
   "cell_type": "markdown",
   "metadata": {
    "id": "gzydGC2SNuAu"
   },
   "source": [
    "# Prepare and Visualize Data (10 Points)"
   ]
  },
  {
   "cell_type": "markdown",
   "metadata": {
    "id": "ANdYnd04N0ze"
   },
   "source": [
    "Run the following cell to download dataset. `prepare_data` will return a pandas dataframe which contains three columns. `name` is the name of image that you can find that in `./efigi-1.6/png`, `class_name` is the type of galaxy in that image and `class_label` is a numerical label for this class."
   ]
  },
  {
   "cell_type": "code",
   "execution_count": null,
   "metadata": {
    "colab": {
     "base_uri": "https://localhost:8080/",
     "height": 242
    },
    "id": "DKTkjoAxDfoL",
    "outputId": "1d1583ef-b633-4b10-a7ba-75f9e8bc1051"
   },
   "outputs": [],
   "source": [
    "# run this cell to download and prepare data\n",
    "from data_utils import download_data, prepare_data\n",
    "\n",
    "download_data()\n",
    "df = prepare_data('./efigi-1.6/EFIGI_attributes.txt')\n",
    "\n",
    "df.head()"
   ]
  },
  {
   "cell_type": "code",
   "execution_count": null,
   "metadata": {
    "id": "xsiH1fRiMhBa"
   },
   "outputs": [],
   "source": [
    "##############################################################\n",
    "##            Visualize 4 sample from each class            ##\n",
    "##                        Your Code                         ##\n",
    "##############################################################\n",
    "\n"
   ]
  },
  {
   "cell_type": "markdown",
   "metadata": {
    "id": "wbUx3uHhQEVY"
   },
   "source": [
    "# Define Dataset (20 Points)"
   ]
  },
  {
   "cell_type": "code",
   "execution_count": null,
   "metadata": {
    "id": "4CEUTGaFQI51"
   },
   "outputs": [],
   "source": [
    "###############################################################\n",
    "##        Write your dataset class for loading images        ##\n",
    "##                        Your Code                          ##\n",
    "###############################################################\n",
    "\n",
    "class GalaxyDataSet(Dataset):\n",
    "    def __init__(self):\n",
    "        pass\n",
    "\n",
    "    def __len__(self):\n",
    "        pass\n",
    "\n",
    "    def __getitem__(self):\n",
    "        pass"
   ]
  },
  {
   "cell_type": "markdown",
   "metadata": {
    "id": "HF_40_3rQ5Uv"
   },
   "source": [
    "# Define Model (20 Points)"
   ]
  },
  {
   "cell_type": "code",
   "execution_count": null,
   "metadata": {
    "id": "jQfGVj2rQ90G"
   },
   "outputs": [],
   "source": [
    "#####################################\n",
    "##        Define your model        ##\n",
    "##            Your Code            ##\n",
    "#####################################\n",
    "\n",
    "class ClassifierModel(nn.Module):\n",
    "    def __init__(self):\n",
    "        pass\n",
    "\n",
    "    def forward(self, x):\n",
    "        pass"
   ]
  },
  {
   "cell_type": "markdown",
   "metadata": {
    "id": "1jZeKXV9Rbq3"
   },
   "source": [
    "# Train Model (30 Points)"
   ]
  },
  {
   "cell_type": "code",
   "execution_count": null,
   "metadata": {
    "id": "koMk0TkKRazn"
   },
   "outputs": [],
   "source": [
    "######################################################################\n",
    "##        Instantiate model, define hyper parameters, optimizer,    ##\n",
    "##        loss function ant etc                                     ##\n",
    "######################################################################\n",
    "\n"
   ]
  },
  {
   "cell_type": "code",
   "execution_count": null,
   "metadata": {
    "id": "_YSWvcEGSVor"
   },
   "outputs": [],
   "source": [
    "##############################################################\n",
    "##          Plot metrics graph for different epochs         ##\n",
    "##                        Your Code                         ##\n",
    "##############################################################\n",
    "\n"
   ]
  },
  {
   "cell_type": "markdown",
   "metadata": {
    "id": "LzhCrIFkSE1D"
   },
   "source": [
    "# Test Model (20)"
   ]
  },
  {
   "cell_type": "code",
   "execution_count": null,
   "metadata": {
    "id": "ihixveNISFwE"
   },
   "outputs": [],
   "source": [
    "##################################################\n",
    "##          Test your model on test-set         ##\n",
    "##          and plot confusion matrix           ##\n",
    "##################################################\n",
    "\n"
   ]
  }
 ],
 "metadata": {
  "colab": {
   "provenance": []
  },
  "kernelspec": {
   "display_name": "Python 3 (ipykernel)",
   "language": "python",
   "name": "python3"
  },
  "language_info": {
   "codemirror_mode": {
    "name": "ipython",
    "version": 3
   },
   "file_extension": ".py",
   "mimetype": "text/x-python",
   "name": "python",
   "nbconvert_exporter": "python",
   "pygments_lexer": "ipython3",
   "version": "3.9.7"
  },
  "vscode": {
   "interpreter": {
    "hash": "81794d4967e6c3204c66dcd87b604927b115b27c00565d3d43f05ba2f3a2cb0d"
   }
  }
 },
 "nbformat": 4,
 "nbformat_minor": 1
}
