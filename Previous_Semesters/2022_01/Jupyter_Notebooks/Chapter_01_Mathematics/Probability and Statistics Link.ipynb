{
 "cells": [
  {
   "cell_type": "markdown",
   "metadata": {
    "id": "RWK755-FnxSb"
   },
   "source": [
    "<font face=\"XB Zar\" size=5><div dir=rtl align=center>\n",
    "<font face=\"IranNastaliq\" size=5>\n",
    "به نام خدا\n",
    "</font>\n",
    "<br>\n",
    "<font size=3>\n",
    "دانشگاه صنعتی شریف - دانشکده مهندسی کامپیوتر\n",
    "</font>\n",
    "<br>\n",
    "<font color=blue size=5>\n",
    "مقدمه‌ای بر یادگیری ماشین\n",
    "</font>\n",
    "\n",
    "<hr/>\n",
    "<font color=red size=6>\n",
    "فصل اول: مروری بر ریاضیات یادگیری ماشین \n",
    "<br>\n",
    "آمار و احتمال\n",
    "</font>\n",
    "<br>\n",
    "نویسندگان:‌ امیر گودرزی\n",
    "<hr>"
   ]
  },
  {
   "cell_type": "markdown",
   "metadata": {
    "id": "QUe6AeApMXH_"
   },
   "source": [
    "<font face=\"XB Zar\" size=4><div dir=rtl>\n",
    "<font color=\"red\" size=5>1. مبانی احتمال</font>\n",
    "<br>\n",
    "[مفهوم احتمال، عملیات مجموعه‌ها، نمودار ون، اندازه‌ی مجموعه‌ها، استقلال و وابستگی](https://github.com/asharifiz/Probability_Statistics/blob/master/Notebooks/1%20-%20Probability%20Basics/2%20-%20Axioms%20of%20Probibility/Axioms%20of%20Probability.ipynb)\n",
    "<br>\n",
    "[احتمال شرطی و قاعده بیز](https://github.com/asharifiz/Probability_Statistics/blob/master/Notebooks/1%20-%20Probability%20Basics/3%20-%20Conditional%20Probability/Conditional%20Probability-Bayes%20Theorem.ipynb)\n",
    "<br>\n",
    "[استقلال و شرطی بودن آن](https://github.com/asharifiz/Probability_Statistics/blob/master/Notebooks/1%20-%20Probability%20Basics/4%20-%20Independence%20-%20Conditional%20Independence%20-%20Chain%20Rule/Independence%20-%20Conditional%20Independence%20-%20Chain%20Rule.ipynb)"
   ]
  },
  {
   "cell_type": "markdown",
   "metadata": {
    "id": "p1HayOPEMm9R"
   },
   "source": [
    "<font face=\"XB Zar\" size=4><div dir=rtl>\n",
    "<font color=\"red\" size=5>2. متغیرهای تصادفی</font>\n",
    "<br>\n",
    "[متغیرهای تصادفی - امید ریاضی](https://github.com/asharifiz/Probability_Statistics/blob/master/Notebooks/2%20-%20Random%20Variables/1%20-%20R.V.%20-%20Discrete%20R.V.%20-%20Expected%20Value/Random%20Variables%20-%20Expected%20Value.ipynb)\n",
    "<br>\n",
    "[واریانس - برنولی - دوجمله ای](https://github.com/asharifiz/Probability_Statistics/blob/master/Notebooks/2%20-%20Random%20Variables/2%20-%20Variance%20-%20Binomial%20%20-Bernouli/Variance%20-%20Bernouli%20-%20Binomial.ipynb)\n",
    "<br>\n",
    "[تابع توزیع تجمعی احتمال، تابع توزیع چگالی، امید ریاضی پیوسته، واریانس پیوسته](https://github.com/asharifiz/Probability_Statistics/blob/master/Notebooks/2%20-%20Random%20Variables/4%20-%20Continuous%20Random%20Variables%20-%20Expectation%20and%20Variance%20-%20Uniform%20-%20Exponential/PDF_CDF_Expectation_Variance.ipynb)\n",
    "<br>\n",
    "[توزیع نرمال، توابعی از یک متغیر تصادفی](https://github.com/asharifiz/Probability_Statistics/blob/master/Notebooks/2%20-%20Random%20Variables/5%20-%20Normal%20-%20Function%20of%20R.V/Normal%20Distribution%20-%20Functions%20of%20one%20random%20variable.ipynb)"
   ]
  },
  {
   "cell_type": "markdown",
   "metadata": {
    "id": "c_-cyCrBRmnf"
   },
   "source": [
    "<font face=\"XB Zar\" size=4><div dir=rtl>\n",
    "<font color=\"red\" size=5>3. توزیع توأم</font>\n",
    "<br>\n",
    "[توزیع توام، متغیر تصادفی های مستقل](https://github.com/asharifiz/Probability_Statistics/blob/master/Notebooks/3%20-%20Joint%20Distributions/1%20-%20Joint%20Distributions%20%20Independent%20Random%20Variables/%D8%AA%D9%88%D8%B2%DB%8C%D8%B9%20%D8%AA%D9%88%D8%A7%D9%85%D8%8C%20%D9%85%D8%AA%D8%BA%DB%8C%D8%B1%20%D8%AA%D8%B5%D8%A7%D8%AF%D9%81%DB%8C%20%D9%87%D8%A7%DB%8C%20%D9%85%D8%B3%D8%AA%D9%82%D9%84.ipynb)\n",
    "<br>\n",
    "[توزیع مارجینال و توزیع شرطی](https://github.com/asharifiz/Probability_Statistics/blob/master/Notebooks/3%20-%20Joint%20Distributions/2%20-%20Marginal%20and%20Conditional%20Distribution/%D8%AA%D9%88%D8%B2%DB%8C%D8%B9%20%D9%85%D8%A7%D8%B1%D8%AC%DB%8C%D9%86%D8%A7%D9%84%20%D9%88%20%D8%AA%D9%88%D8%B2%DB%8C%D8%B9%20%D8%B4%D8%B1%D8%B7%DB%8C%20.ipynb)"
   ]
  },
  {
   "cell_type": "markdown",
   "metadata": {
    "id": "N9dX8QZ6S5GZ"
   },
   "source": [
    "<font face=\"XB Zar\" size=4><div dir=rtl>\n",
    "<font color=\"red\" size=5>4. قضیه حد و امید ریاضی</font>\n",
    "<br>\n",
    "[کوواریانس و هم‌بستگی](https://github.com/asharifiz/Probability_Statistics/blob/master/Notebooks/4%20-%20Expectation%20and%20Limit%20Theorems/1%20-%20Covariance%20and%20Correlation/Covariance%20and%20Correlation.ipynb)\n",
    "<br>\n",
    "[امید ریاضی شرطی](https://github.com/asharifiz/Probability_Statistics/blob/master/Notebooks/4%20-%20Expectation%20and%20Limit%20Theorems/2%20-%20Linearity%20of%20Expectation%20-%20Conditional%20Expectation/Conditional_Expectation.ipynb)\n",
    "<br>\n",
    "[خطی بودن امید ریاضی](https://github.com/asharifiz/Probability_Statistics/blob/master/Notebooks/4%20-%20Expectation%20and%20Limit%20Theorems/2%20-%20Linearity%20of%20Expectation%20-%20Conditional%20Expectation/Linearity%20of%20Expectation.ipynb)\n",
    "<br>\n",
    "[قضیه حد مرکزی](https://github.com/asharifiz/Probability_Statistics/blob/master/Notebooks/4%20-%20Expectation%20and%20Limit%20Theorems/3%20-%20Law%20of%20Large%20Numbers%20-%20Central%20Limit%20Theorem/Central_Limit_Theorem.ipynb)\n",
    "<br>\n",
    "[قانون اعداد بزرگ](https://github.com/asharifiz/Probability_Statistics/blob/master/Notebooks/4%20-%20Expectation%20and%20Limit%20Theorems/3%20-%20Law%20of%20Large%20Numbers%20-%20Central%20Limit%20Theorem/Law%20of%20large%20numbers.ipynb)"
   ]
  },
  {
   "cell_type": "markdown",
   "metadata": {
    "id": "0xyeI4c9Vi9T"
   },
   "source": [
    "<font face=\"XB Zar\" size=4><div dir=rtl>\n",
    "<font color=\"red\" size=5>5. آمار</font>\n",
    "<br>\n",
    "[آمار مقدماتی و نمونه‌گیری تصادفی](https://github.com/asharifiz/Probability_Statistics/blob/master/Notebooks/5%20-%20All%20of%20Statistics/1%20-%20Statistics%20Basics%20-%20Random%20Sampling/stat_intro_sampling.ipynb)\n",
    "<br>\n",
    "[مفهوم تخمین‌گر بازه‌ای و نقطه‌ای](https://github.com/asharifiz/Probability_Statistics/blob/master/Notebooks/5%20-%20All%20of%20Statistics/2%2C%203%20-%20Point%20and%20Interval%20Estimation%20Basics-MLE-Bias-MSE/Bias-MSE-MLE.ipynb)\n",
    "<br>\n",
    "[مقدمه‌ای بر رویکرد بیزی و روش MAP](https://github.com/asharifiz/Probability_Statistics/blob/master/Notebooks/5%20-%20All%20of%20Statistics/10%20-%20MAP/MAP.ipynb)\n"
   ]
  }
 ],
 "metadata": {
  "colab": {
   "collapsed_sections": [],
   "provenance": []
  },
  "kernelspec": {
   "display_name": "Python 3",
   "name": "python3"
  },
  "language_info": {
   "name": "python"
  }
 },
 "nbformat": 4,
 "nbformat_minor": 0
}
