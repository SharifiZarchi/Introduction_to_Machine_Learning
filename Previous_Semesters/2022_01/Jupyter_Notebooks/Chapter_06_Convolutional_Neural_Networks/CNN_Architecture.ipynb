{
 "cells": [
  {
   "cell_type": "markdown",
   "metadata": {
    "id": "h1OkOqv428jR"
   },
   "source": [
    "<font face=\"XB Zar\" size=5><div dir=rtl align=center>\n",
    "<font face=\"IranNastaliq\" size=5>\n",
    "به نام خدا\n",
    "</font>\n",
    "<br>\n",
    "<font size=3>\n",
    "دانشگاه صنعتی شریف - دانشکده مهندسی کامپیوتر\n",
    "</font>\n",
    "<br>\n",
    "<font color=blue size=5>\n",
    "مقدمه‌ای بر یادگیری ماشین\n",
    "</font>\n",
    "<br>\n",
    "<hr/>\n",
    "<font color=red size=6>\n",
    "فصل شش\n",
    "<br>\n",
    "CNN Architecture \n",
    "</font>\n",
    "<br>\n",
    "نویسندگان:‌ آرین امانی\n",
    "<hr>\n",
    "\n",
    "<br>\n",
    "  <div align=\"right\">\n",
    "  <font color=\"red\" size=5>فهرست مطالب</font>\n",
    "\t<ul>\n",
    "    <li>\n",
    "\t\t  <a href=\"#Kernels\">\n",
    "        آشنایی با لایه کانولوشنی\n",
    "        <ul>\n",
    "          <li>\n",
    "            <a href=\"#recap\">\n",
    "              یاد آوری شبکه کاملا متصل(Fully Connected)\n",
    "            </a>\n",
    "          </li>\n",
    "          <li>\n",
    "            <a href=\"#cnn\">\n",
    "              شبکه پیچشی(Convolutional)\n",
    "            </a>\n",
    "          </li>\n",
    "        </ul>\n",
    "    </a>\n",
    "\t\t</li>\n",
    "</div></font>"
   ]
  },
  {
   "cell_type": "code",
   "execution_count": null,
   "metadata": {
    "id": "jLw_7U7RxmBc"
   },
   "outputs": [],
   "source": [
    "from tensorflow import keras\n",
    "from tensorflow.keras.utils import to_categorical, plot_model\n",
    "from keras.models import Sequential\n",
    "from keras.layers import Dense, Conv2D, MaxPool2D, Flatten\n",
    "import matplotlib.pyplot as plt\n",
    "import tensorflow as tf\n",
    "import numpy as np"
   ]
  },
  {
   "cell_type": "markdown",
   "metadata": {
    "id": "Cq14deDU49XT"
   },
   "source": [
    "  <div dir=rtl id=\"dataset\">\n",
    "  <font face=\"XB Zar\" size=4>\n",
    "      <font color=\"red\" size=5>\n",
    "      آشنایی با لایه کانولوشنی\n",
    "      </font>\n",
    "      <hr/>\n",
    "      یاد آوری شبکه پیچشی کاملا متصل - Fully Connected:\n",
    "  </font>\n",
    "  </div>\n",
    "\n",
    "![FC](https://drive.google.com/uc?export=view&id=15YcnB-3E2D-pGlssP3JPWrwd1_92xfcW)"
   ]
  },
  {
   "cell_type": "markdown",
   "metadata": {
    "id": "fay0-AqvwD5a"
   },
   "source": [
    "  <div dir=rtl id=\"dataset\">\n",
    "  <font face=\"XB Zar\" size=4>\n",
    "      <font color=\"red\" size=5>\n",
    "      آشنایی با لایه کانولوشنی\n",
    "      </font>\n",
    "      <hr/>\n",
    "      همانطور که در اسلایدهای کلاس هم دیدید، تفاوت زیادی بین یادگیری یک مدل کاملا متصل و یک مدل پیچشی وجود دارد.\n",
    "      <br>\n",
    "      در مدل‌های Convolutional، ما با مدل‌هایی با پارامترهای بسیار کمتر، نتایجی بسیار بهتر روی دادگان تصویری می‌گیریم.\n",
    "      <br><br>\n",
    "      آزمایش انجام شده در اسلایدهای کلاس را در این قسمت می‌توانید خودتان انجام داده و نتایج را مقایسه کنید.\n",
    "      </hr>\n",
    "      \n",
    "  </font>\n",
    "  </div>\n"
   ]
  },
  {
   "cell_type": "code",
   "execution_count": null,
   "metadata": {
    "id": "C9NMKTcixxgk"
   },
   "outputs": [],
   "source": [
    "# Download the CIFAR10 dataset\n",
    "(x_train, y_train), (x_test, y_test) = keras.datasets.cifar10.load_data()\n",
    "\n",
    "# Preprocessing the data\n",
    "trainY = to_categorical(y_train)\n",
    "testY = to_categorical(y_test)\n",
    "\n",
    "x_train = x_train.astype('float32')\n",
    "x_test = x_test.astype('float32')\n",
    "x_train = x_train / 255.0\n",
    "x_test = x_test / 255.0\n",
    "\n",
    "# Inputs for the Dense Model\n",
    "dense_train = x_train.reshape(-1, 32*32*3)\n",
    "dense_test = x_test.reshape(-1, 32*32*3)"
   ]
  },
  {
   "cell_type": "markdown",
   "metadata": {
    "id": "iqmIYOuKyMiI"
   },
   "source": [
    "  <div dir=rtl id=\"dataset\">\n",
    "  <font face=\"XB Zar\" size=4>\n",
    "      <hr/>\n",
    "      مدلی کاملا متصل ساخته و آن را روی دیتای CIFAR10 آموزش می‌دهیم.\n",
    "      </hr>\n",
    "      \n",
    "  </font>\n",
    "  </div>\n"
   ]
  },
  {
   "cell_type": "code",
   "execution_count": null,
   "metadata": {
    "colab": {
     "base_uri": "https://localhost:8080/",
     "height": 578
    },
    "id": "LrdT01_p3eDu",
    "outputId": "5cd58db9-7670-4bd9-bd2d-e9c174a04bdc"
   },
   "outputs": [],
   "source": [
    "# example of loading the cifar10 dataset\n",
    "from matplotlib import pyplot\n",
    "from keras.datasets import cifar10\n",
    "# load dataset\n",
    "# (trainX, trainy), (testX, testy) = cifar10.load_data()\n",
    "# summarize loaded dataset\n",
    "print('Train: X=%s, y=%s' % (x_train.shape, y_train.shape))\n",
    "print('Test: X=%s, y=%s' % (x_test.shape, y_test.shape))\n",
    "# plot first few images\n",
    "fig , ax = plt.subplots(3, 3)\n",
    "# plot first few images\n",
    "for i in range(9):\n",
    "  # plot raw pixel data\n",
    "  ax[i//3, i%3]. imshow (x_train[i])\n",
    "# show the figure\n",
    "fig.tight_layout()\n",
    "fig.set_figheight(8)\n",
    "fig.set_figwidth(8)\n",
    "plt.show()"
   ]
  },
  {
   "cell_type": "code",
   "execution_count": null,
   "metadata": {
    "colab": {
     "base_uri": "https://localhost:8080/",
     "height": 991
    },
    "id": "-1RuGS8x2pxu",
    "outputId": "666e35a8-1d5a-434b-8099-fb718449621f"
   },
   "outputs": [],
   "source": [
    "from keras.models import Sequential\n",
    "from keras.layers import Flatten, Dense\n",
    "\n",
    "dense_model = Sequential(\n",
    "    [\n",
    "        Dense(2048, input_dim=32*32*3, activation='relu', name='Dense_Layer_1'),\n",
    "        Dense(1024, activation='relu', name='Dense_Layer_2'),\n",
    "        Dense(512, activation='relu', name='Dense_Layer_3'),\n",
    "        Dense(128, activation='relu', name='Dense_Layer_4'),\n",
    "        Dense(10, activation='softmax', name='Softmax_Output_Layer'),\n",
    "    ],\n",
    "    name='Dense_Model'\n",
    ")\n",
    "\n",
    "\n",
    "dense_model.compile(loss='categorical_crossentropy',\n",
    "              optimizer='adam',\n",
    "              metrics=['accuracy'])\n",
    "\n",
    "\n",
    "dense_model.summary()\n",
    "plot_model(dense_model, show_shapes=True)"
   ]
  },
  {
   "cell_type": "code",
   "execution_count": null,
   "metadata": {
    "colab": {
     "base_uri": "https://localhost:8080/"
    },
    "id": "CB3qTRyvvO5l",
    "outputId": "1e59f40b-4875-4edc-b888-98d43a126dc6"
   },
   "outputs": [],
   "source": [
    "with tf.device('/device:GPU:0'):\n",
    "  dense_history = dense_model.fit(dense_train, trainY, batch_size=128, epochs=10, verbose=1, validation_split=0.3)"
   ]
  },
  {
   "cell_type": "code",
   "execution_count": null,
   "metadata": {
    "colab": {
     "base_uri": "https://localhost:8080/"
    },
    "id": "zfjaG0Mhv8_J",
    "outputId": "fc572e95-5927-467f-829c-4dbccb395d5c"
   },
   "outputs": [],
   "source": [
    "dense_test_accuracy = dense_model.evaluate(dense_test, testY)[1]\n",
    "print(\"Test Accuracy\",np.round((dense_test_accuracy)*100,2))"
   ]
  },
  {
   "cell_type": "code",
   "execution_count": null,
   "metadata": {
    "colab": {
     "base_uri": "https://localhost:8080/",
     "height": 295
    },
    "id": "pTh0nqb2zT3c",
    "outputId": "b7d288de-55da-4eec-ba6e-7fde0c75fd00"
   },
   "outputs": [],
   "source": [
    "# Let's plot our results: Accuracy\n",
    "\n",
    "plt.plot(dense_history.history['accuracy'])\n",
    "plt.plot(dense_history.history['val_accuracy'])\n",
    "plt.title('Dense Model Accuracy')\n",
    "plt.ylabel('accuracy')\n",
    "plt.xlabel('epoch')\n",
    "plt.legend(['train', 'val'], loc='upper left')\n",
    "plt.show()"
   ]
  },
  {
   "cell_type": "code",
   "execution_count": null,
   "metadata": {
    "colab": {
     "base_uri": "https://localhost:8080/",
     "height": 295
    },
    "id": "waamXlirzate",
    "outputId": "bd75b880-4cad-4ce8-919e-fc35c9579793"
   },
   "outputs": [],
   "source": [
    "# Let's plot our results: Loss\n",
    "\n",
    "plt.plot(dense_history.history['loss'])\n",
    "plt.plot(dense_history.history['val_loss'])\n",
    "plt.title('Dense Model Loss')\n",
    "plt.ylabel('loss')\n",
    "plt.xlabel('epoch')\n",
    "plt.legend(['train', 'val'], loc='upper left')\n",
    "plt.show()"
   ]
  },
  {
   "cell_type": "markdown",
   "metadata": {
    "id": "BU5gSLrhzmZb"
   },
   "source": [
    "  <div dir=rtl id=\"dataset\">\n",
    "  <font face=\"XB Zar\" size=4>\n",
    "      <font color=\"red\" size=5>\n",
    "      آشنایی با لایه کانولوشنی\n",
    "      </font>\n",
    "      <hr/>\n",
    "      حال، مدلی Convolutional طراحی کرده و تصاویر CIFAR10 را روی آن آموزش می‌دهیم.\n",
    "      </hr>\n",
    "      \n",
    "  </font>\n",
    "  </div>\n"
   ]
  },
  {
   "cell_type": "code",
   "execution_count": null,
   "metadata": {
    "colab": {
     "base_uri": "https://localhost:8080/",
     "height": 1000
    },
    "id": "TePtKRZ2zidO",
    "outputId": "707bfbbd-eddd-4d04-83d2-45fec7eaa8a9"
   },
   "outputs": [],
   "source": [
    "# CNN architecture\n",
    "Convolutional_model = Sequential(\n",
    "    [\n",
    "        Conv2D(32, (3, 3), input_shape=(32, 32, 3),activation='relu', name='Conv_Layer_1'),\n",
    "        MaxPool2D(pool_size=(2, 2), name='Max_Pool_1'),\n",
    "        Conv2D(64, (3, 3),activation='relu', name='Conv_Layer_2'),\n",
    "        Conv2D(128, (3, 3),activation='relu', name='Conv_Layer_3'),\n",
    "        Flatten(name='Flatten'),\n",
    "        Dense(128, activation='relu', name='Dense_Flat_1'),\n",
    "        Dense(10, activation='softmax', name='Softmax_Output_Layer')\n",
    "    ],\n",
    "    name='Convolutional_Model'\n",
    ")\n",
    "\n",
    "Convolutional_model.compile(loss='categorical_crossentropy',\n",
    "              optimizer='adam',\n",
    "              metrics=['accuracy'])\n",
    "\n",
    "\n",
    "Convolutional_model.summary()\n",
    "plot_model(Convolutional_model, show_shapes=True)"
   ]
  },
  {
   "cell_type": "code",
   "execution_count": null,
   "metadata": {
    "colab": {
     "base_uri": "https://localhost:8080/"
    },
    "id": "P7jOnf0U0IO9",
    "outputId": "7b723ba4-cade-4735-83c6-b2f916b0a28d"
   },
   "outputs": [],
   "source": [
    "with tf.device('/device:GPU:0'):\n",
    "  conv_history = Convolutional_model.fit(x_train, trainY, batch_size=128, epochs=10, verbose=1, validation_split=0.3)"
   ]
  },
  {
   "cell_type": "code",
   "execution_count": null,
   "metadata": {
    "colab": {
     "base_uri": "https://localhost:8080/"
    },
    "id": "aEqPsy_g0JHt",
    "outputId": "5c0ac8c3-82af-4498-fdc2-bec4c76d6849"
   },
   "outputs": [],
   "source": [
    "conv_test_accuracy = Convolutional_model.evaluate(x_test, testY)[1]\n",
    "print(\"Test Accuracy\",np.round((conv_test_accuracy)*100,2))"
   ]
  },
  {
   "cell_type": "code",
   "execution_count": null,
   "metadata": {
    "colab": {
     "base_uri": "https://localhost:8080/",
     "height": 295
    },
    "id": "mzuaDmfa0LXJ",
    "outputId": "ec300c79-87dc-41e1-87fe-9b9d1822b06b"
   },
   "outputs": [],
   "source": [
    "# Let's plot our results: Accuracy\n",
    "\n",
    "plt.plot(conv_history.history['accuracy'])\n",
    "plt.plot(conv_history.history['val_accuracy'])\n",
    "plt.title('Conv Model Accuracy')\n",
    "plt.ylabel('accuracy')\n",
    "plt.xlabel('epoch')\n",
    "plt.legend(['train', 'val'], loc='upper left')\n",
    "plt.show()"
   ]
  },
  {
   "cell_type": "code",
   "execution_count": null,
   "metadata": {
    "colab": {
     "base_uri": "https://localhost:8080/",
     "height": 295
    },
    "id": "pOtWWQtp0Nmf",
    "outputId": "ec2e0391-339a-468d-ef15-8cdba06f4396"
   },
   "outputs": [],
   "source": [
    "# Let's plot our results: Loss\n",
    "\n",
    "plt.plot(conv_history.history['loss'])\n",
    "plt.plot(conv_history.history['val_loss'])\n",
    "plt.title('Conv Model Loss')\n",
    "plt.ylabel('loss')\n",
    "plt.xlabel('epoch')\n",
    "plt.legend(['train', 'val'], loc='upper left')\n",
    "plt.show()"
   ]
  },
  {
   "cell_type": "markdown",
   "metadata": {
    "id": "36I1o2BC0eQP"
   },
   "source": [
    "  <div dir=rtl id=\"dataset\">\n",
    "  <font face=\"XB Zar\" size=4>\n",
    "      <hr/>\n",
    "      نتایج دو مدل را با هم مقایسه می‌کنیم.\n",
    "      <br>\n",
    "      همانطور که مشخص است مدل Convolutional با وجود داشتن پارامترهای خیلی کمتر، با اختلاف زیادی بهتر عمل می‌کند.\n",
    "      </hr>\n",
    "      \n",
    "  </font>\n",
    "  </div>\n"
   ]
  },
  {
   "cell_type": "code",
   "execution_count": null,
   "metadata": {
    "colab": {
     "base_uri": "https://localhost:8080/",
     "height": 295
    },
    "id": "6eFgQIB-0QKh",
    "outputId": "602dd1cb-da97-47e6-b272-1a8555c5fa60"
   },
   "outputs": [],
   "source": [
    "plt.plot(dense_history.history['val_accuracy'])\n",
    "plt.plot(conv_history.history['val_accuracy'])\n",
    "plt.title('Dense vs. Conv Model Accuracy')\n",
    "plt.ylabel('accuracy')\n",
    "plt.xlabel('epoch')\n",
    "plt.legend(['Dense', 'Conv'], loc='upper left')\n",
    "plt.show()"
   ]
  },
  {
   "cell_type": "markdown",
   "metadata": {
    "id": "dEOYWf_C02w1"
   },
   "source": [
    "  <div dir=rtl id=\"dataset\">\n",
    "  <font face=\"XB Zar\" size=4>\n",
    "      <hr/>\n",
    "      معماری مدل‌ها و Hyperparameter ها را به دلخواه تغییر دهید و نتایج مختلف را آزمایش کنید.\n",
    "      <br>\n",
    "\n",
    "\n",
    "\n",
    "می‌توانید سعی کنید با راهکارهایی که در فصل قبل آموختید، جلوی Overfit شدن مدل‌ها را گرفته و نتایج را دوباره مقایسه کنید.\n",
    "\n",
    "\n",
    "  </font>\n",
    "  </div>\n"
   ]
  },
  {
   "cell_type": "code",
   "execution_count": null,
   "metadata": {
    "id": "TBu8JwYw0bGj"
   },
   "outputs": [],
   "source": []
  }
 ],
 "metadata": {
  "accelerator": "GPU",
  "colab": {
   "collapsed_sections": [],
   "provenance": []
  },
  "kernelspec": {
   "display_name": "Python 3",
   "name": "python3"
  },
  "language_info": {
   "name": "python"
  }
 },
 "nbformat": 4,
 "nbformat_minor": 0
}
