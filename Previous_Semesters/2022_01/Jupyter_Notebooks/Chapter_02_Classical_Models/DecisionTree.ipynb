{
 "cells": [
  {
   "cell_type": "markdown",
   "id": "designed-wisconsin",
   "metadata": {
    "id": "iNx2ze3Cfuh5"
   },
   "source": [
    "<div dir=\"rtl\" align=\"center\">\n",
    "<font face=\"XB Zar\" size=5>\n",
    "    <font face=\"IranNastaliq\" size=5>\n",
    "      به نام خدا\n",
    "    </font>\n",
    "    <br>\n",
    "    <font size=3>\n",
    "      دانشگاه صنعتی شریف - دانشکده مهندسی کامپیوتر\n",
    "    </font>\n",
    "    <br>\n",
    "    <font color=blue size=5>\n",
    "      مقدمه‌ای بر یادگیری ماشین\n",
    "    </font>\n",
    "    <br>\n",
    "    <hr/>\n",
    "    <font color=red size=6>\n",
    "      فصل دوم: مرور روش‌های کلاسیک یادگیری ماشین (درخت تصمیم)\n",
    "    </font>\n",
    "    <br>\n",
    "      نویسنده:‌ حمیدرضا یعقوبی عراقی\n",
    "    <hr>\n",
    "<br>\n",
    "  <div align=\"right\">\n",
    "  <font color=\"red\" size=5>فهرست مطالب</font>\n",
    "\t<ul>\n",
    "    <li>\n",
    "        <a href=\"#Abstract\">\n",
    "        روند کلی\n",
    "        </a>\n",
    "\t</li>\n",
    "    <br>\n",
    "    <li>\n",
    "        <a href=\"#Classifier\">\n",
    "            درخت تصمیم از نوع طبقه‌بندی\n",
    "        </a>\n",
    "        <ul>\n",
    "            <br>\n",
    "            <li>\n",
    "                <a href=\"#classification_dataset\">\n",
    "                  آشنایی با دیتاست\n",
    "                </a>\n",
    "            </li>\n",
    "            <br>\n",
    "            <li>\n",
    "                <a href=\"#classification_columns\">\n",
    "                  آشنایی با ستون‌های دیتاست\n",
    "                </a>\n",
    "            </li>\n",
    "            <br>\n",
    "            <li>\n",
    "                <a href=\"#classification_Reading_DataSet\">\n",
    "                  خواندن و بررسی دیتاست\n",
    "                </a>\n",
    "            </li>\n",
    "            <br>\n",
    "            <li>\n",
    "                <a href=\"#classification_preprocessing\">\n",
    "                  آماده سازی دیتاست\n",
    "                </a>\n",
    "            </li>\n",
    "            <br>\n",
    "            <li>\n",
    "                <a href=\"#Training_classification_Decision_Treeـcriterion_entropy\">\n",
    "            آموزش درخت تصمیم\n",
    "                </a>\n",
    "            </li>\n",
    "            <br>\n",
    "            <li>\n",
    "                <a href=\"#classification_accuracy\">\n",
    "            بررسی دقت\n",
    "                </a>\n",
    "            </li>\n",
    "            <br>\n",
    "            <li>\n",
    "                <a href=\"#classification_Visualization\">\n",
    "            مصورسازی\n",
    "                </a>\n",
    "            </li>\n",
    "            <br>\n",
    "            <li>\n",
    "                <a href=\"#Training_classification_Decision_Treeـcriterion_gini\">\n",
    "            تمرین\n",
    "                </a>\n",
    "            </li>\n",
    "        </ul>\n",
    "    </li>\n",
    "    <br>\n",
    "    <li>\n",
    "        <a href=\"#Regression\">\n",
    "            درخت تصمیم از نوع رگرسیون\n",
    "        </a>\n",
    "        <ul>\n",
    "            <br>\n",
    "            <li>\n",
    "                <a href=\"#regression_dataset\">\n",
    "                  آشنایی با دیتاست\n",
    "                </a>\n",
    "            </li>\n",
    "            <br>\n",
    "            <li>\n",
    "                <a href=\"#regression_columns\">\n",
    "                  آشنایی با ستون‌های دیتاست\n",
    "                </a>\n",
    "            </li>\n",
    "            <br>\n",
    "            <li>\n",
    "                <a href=\"#regression_Reading_DataSet\">\n",
    "                  خواندن و بررسی دیتاست\n",
    "                </a>\n",
    "            </li>\n",
    "            <br>\n",
    "            <li>\n",
    "                <a href=\"#regression_preprocessing\">\n",
    "                  آماده سازی دیتاست\n",
    "                </a>\n",
    "            </li>\n",
    "            <br>\n",
    "            <li>\n",
    "                <a href=\"#Training_regression_Decision_Tree\">\n",
    "            آموزش درخت تصمیم\n",
    "                </a>\n",
    "            </li>\n",
    "            <br>\n",
    "            <li>\n",
    "                <a href=\"#regression_accuracy\">\n",
    "            بررسی دقت\n",
    "                </a>\n",
    "            </li>\n",
    "            <br>\n",
    "            <li>\n",
    "                <a href=\"#regression_Visualization\">\n",
    "            مصورسازی\n",
    "                </a>\n",
    "            </li>\n",
    "        </ul>\n",
    "    </li>\n",
    "    <br>\n",
    "    <li>\n",
    "      <a href=\"#Practice_1\">\n",
    "        تمرین: پیاده سازی درخت تصمیم گیری از نوع طبقه بندی\n",
    "      </a>\n",
    "        <ul>\n",
    "            <br>\n",
    "            <li>\n",
    "                <a href=\"#Practice_Tree\">\n",
    "            پیاده‌سازی\n",
    "                </a>\n",
    "            </li>\n",
    "            <br>\n",
    "            <li>\n",
    "                <a href=\"#Practice_dataset\">\n",
    "            بررسی دیستاست\n",
    "                </a>\n",
    "            </li>\n",
    "            <br>\n",
    "            <li>\n",
    "                <a href=\"#Practice_hyperparameter\">\n",
    "            بررسی دقت با hyperparameter‌های مختلف\n",
    "                </a>\n",
    "            </li>\n",
    "        </ul>\n",
    "\t</li>\n",
    "    <br>\n",
    "    <br>\n",
    "    </ul>\n",
    "   </div>\n",
    "</font>\n",
    "</div>"
   ]
  },
  {
   "cell_type": "markdown",
   "id": "southern-conviction",
   "metadata": {
    "ExecuteTime": {
     "end_time": "2022-09-15T14:20:11.136187Z",
     "start_time": "2022-09-15T14:20:11.120827Z"
    }
   },
   "source": [
    "<div dir=rtl id=\"Abstract\">\n",
    "<font face=\"XB Zar\" size=4>\n",
    "  <font color=\"red\" size=6>\n",
    "    روند کلی\n",
    "  </font>\n",
    "  <hr />\n",
    "    در این نوتبوک ابتدا با روند بررسی داده‌ها، نحوه آموزش مدل و بررسی آن آشنا می‌شویم. سپس در دو تمرین، با جزئیات پیاده‌سازی Decision Treeها آشنا می‌شویم.\n",
    "  <br/>\n",
    "</font>\n",
    "</div>"
   ]
  },
  {
   "cell_type": "markdown",
   "id": "instructional-siemens",
   "metadata": {},
   "source": [
    "<div dir=rtl id=\"Classifier\">\n",
    "    <font color=\"red\" size=6>\n",
    "        درخت تصمیم از نوع طبقه بندی\n",
    "    </font>\n",
    "    <hr>\n",
    "</div>"
   ]
  },
  {
   "cell_type": "markdown",
   "id": "literary-tackle",
   "metadata": {
    "id": "sIGyifOmnOYc"
   },
   "source": [
    "\n",
    "  <div dir=rtl id=\"classification_dataset\">\n",
    "  <font face=\"XB Zar\" size=4>\n",
    "      <font color=\"red\" size=5>\n",
    "        آشنایی با دیتاست\n",
    "      </font>\n",
    "      <hr />\n",
    "      دیتاستی که در این بخش استفاده خواهد شد، مربوط به ارزیابی کیفی نزدیک به ۱۷۰۰ خودرو می‌باشد که در سال ۱۹۹۷ توسط  Marko Bohanec و برای ارزیابی متد HINT (Hierarchy INduction Tool) در مقاله <a href=\"https://citeseerx.ist.psu.edu/viewdoc/download?doi=10.1.1.29.4455&rep=rep1&type=pdf\"><font face=\"Roboto\">Machine Learning by Function Decomposition</font></a> منتشر گردید. این دیتاست شامل ۷ ستون (قیمت خرید، هزینه نگه‌داری، تعداد درها، تعداد سرنشینان، فضای صندق عقب و میزان امنیت ماشین) است که مقادیر هر ستون را در بخش ذیل می‌توانید مشاهده کنید.\n",
    "      برای دسترسی به دیتاست مذکور می‌توانید از <a href=\"https://www.kaggle.com/datasets/elikplim/car-evaluation-data-set\"><font face=\"Roboto\">این لینک</font></a> استفاده کنید. همچنین این دیتاست در همین پوشه با نام car_evaluation.csv در اختیار شما قرار داده شده است.\n",
    "      <br />\n",
    "      </font>\n",
    "    </div>"
   ]
  },
  {
   "cell_type": "markdown",
   "id": "daily-bulgarian",
   "metadata": {
    "id": "BmZv9X3O0cxg"
   },
   "source": [
    "\n",
    "  <div dir=rtl id=\"classification_columns\">\n",
    "  <font face=\"XB Zar\" size=4>\n",
    "      <font color=\"red\" size=5>\n",
    "        آشنایی با ستون‌های دیتاست\n",
    "      </font>\n",
    "      <hr />\n",
    "      دیتاست شامل 7 ستون می‌شود:\n",
    "      <ol>\n",
    "        <li>\n",
    "          <font face=\"Roboto\">buying_price: </font>\n",
    "          هزینه خرید که شامل یکی از ۴ نوع زیر است:\n",
    "          <ul>\n",
    "            <font face=\"Roboto\">\n",
    "              <li>\n",
    "                v-high\n",
    "              </li>\n",
    "              <li>\n",
    "                high\n",
    "              </li>\n",
    "              <li>\n",
    "                med\n",
    "              </li>\n",
    "              <li>\n",
    "                low\n",
    "              </li>\n",
    "            </font>\n",
    "          </ul>\n",
    "        </li>\n",
    "        <li>\n",
    "          <font face=\"Roboto\">maintenance_cost: </font>\n",
    "          هزینه تعمیر و نگه داری که یکی از ۴ نوع زیر است:\n",
    "          <ul>\n",
    "            <font face=\"Roboto\">\n",
    "              <li>\n",
    "                v-high\n",
    "              </li>\n",
    "              <li>\n",
    "                high\n",
    "              </li>\n",
    "              <li>\n",
    "                med\n",
    "              </li>\n",
    "              <li>\n",
    "                low\n",
    "              </li>\n",
    "            </font>\n",
    "          </ul>\n",
    "        </li>\n",
    "        <li>\n",
    "          <font face=\"Roboto\">number_of_doors: </font>\n",
    "          تعداد در‌های یک ماشین که شامل یکی از مقدار زیر است:\n",
    "          <ul>\n",
    "            <font face=\"Roboto\">\n",
    "              <li>\n",
    "                2\n",
    "              </li>\n",
    "              <li>\n",
    "                3\n",
    "              </li>\n",
    "              <li>\n",
    "                4\n",
    "              </li>\n",
    "              <li>\n",
    "                  5more\n",
    "              </li>\n",
    "            </font>\n",
    "          </ul>\n",
    "        </li>\n",
    "        <li>\n",
    "          <font face=\"Roboto\">number_of_persons: </font>\n",
    "          تعداد سرنشین‌های یک ماشین که شامل یکی از مقدار زیر است:\n",
    "          <ul>\n",
    "            <font face=\"Roboto\">\n",
    "              <li>\n",
    "                2\n",
    "              </li>\n",
    "              <li>\n",
    "                4\n",
    "              </li>\n",
    "              <li>\n",
    "                  more\n",
    "              </li>\n",
    "            </font>\n",
    "          </ul>\n",
    "        </li>\n",
    "        <li>\n",
    "          <font face=\"Roboto\">lug_boot: </font>\n",
    "          نشان دهنده میزان فضای صندق عقب ماشین است که شامل یکی از ۳ نوع زیر است:\n",
    "          <ul>\n",
    "            <font face=\"Roboto\">\n",
    "              <li>\n",
    "                small\n",
    "              </li>\n",
    "              <li>\n",
    "                med\n",
    "              </li>\n",
    "              <li>\n",
    "                big\n",
    "              </li>\n",
    "            </font>\n",
    "          </ul>\n",
    "        </li>\n",
    "        <li>\n",
    "          <font face=\"Roboto\">safety: </font>\n",
    "          نشان دهنده میزان امنیت ماشین است که شامل یکی از ۳ نوع زیر است:\n",
    "          <ul>\n",
    "            <font face=\"Roboto\">\n",
    "              <li>\n",
    "                low\n",
    "              </li>\n",
    "              <li>\n",
    "                med\n",
    "              </li>\n",
    "              <li>\n",
    "                high\n",
    "              </li>\n",
    "            </font>\n",
    "          </ul>\n",
    "        </li>\n",
    "        <li>\n",
    "          <font face=\"Roboto\">decision: </font>\n",
    "          نشان دهنده میزان ارزش ماشین برای خرید است که شامل یکی از ۴ نوع زیر است:\n",
    "          <ul>\n",
    "            <font face=\"Roboto\">\n",
    "              <li>\n",
    "                unacc\n",
    "              </li>\n",
    "              <li>\n",
    "                acc\n",
    "              </li>\n",
    "              <li>\n",
    "                good\n",
    "              </li>\n",
    "              <li>\n",
    "                vgood\n",
    "              </li>\n",
    "            </font>\n",
    "          </ul>\n",
    "        </li>\n",
    "      </ol>\n",
    "  </font>\n",
    "  </div>"
   ]
  },
  {
   "cell_type": "markdown",
   "id": "virtual-european",
   "metadata": {
    "ExecuteTime": {
     "end_time": "2022-09-15T14:20:11.136187Z",
     "start_time": "2022-09-15T14:20:11.120827Z"
    }
   },
   "source": [
    "<div dir=rtl id=\"classification_Reading_DataSet\">\n",
    "      <font color=\"red\" size=5>\n",
    "        خواندن و بررسی دیتاست\n",
    "      </font>\n",
    "    <hr/>\n",
    "</div>"
   ]
  },
  {
   "cell_type": "code",
   "execution_count": null,
   "id": "indonesian-current",
   "metadata": {
    "ExecuteTime": {
     "end_time": "2022-09-17T15:14:11.095692Z",
     "start_time": "2022-09-17T15:14:10.776955Z"
    },
    "id": "d5cbzOzxego6"
   },
   "outputs": [],
   "source": [
    "import numpy as np\n",
    "import pandas as pd\n",
    "import matplotlib.pyplot as plt"
   ]
  },
  {
   "cell_type": "code",
   "execution_count": null,
   "id": "utility-quarterly",
   "metadata": {
    "ExecuteTime": {
     "end_time": "2022-09-17T15:14:11.173127Z",
     "start_time": "2022-09-17T15:14:11.156314Z"
    }
   },
   "outputs": [],
   "source": [
    "car_evaluation_pdf = pd.read_csv(\"./car_evaluation.csv\", header=None)\n",
    "car_evaluation_pdf.head(3)"
   ]
  },
  {
   "cell_type": "markdown",
   "id": "twelve-lightweight",
   "metadata": {},
   "source": [
    "<div dir=rtl>\n",
    "    <font face=\"XB Zar\" size=4>\n",
    "         توجه کنید که ستون‌های این دیتاست فاقد نام هستند. با توجه به ترتیب ستون‌ها (ترتیب ستون‌ها را می‌توان در <a href=\"https://www.kaggle.com/datasets/elikplim/car-evaluation-data-set\"><font face=\"Roboto\">این لینک</font></a> دید) و به کمک کد زیر می‌توانیم این نامگذاری را انجام دهیم:\n",
    "    </font>\n",
    "</div>"
   ]
  },
  {
   "cell_type": "code",
   "execution_count": null,
   "id": "criminal-millennium",
   "metadata": {
    "ExecuteTime": {
     "end_time": "2022-09-17T15:14:12.186702Z",
     "start_time": "2022-09-17T15:14:12.172894Z"
    },
    "colab": {
     "base_uri": "https://localhost:8080/"
    },
    "id": "D_tjVmTl0WUs",
    "outputId": "3e473001-e514-4582-b374-55bf369dfbad"
   },
   "outputs": [],
   "source": [
    "car_evaluation_column_names = ['buying_price', 'maintenance_cost', 'number_of_doors', \n",
    "                               'number_of_persons', 'lug_boot', 'safety', \n",
    "                               'decision']\n",
    "car_evaluation_pdf.columns = car_evaluation_column_names\n",
    "car_evaluation_pdf.head(3)"
   ]
  },
  {
   "cell_type": "markdown",
   "id": "adaptive-allen",
   "metadata": {},
   "source": [
    "<div dir=rtl>\n",
    "    <font face=\"XB Zar\" size=4>\n",
    "        حال به کمک متد info می‌توانیم نگاهی اجمالی به دیتاست داشته باشیم:\n",
    "    </font>\n",
    "</div>"
   ]
  },
  {
   "cell_type": "code",
   "execution_count": null,
   "id": "entire-crisis",
   "metadata": {
    "ExecuteTime": {
     "end_time": "2022-09-17T15:14:13.817308Z",
     "start_time": "2022-09-17T15:14:13.796165Z"
    },
    "colab": {
     "base_uri": "https://localhost:8080/"
    },
    "execution": {
     "iopub.execute_input": "2022-09-08T17:23:58.275887Z",
     "iopub.status.busy": "2022-09-08T17:23:58.275573Z",
     "iopub.status.idle": "2022-09-08T17:23:58.309198Z",
     "shell.execute_reply": "2022-09-08T17:23:58.308143Z",
     "shell.execute_reply.started": "2022-09-08T17:23:58.275853Z"
    },
    "id": "-rUt-7j7egpD",
    "outputId": "5d2135e9-0f08-40bf-a942-217de5354c0f"
   },
   "outputs": [],
   "source": [
    "car_evaluation_pdf.info()"
   ]
  },
  {
   "cell_type": "markdown",
   "id": "wireless-boards",
   "metadata": {},
   "source": [
    "<div dir=rtl>\n",
    "    <font face=\"XB Zar\" size=4>\n",
    "        همانطور که مشاهده می‌کنید در خط اول نام این object قابل مشاهده است.<br>\n",
    "        در خط بعدی می‌توان تعداد سطر‌های این دیتاست را مشاهده کرد و این که این سر‌ها از چه عددی تا چه عددی فهرست گذاری شده‌اند.<br>\n",
    "        در خطوط بعدی می‌تواند اطلاعات ستون‌ها را مشاهده کرد.این که هر ستون شامل چند سطر دارای مقدار است و داده‌های هر سطر از چه نوعی هستند. <br>\n",
    "        در خط آخر نیز می‌توان میزان memory اشغال شده توسط این دیتاست را مشاهده کرد.    </font>\n",
    "</div>"
   ]
  },
  {
   "cell_type": "markdown",
   "id": "moderate-minutes",
   "metadata": {},
   "source": [
    "<div dir=rtl>\n",
    "    <font face=\"XB Zar\" size=4>\n",
    "        هیمنطور به کمک متد describe می‌توانیم اطلاعات بیشتری در مورد هر ستون کسب کنیم. این اطلاعات شامل:<br>\n",
    "        ۱- تعداد سطرهای هر ستون<br>\n",
    "        ۲- تعداد مقادیر منحصر به فرد در آن ستون<br>\n",
    "        ۳- بیشترین مقدار تکرار شده در آن ستون و میزان تکرار آن<br>\n",
    "        می‌باشد.\n",
    "    </font>\n",
    "</div>"
   ]
  },
  {
   "cell_type": "code",
   "execution_count": null,
   "id": "expressed-asbestos",
   "metadata": {
    "ExecuteTime": {
     "end_time": "2022-09-17T15:14:14.503626Z",
     "start_time": "2022-09-17T15:14:14.462523Z"
    }
   },
   "outputs": [],
   "source": [
    "car_evaluation_pdf.describe()"
   ]
  },
  {
   "cell_type": "markdown",
   "id": "wound-installation",
   "metadata": {},
   "source": [
    "<div dir=rtl>\n",
    "    <font face=\"XB Zar\" size=4>\n",
    "        در آخر هم خوب است که نگاهی به توزیع هر ستون داشته باشیم:\n",
    "    </font>\n",
    "</div>"
   ]
  },
  {
   "cell_type": "code",
   "execution_count": null,
   "id": "sapphire-invite",
   "metadata": {
    "ExecuteTime": {
     "end_time": "2022-09-17T15:14:15.002647Z",
     "start_time": "2022-09-17T15:14:14.982423Z"
    },
    "colab": {
     "base_uri": "https://localhost:8080/",
     "height": 300
    },
    "execution": {
     "iopub.execute_input": "2022-09-08T17:23:58.225234Z",
     "iopub.status.busy": "2022-09-08T17:23:58.224941Z",
     "iopub.status.idle": "2022-09-08T17:23:58.274266Z",
     "shell.execute_reply": "2022-09-08T17:23:58.272846Z",
     "shell.execute_reply.started": "2022-09-08T17:23:58.225206Z"
    },
    "id": "Vxei2ek5egpB",
    "outputId": "9db56a20-a46a-41bf-caac-73247ddae80f"
   },
   "outputs": [],
   "source": [
    "for column in car_evaluation_column_names:\n",
    "    print(car_evaluation_pdf[column].value_counts())  "
   ]
  },
  {
   "cell_type": "markdown",
   "id": "reflected-encoding",
   "metadata": {
    "id": "7u-9szEQ1UST"
   },
   "source": [
    "\n",
    "  <div dir=rtl id=\"classification_preprocessing\">\n",
    "    <font face=\"XB Zar\" size=4>\n",
    "      <font color=\"red\" size=5>آماده‌سازی دیتاست</font>\n",
    "      <hr />\n",
    "      قدم اول تبدیل مقادیر غیر عددی به عددی می‌اشد. این کار را به کمک LabelEncoder کتاب خانه sklearn انجام میدهیم.<br>\n",
    "        توجه شود که به کمک متد info مشاهده کردیم که تمامی خانه‌های این دیتاست دارای مقدار هستند. در غیر این صورت اولین گام دور ریختن سطر‌هایی که دارای خانه یا خانه‌های فاقد مقدار هستند می‌بود.\n",
    "    </font>\n",
    "  </div>"
   ]
  },
  {
   "cell_type": "code",
   "execution_count": null,
   "id": "underlying-saturday",
   "metadata": {
    "ExecuteTime": {
     "end_time": "2022-09-17T15:14:16.119862Z",
     "start_time": "2022-09-17T15:14:15.750800Z"
    }
   },
   "outputs": [],
   "source": [
    "from sklearn.preprocessing import LabelEncoder\n",
    "encoder = LabelEncoder()\n",
    "\n",
    "encoded_car_evaluation_pdf = car_evaluation_pdf.copy()\n",
    "\n",
    "for column in car_evaluation_pdf.columns[:-1]:\n",
    "    encoded_car_evaluation_pdf[column] = encoder.fit_transform(car_evaluation_pdf[column])\n",
    "    \n",
    "encoded_car_evaluation_pdf"
   ]
  },
  {
   "cell_type": "markdown",
   "id": "immediate-enlargement",
   "metadata": {},
   "source": [
    "\n",
    "  <div dir=rtl>\n",
    "    <font face=\"XB Zar\" size=4>\n",
    "      حال ستون برچسب را جدا می کنیم:\n",
    "    </font>\n",
    "  </div>"
   ]
  },
  {
   "cell_type": "code",
   "execution_count": null,
   "id": "alternative-charleston",
   "metadata": {
    "ExecuteTime": {
     "end_time": "2022-09-17T15:14:16.645154Z",
     "start_time": "2022-09-17T15:14:16.632454Z"
    }
   },
   "outputs": [],
   "source": [
    "X = encoded_car_evaluation_pdf.drop(['decision'], axis=1)\n",
    "\n",
    "y = encoded_car_evaluation_pdf['decision']"
   ]
  },
  {
   "cell_type": "markdown",
   "id": "korean-negative",
   "metadata": {},
   "source": [
    "  <div dir=rtl>\n",
    "    <font face=\"XB Zar\" size=4>\n",
    "      قدم آخر تقسیم دیتاست به دو قسمت:\n",
    "      <ul>\n",
    "        <font face=\"Roboto\">\n",
    "          <li>\n",
    "            Train\n",
    "          </li>\n",
    "          <li>\n",
    "            Test\n",
    "          </li>\n",
    "        </font>\n",
    "      </ul>\n",
    "      می باشد.\n",
    "    </font>\n",
    "  </div>"
   ]
  },
  {
   "cell_type": "code",
   "execution_count": null,
   "id": "moderate-morgan",
   "metadata": {
    "ExecuteTime": {
     "end_time": "2022-09-17T15:14:17.673817Z",
     "start_time": "2022-09-17T15:14:17.640466Z"
    }
   },
   "outputs": [],
   "source": [
    "from sklearn.model_selection import train_test_split\n",
    "\n",
    "X_train, X_test, y_train, y_test = train_test_split(X, y, test_size = 0.33, random_state = 42)"
   ]
  },
  {
   "cell_type": "markdown",
   "id": "configured-kingdom",
   "metadata": {},
   "source": [
    "\n",
    "  <div dir=rtl id=\"Training_classification_Decision_Treeـcriterion_entropy\">\n",
    "    <font face=\"XB Zar\" size=4>\n",
    "      <font color=\"red\" size=5>آموزش درخت تصمیم</font>\n",
    "      <hr />\n",
    "      در این بخش به کمک‌کتاب خانه sklearn، یک درخت تصمیم از نوع طبقه بندی با معیار entropy  را آموزش می‌دهیم و دقت آن را بررسی می‌کنیم \n",
    "    </font>\n",
    "  </div>"
   ]
  },
  {
   "cell_type": "code",
   "execution_count": null,
   "id": "blank-shakespeare",
   "metadata": {
    "ExecuteTime": {
     "end_time": "2022-09-17T15:14:18.903395Z",
     "start_time": "2022-09-17T15:14:18.848558Z"
    }
   },
   "outputs": [],
   "source": [
    "from sklearn.tree import DecisionTreeClassifier"
   ]
  },
  {
   "cell_type": "markdown",
   "id": "unauthorized-paradise",
   "metadata": {},
   "source": [
    "<div dir=rtl>\n",
    "    <font face=\"XB Zar\" size=4>\n",
    "        پیش از شروع نگاهی به پارامتر‌های ورودی این کلاس می‌اندازیم:<br>\n",
    "            ۱-criterion: این پارامتر، تابع معیاری که برای split کردن استفاده می‌شود را مشخص می‌کند. این پارامتر می‌تواند شامل مقادیر {“gini”, “entropy”, “log_loss”} باشد. مقدار پیش‌فرض این پارامتر \"gini\" است.<br> <br>\n",
    "            ۲-splitter: این پارامتر استراتژیی که برای split کردن هر node استفاده می‌شود را مشخص می‌کند. این پارامتر می‌تواند شامل مقادیر {“best”, “random”} باشد که به صورت پیش‌فرض مقدار \"best\" برای آن در نظر گرفته شده است.<br><br>\n",
    "            ۳-max_depth: این پارامتر نشان‌دهنده بیش‌ترین عمق قابل قبول برای درخت است. در صورتی که مقدار این پارامتر به عنوان ورودی داده نشود، عملیات split کردن تا زمانی که تمام برگ‌ها خالص شوند و یا تام برگ‌ها کمتر از پارامتر min_samples_split دارای sample باشند، ادامه پیدا می‌کند. <br><br>\n",
    "            ۴-min_samples_split: این پارامتر نشان‌دهنده کمترین تعداد قابل قبول در هر node برای split کردن می‌باشد. مقدار پیش‌فرض این پارامتر ۲ است. <br><br>\n",
    "            ۵-min_samples_leaf: این پارامتر نشان‌دهنده کمترین تعداد قابل قبول در یک برگ است. مقدار پیش‌فرض این پارامتر ۱ است.<br><br>\n",
    "            ۶-min_weight_fraction_leaf: حداقل کسر وزنی از مجموع کل وزن‌های قابل قبول در یک برگ است. مقدار پیش‌فرض این پارامتر ۰ است.<br><br>\n",
    "            ۷-max_features: این پارامتر نشان‌دهنده بیشترین تعداد قابل قبول برای تعداد ویژگی‌ها است. در صورتی که مقدار این پارامتر به عناون ورودی داده نشود، مقدار آن برابر تعداد ویژگی‌های دیتاست ورودی است.<br><br>\n",
    "            ۸-random_state: این پارامتر نحوه تصادفی بودن تولید یک درخت را مشخص می‌کند. در صورتی که دو درخت متفاوت با ویژگی‌های یکسان بر روی یک دیتاست یکسان آموزش دیده شود، یکسان بودن این مقدار در این دو درخت متفاوت تضمین می‌کند که هر دو درخت یکسان هستند.<br><br>\n",
    "            ۹-max_leaf_nodes: این پارامتر بیش ‌ترین تعداد قابل قبول برای تعداد برگ ‌ها را مشخص می‌کند. در صورتی که مقدار این پارامتر به عنوان ورودی داده نشود، این مقدار برابر بی‌نهایت است.<br><br>\n",
    "            ۱۰-min_impurity_decrease: این پارامتر نشان‌دهنده کمترین مقدار قابل قبول برای میزان کاهش ناخالصی در هنگام یک split است. مقدار پیش‌فرض این پارامتر برابر ۰ است.<br><br>\n",
    "            ۱۱-class_weight: این پارامتر وزن هر کلاس را مشخص می‌کند. در صورتی که این مقدار این پارامتر به عناون ورودی داده نشود، تمامی کلاس‌ها وزن یکسانی خواهند داشت.<br><br>\n",
    "            ۱۲-ccp_alpha: این پارامتر تعیین کننده پارامتر Complexity مورد استفاده در هرس Minimal Cost-Complexity است.<br><br>\n",
    "        برای اطلاعات بیشتر در مورد کلاس مذکور می‌توانید از طریق <a href=\"https://scikit-learn.org/stable/modules/generated/sklearn.tree.DecisionTreeClassifier.html\"><font face=\"Roboto\">این لینک</font></a> به مستند این کلاس مراجعه کنید.\n",
    "    </font>\n",
    "</div>"
   ]
  },
  {
   "cell_type": "code",
   "execution_count": null,
   "id": "infrared-threshold",
   "metadata": {
    "ExecuteTime": {
     "end_time": "2022-09-17T15:14:20.400697Z",
     "start_time": "2022-09-17T15:14:20.395872Z"
    }
   },
   "outputs": [],
   "source": [
    "clf_entropy = DecisionTreeClassifier(criterion='entropy', max_depth=3, random_state=0)"
   ]
  },
  {
   "cell_type": "markdown",
   "id": "suffering-publication",
   "metadata": {},
   "source": [
    "\n",
    "  <div dir=rtl>\n",
    "    <font face=\"XB Zar\" size=4>\n",
    "     حال به کمک متد fit می‌توانیم Decision Tree تعریف شده با parameterهای مورد نظر را بر روی دیتاست خود آموزش بدهیم:\n",
    "    </font>\n",
    "  </div>"
   ]
  },
  {
   "cell_type": "code",
   "execution_count": null,
   "id": "quiet-highlight",
   "metadata": {
    "ExecuteTime": {
     "end_time": "2022-09-17T15:14:21.100855Z",
     "start_time": "2022-09-17T15:14:21.089860Z"
    }
   },
   "outputs": [],
   "source": [
    "clf_entropy.fit(X_train, y_train)"
   ]
  },
  {
   "cell_type": "markdown",
   "id": "correct-updating",
   "metadata": {},
   "source": [
    "\n",
    "  <div dir=rtl>\n",
    "    <font face=\"XB Zar\" size=4>\n",
    "        همچنین به کمک متد predict، خروجی درخت آموزش دیده شده را مورد نظر خود محاسبه می‌کنیم:\n",
    "    </font>\n",
    "  </div>"
   ]
  },
  {
   "cell_type": "code",
   "execution_count": null,
   "id": "sixth-graphics",
   "metadata": {
    "ExecuteTime": {
     "end_time": "2022-09-17T15:14:22.632076Z",
     "start_time": "2022-09-17T15:14:22.619160Z"
    }
   },
   "outputs": [],
   "source": [
    "y_pred = clf_entropy.predict(X_test)"
   ]
  },
  {
   "cell_type": "markdown",
   "id": "viral-combine",
   "metadata": {},
   "source": [
    "\n",
    "  <div dir=rtl id=\"classification_accuracy\">\n",
    "    <font face=\"XB Zar\" size=4>\n",
    "      <font color=\"red\" size=5>بررسی دقت</font>\n",
    "      <hr />\n",
    "      برای بررسی دقت، از accuracy استفاده می‌کنیم. برای محاسبه از تابع accuracy_score کتاب‌خانه sklearn استفاده می‌کنیم: \n",
    "      </font>\n",
    "  </div>"
   ]
  },
  {
   "cell_type": "code",
   "execution_count": null,
   "id": "forced-equilibrium",
   "metadata": {
    "ExecuteTime": {
     "end_time": "2022-09-17T15:14:23.217006Z",
     "start_time": "2022-09-17T15:14:23.203210Z"
    }
   },
   "outputs": [],
   "source": [
    "from sklearn.metrics import accuracy_score\n",
    "model_accuracy_score = accuracy_score(y_test, y_pred)\n",
    "print('Model accuracy score with criterion=entropy: {0:0.4f}'. format(model_accuracy_score))"
   ]
  },
  {
   "cell_type": "markdown",
   "id": "suited-benefit",
   "metadata": {},
   "source": [
    "\n",
    "  <div dir=rtl>\n",
    "    <font face=\"XB Zar\" size=4>\n",
    "        همچنین می‌توان این کار را به کمک توابع داخلی مدل نیز انجام داد:\n",
    "    </font>\n",
    "  </div>"
   ]
  },
  {
   "cell_type": "code",
   "execution_count": null,
   "id": "timely-cover",
   "metadata": {
    "ExecuteTime": {
     "end_time": "2022-09-17T15:14:24.092976Z",
     "start_time": "2022-09-17T15:14:24.075341Z"
    }
   },
   "outputs": [],
   "source": [
    "print('Training set score: {:.4f}'.format(clf_entropy.score(X_train, y_train)))\n",
    "\n",
    "print('Test set score: {:.4f}'.format(clf_entropy.score(X_test, y_test)))"
   ]
  },
  {
   "cell_type": "markdown",
   "id": "chemical-stable",
   "metadata": {},
   "source": [
    "\n",
    "  <div dir=rtl id=\"classification_Visualization\">\n",
    "    <font face=\"XB Zar\" size=4>\n",
    "      <font color=\"red\" size=5>مصورسازی</font>\n",
    "      <hr />\n",
    "        برای بررسی بیشتر مدل‌ها می‌توانیم از مصورسازی کمک بگیریم. این مصور سازی را هم به کمک کتاب خانه sklearn و هم به کمک کتاب خانه graphviz می‌توانیم انجام دهیم.\n",
    "        برای نصب این کتاب خانه می‌توانید از دستور زیر کمک بگیرید:\n",
    "      </font>\n",
    "  </div>"
   ]
  },
  {
   "cell_type": "markdown",
   "id": "comprehensive-farming",
   "metadata": {},
   "source": [
    "  `sudo apt-get install graphviz`"
   ]
  },
  {
   "cell_type": "code",
   "execution_count": null,
   "id": "correct-investigator",
   "metadata": {
    "ExecuteTime": {
     "end_time": "2022-09-17T15:14:26.515129Z",
     "start_time": "2022-09-17T15:14:26.502260Z"
    }
   },
   "outputs": [],
   "source": [
    "from sklearn import tree\n",
    "import graphviz "
   ]
  },
  {
   "cell_type": "code",
   "execution_count": null,
   "id": "neutral-flexibility",
   "metadata": {
    "ExecuteTime": {
     "end_time": "2022-09-17T15:14:27.752861Z",
     "start_time": "2022-09-17T15:14:27.380632Z"
    }
   },
   "outputs": [],
   "source": [
    "plt.figure(figsize=(12,8))\n",
    "tree.plot_tree(clf_entropy.fit(X_train, y_train))"
   ]
  },
  {
   "cell_type": "code",
   "execution_count": null,
   "id": "asian-guidance",
   "metadata": {
    "ExecuteTime": {
     "end_time": "2022-09-17T15:14:28.615182Z",
     "start_time": "2022-09-17T15:14:28.538597Z"
    }
   },
   "outputs": [],
   "source": [
    "dot_data = tree.export_graphviz(clf_entropy, out_file=None, \n",
    "                                feature_names=X_train.columns,  \n",
    "                                class_names=y_train,  \n",
    "                                filled=True, rounded=True,  \n",
    "                                special_characters=True)\n",
    "\n",
    "graph = graphviz.Source(dot_data) \n",
    "\n",
    "graph"
   ]
  },
  {
   "cell_type": "markdown",
   "id": "global-humidity",
   "metadata": {},
   "source": [
    "\n",
    "  <div dir=rtl id=\"Training_classification_Decision_Treeـcriterion_gini\">\n",
    "    <font face=\"XB Zar\" size=4>\n",
    "      <font color=\"red\" size=5>تمرین</font>\n",
    "      <hr />\n",
    "      سعی کنید مشابه همین کار را این بار با معیار gini انجام دهید. \n",
    "    </font>\n",
    "  </div>"
   ]
  },
  {
   "cell_type": "code",
   "execution_count": null,
   "id": "reflected-updating",
   "metadata": {
    "ExecuteTime": {
     "end_time": "2022-09-17T15:14:30.253569Z",
     "start_time": "2022-09-17T15:14:30.246368Z"
    }
   },
   "outputs": [],
   "source": [
    "# clf_gini = #TODO"
   ]
  },
  {
   "cell_type": "code",
   "execution_count": null,
   "id": "challenging-spider",
   "metadata": {
    "ExecuteTime": {
     "end_time": "2022-09-17T15:14:30.682291Z",
     "start_time": "2022-09-17T15:14:30.680318Z"
    }
   },
   "outputs": [],
   "source": [
    "#TODO"
   ]
  },
  {
   "cell_type": "markdown",
   "id": "hidden-grounds",
   "metadata": {},
   "source": [
    "<div dir=rtl id=\"Regression\">\n",
    "    <font color=\"red\" size=6>\n",
    "        درخت تصمیم از نوع رگرسیون\n",
    "    </font>\n",
    "    <hr>\n",
    "</div>"
   ]
  },
  {
   "cell_type": "markdown",
   "id": "directed-prince",
   "metadata": {
    "id": "sIGyifOmnOYc"
   },
   "source": [
    "\n",
    "  <div dir=rtl id=\"regression_dataset\">\n",
    "  <font face=\"XB Zar\" size=4>\n",
    "      <font color=\"red\" size=5>\n",
    "        آشنایی با دیتاست\n",
    "      </font>\n",
    "      <hr />\n",
    "      دیتاستی که در این بخش استفاده خواهد شد، توسط NASA، و از آزمایش‌های آیرودینامیکی و آکوستیک برش‌های دو و سه بعدی تیغه‌های ایرفویل که در یک تونل باد بی صدا انجام شده به دست آمده است. در این دیتاست، میزان سطح فشار صدا مقیاس شده یا به اختصار SSPL برای انواع محتلفی از تیغه‌های ایرفویل با ویژگی‌های مختلف که در هر ستون موجود است، اندازه‌گیری شده است. این دیتاست شامل ستون‌های فرکانس(f)، زاویه حمله(alpha)، طول آکورد(c)، سرعت جریان آزاد(U_infinity)، ضخامت جابجایی سمت مکش(delta) و میزان سطح فشار صدا مقیاس(SSPL) می‌باشد.\n",
    "      برای دسترسی به دیتاست مذکور می‌توانید از <a href=\"https://www.kaggle.com/datasets/fedesoriano/airfoil-selfnoise-dataset\"><font face=\"Roboto\">این لینک</font></a> استفاده کنید. همچنین این دیتاست در همین پوشه با نام AirfoilSelfNoise.csv در اختیار شما قرار داده شده است.\n",
    "      <br />\n",
    "      </font>\n",
    "    </div>"
   ]
  },
  {
   "cell_type": "markdown",
   "id": "african-optics",
   "metadata": {
    "id": "BmZv9X3O0cxg"
   },
   "source": [
    "\n",
    "  <div dir=rtl id=\"regression_columns\">\n",
    "  <font face=\"XB Zar\" size=4>\n",
    "      <font color=\"red\" size=5>\n",
    "        آشنایی با ستون‌های دیتاست\n",
    "      </font>\n",
    "      <hr />\n",
    "      دیتاست شامل 7 ستون می‌شود:\n",
    "      <ol>\n",
    "        <li>\n",
    "          <font face=\"Roboto\">f </font>\n",
    "          </li>\n",
    "        <li>\n",
    "          <font face=\"Roboto\">alpha</font>\n",
    "        </li>\n",
    "        <li>\n",
    "          <font face=\"Roboto\">c</font>\n",
    "        </li>\n",
    "        <li>\n",
    "          <font face=\"Roboto\">U_infinity</font>\n",
    "        </li>\n",
    "        <li>\n",
    "          <font face=\"Roboto\">delta</font>\n",
    "        </li>\n",
    "        <li>\n",
    "          <font face=\"Roboto\">SSPL</font>\n",
    "        </li>\n",
    "      </ol>\n",
    "  </font>\n",
    "  </div>"
   ]
  },
  {
   "cell_type": "markdown",
   "id": "handled-female",
   "metadata": {
    "ExecuteTime": {
     "end_time": "2022-09-15T14:20:11.136187Z",
     "start_time": "2022-09-15T14:20:11.120827Z"
    }
   },
   "source": [
    "<div dir=rtl id=\"regression_Reading_DataSet\">\n",
    "      <font color=\"red\" size=5>\n",
    "        خواندن و بررسی دیتاست\n",
    "      </font>\n",
    "    <hr/>\n",
    "</div>"
   ]
  },
  {
   "cell_type": "code",
   "execution_count": null,
   "id": "following-norway",
   "metadata": {
    "ExecuteTime": {
     "end_time": "2022-09-17T15:14:33.878871Z",
     "start_time": "2022-09-17T15:14:33.870783Z"
    },
    "id": "d5cbzOzxego6"
   },
   "outputs": [],
   "source": [
    "import pandas as pd\n",
    "import matplotlib.pyplot as plt"
   ]
  },
  {
   "cell_type": "code",
   "execution_count": null,
   "id": "czech-headset",
   "metadata": {
    "ExecuteTime": {
     "end_time": "2022-09-17T15:14:34.320739Z",
     "start_time": "2022-09-17T15:14:34.304541Z"
    }
   },
   "outputs": [],
   "source": [
    "airfoil_self_noise_pdf = pd.read_csv(\"./AirfoilSelfNoise.csv\")\n",
    "airfoil_self_noise_pdf.head(3)"
   ]
  },
  {
   "cell_type": "markdown",
   "id": "hungry-cyprus",
   "metadata": {},
   "source": [
    "<div dir=rtl>\n",
    "    <font face=\"XB Zar\" size=4>\n",
    "        حال به کمک متد info می‌توانیم نگاهی اجمالی به دیتاست داشته باشیم:\n",
    "    </font>\n",
    "</div>"
   ]
  },
  {
   "cell_type": "code",
   "execution_count": null,
   "id": "boring-shooting",
   "metadata": {
    "ExecuteTime": {
     "end_time": "2022-09-17T15:14:35.490598Z",
     "start_time": "2022-09-17T15:14:35.465429Z"
    },
    "colab": {
     "base_uri": "https://localhost:8080/"
    },
    "execution": {
     "iopub.execute_input": "2022-09-08T17:23:58.275887Z",
     "iopub.status.busy": "2022-09-08T17:23:58.275573Z",
     "iopub.status.idle": "2022-09-08T17:23:58.309198Z",
     "shell.execute_reply": "2022-09-08T17:23:58.308143Z",
     "shell.execute_reply.started": "2022-09-08T17:23:58.275853Z"
    },
    "id": "-rUt-7j7egpD",
    "outputId": "5d2135e9-0f08-40bf-a942-217de5354c0f"
   },
   "outputs": [],
   "source": [
    "airfoil_self_noise_pdf.info()"
   ]
  },
  {
   "cell_type": "markdown",
   "id": "continuous-deposit",
   "metadata": {},
   "source": [
    "<div dir=rtl>\n",
    "    <font face=\"XB Zar\" size=4>\n",
    "        هیمنطور به کمک متد describe می‌توانیم اطلاعات بیشتری در مورد هر ستون کسب کنیم. با توجه به این که داده‌های هر ستون از نوع int یا float هستند، این اطلاعات شامل:<br>\n",
    "        ۱- تعداد سطرهای هر ستون<br>\n",
    "        ۲- میانگین مقادیر در هر ستون<br>\n",
    "        ۳- خطای استاندارد میانگین در هر ستون<br>\n",
    "        ۴- کمترین و بیشترین مقدار در هر ستون<br>\n",
    "        ۵- صدک‌های ۲۵،۵۰ و ۱۰۰ در هر ستون<br>\n",
    "        می‌باشد.\n",
    "    </font>\n",
    "</div>"
   ]
  },
  {
   "cell_type": "code",
   "execution_count": null,
   "id": "subsequent-presence",
   "metadata": {
    "ExecuteTime": {
     "end_time": "2022-09-17T15:14:36.331311Z",
     "start_time": "2022-09-17T15:14:36.291202Z"
    }
   },
   "outputs": [],
   "source": [
    "airfoil_self_noise_pdf.describe()"
   ]
  },
  {
   "cell_type": "markdown",
   "id": "specified-rider",
   "metadata": {},
   "source": [
    "<div dir=rtl>\n",
    "    <font face=\"XB Zar\" size=4>\n",
    "        در آخر هم خوب است که نگاهی به توزیع هر ستون داشته باشیم. با توجه به این که هر ستون، دارای مقادیر منحصربه‌فرد زیادی است، بهتر است که از نمودار‌های هیستوگرام استفاده کنیم:\n",
    "    </font>\n",
    "</div>"
   ]
  },
  {
   "cell_type": "code",
   "execution_count": null,
   "id": "ranking-interval",
   "metadata": {
    "ExecuteTime": {
     "end_time": "2022-09-17T15:14:38.245553Z",
     "start_time": "2022-09-17T15:14:37.178833Z"
    }
   },
   "outputs": [],
   "source": [
    "fig = plt.figure(figsize = (15, 20))\n",
    "ax = fig.gca()\n",
    "airfoil_self_noise_pdf.hist(ax=ax)\n",
    "plt.show()"
   ]
  },
  {
   "cell_type": "markdown",
   "id": "planned-madison",
   "metadata": {
    "id": "7u-9szEQ1UST"
   },
   "source": [
    "\n",
    "  <div dir=rtl id=\"regression_preprocessing\">\n",
    "    <font face=\"XB Zar\" size=4>\n",
    "      <font color=\"red\" size=5>آماده‌سازی دیتاست</font>\n",
    "      <hr />\n",
    "        با توجه به مشاهدات، تمامی‌ستون‌ها دارای مقادیر عددی هستند، پس، نیازی به Encode کردن آن‌ها نیست.\n",
    "      <br>\n",
    "        توجه شود که به کمک متد info مشاهده کردیم که تمامی‌خانه‌های این دیتاست دارای مقدار هستند. در غیر این صورت اولین گام دور ریختن سطر‌هایی که دارای خانه یا خانه‌های فاقد مقدار هستند می‌بود.\n",
    "    </font>\n",
    "  </div>"
   ]
  },
  {
   "cell_type": "markdown",
   "id": "framed-modern",
   "metadata": {},
   "source": [
    "\n",
    "  <div dir=rtl>\n",
    "    <font face=\"XB Zar\" size=4>\n",
    "      حال ستون برچسب جدا می کنیم:\n",
    "    </font>\n",
    "  </div>"
   ]
  },
  {
   "cell_type": "code",
   "execution_count": null,
   "id": "hungry-terrorism",
   "metadata": {
    "ExecuteTime": {
     "end_time": "2022-09-17T15:14:40.412233Z",
     "start_time": "2022-09-17T15:14:40.405688Z"
    }
   },
   "outputs": [],
   "source": [
    "X = airfoil_self_noise_pdf.drop(['SSPL'], axis=1)\n",
    "\n",
    "y = airfoil_self_noise_pdf['SSPL']"
   ]
  },
  {
   "cell_type": "markdown",
   "id": "liked-hybrid",
   "metadata": {},
   "source": [
    "  <div dir=rtl>\n",
    "    <font face=\"XB Zar\" size=4>\n",
    "      قدم آخر تقسیم دیتاست به دو قسمت:\n",
    "      <ul>\n",
    "        <font face=\"Roboto\">\n",
    "          <li>\n",
    "            Train\n",
    "          </li>\n",
    "          <li>\n",
    "            Test\n",
    "          </li>\n",
    "        </font>\n",
    "      </ul>\n",
    "      می باشد.\n",
    "    </font>\n",
    "  </div>"
   ]
  },
  {
   "cell_type": "code",
   "execution_count": null,
   "id": "equivalent-bailey",
   "metadata": {
    "ExecuteTime": {
     "end_time": "2022-09-17T15:14:41.121052Z",
     "start_time": "2022-09-17T15:14:41.105356Z"
    }
   },
   "outputs": [],
   "source": [
    "from sklearn.model_selection import train_test_split\n",
    "\n",
    "X_train, X_test, y_train, y_test = train_test_split(X, y, test_size = 0.33, random_state = 42)"
   ]
  },
  {
   "cell_type": "markdown",
   "id": "blessed-steal",
   "metadata": {},
   "source": [
    "\n",
    "  <div dir=rtl id=\"Training_regression_Decision_Tree\">\n",
    "    <font face=\"XB Zar\" size=4>\n",
    "      <font color=\"red\" size=5>آموزش درخت تصمیم</font>\n",
    "      <hr />\n",
    "      در این بخش به کمک‌کتاب خانه sklearn، یک درخت تصمیم از نوع رگرسیون را آموزش می‌دهیم و دقت آن را بررسی می‌کنیم \n",
    "    </font>\n",
    "  </div>"
   ]
  },
  {
   "cell_type": "code",
   "execution_count": null,
   "id": "alleged-philadelphia",
   "metadata": {
    "ExecuteTime": {
     "end_time": "2022-09-17T15:14:43.050515Z",
     "start_time": "2022-09-17T15:14:43.047717Z"
    }
   },
   "outputs": [],
   "source": [
    "from sklearn.tree import DecisionTreeRegressor"
   ]
  },
  {
   "cell_type": "markdown",
   "id": "critical-yugoslavia",
   "metadata": {},
   "source": [
    "<div dir=rtl>\n",
    "    <font face=\"XB Zar\" size=4>\n",
    "        پیش از شروع نگاهی به پارامتر‌های ورودی این کلاس می‌اندازیم:<br>\n",
    "            ۱-criterion: این پارامتر، تابع معیاری که برای split کردن استفاده می‌شود را مشخص می‌کند. این پارامتر می‌تواند شامل مقادیر {“squared_error”, “friedman_mse”, “absolute_error”, “poisson”}، باشد. مقدار پیش‌فرض این پارامتر \"squared_error\" است.<br> <br>\n",
    "            ۲-splitter: این پارامتر استراتژیی که برای split کردن هر node استفاده می‌شود را مشخص می‌کند. این پارامتر می‌تواند شامل مقادیر {“best”, “random”} باشد که به صورت پیش‌فرض مقدار \"best\". برای آن در نظر گرفته شده است.<br><br>\n",
    "            ۳-max_depth: این پارامتر نشان‌دهنده بیش‌ترین عمق قابل قبول برای درخت است. در صورتی که مقدار این پارامتر به عنوان ورودی داده نشود، عملیات split کردن تا زمانی که تمام برگ‌ها خالص شوند و یا تام برگ‌ها کمتر از پارامتر min_samples_split دارای sample باشند، ادامه پیدا می‌کند. <br><br>\n",
    "            ۴-min_samples_split: این پارامتر نشان‌دهنده کمترین تعداد قابل قبول در هر node برای split کردن می‌باشد. مقدار پیش‌فرض این پارامتر ۲ است. <br><br>\n",
    "            ۵-min_samples_leaf: این پارامتر نشان‌دهنده کمترین تعداد قابل قبول در یک برگ است. مقدار پیش‌فرض این پارامتر ۱ است.<br><br>\n",
    "            ۶-min_weight_fraction_leaf: حداقل کسر وزنی از مجموع کل وزن‌های قابل قبول در یک برگ است. مقدار پیش‌فرض این پارامتر ۰ است.<br><br>\n",
    "            ۷-max_features: این پارامتر نشان‌دهنده بیشترین تعداد قابل قبول برای تعداد ویژگی‌ها است. در صورتی که مقدار این پارامتر به عناون ورودی داده نشود، مقدار آن برابر تعداد ویژگی‌های دیتاست ورودی است.<br><br>\n",
    "            ۸-random_state: این پارامتر نحوه تصادفی بودن تولید یک درخت را مشخص می‌کند. در صورتی که دو درخت متفاوت با ویژگی‌های یکسان بر روی یک دیتاست یکسان آموزش دیده شود، یکسان بودن این مقدار در این دو درخت متفاوت تضمین می‌کند که هر دو درخت یکسان هستند.<br><br>\n",
    "            ۹-max_leaf_nodes: این پارامتر بیش ‌ترین تعداد قابل قبول برای تعداد برگ ‌ها را مشخص می‌کند. در صورتی که مقدار این پارامتر به عنوان ورودی داده نشود، این مقدار برابر بی‌نهایت است.<br><br>\n",
    "            ۱۰-min_impurity_decrease: این پارامتر نشان‌دهنده کمترین مقدار قابل قبول برای میزان کاهش ناخالصی در هنگام یک split است. مقدار پیش‌فرض این پارامتر برابر ۰ است.<br><br>\n",
    "            ۱۱-class_weight: این پارامتر وزن هر کلاس را مشخص می‌کند. در صورتی که این مقدار این پارامتر به عناون ورودی داده نشود، تمامی‌کلاس‌ها وزن یکسانی خواهند داشت.<br><br>\n",
    "            ۱۲-ccp_alpha: این پارامتر تعیین کننده پارامتر Complexity مورد استفاده در هرس Minimal Cost-Complexity است.<br><br>\n",
    "        برای اطلاعات بیشتر در مورد کلاس مذکور می‌توانید از طریق <a href=\"https://scikit-learn.org/stable/modules/generated/sklearn.tree.DecisionTreeClassifier.html\"><font face=\"Roboto\">این لینک</font></a> به مستند این کلاس مراجعه کنید.\n",
    "    </font>\n",
    "</div>"
   ]
  },
  {
   "cell_type": "code",
   "execution_count": null,
   "id": "coordinated-advancement",
   "metadata": {
    "ExecuteTime": {
     "end_time": "2022-09-17T15:14:43.957227Z",
     "start_time": "2022-09-17T15:14:43.949650Z"
    }
   },
   "outputs": [],
   "source": [
    "reg_tree = DecisionTreeRegressor(max_depth=7, min_samples_split=5, random_state=0)"
   ]
  },
  {
   "cell_type": "markdown",
   "id": "improving-provider",
   "metadata": {},
   "source": [
    "\n",
    "  <div dir=rtl>\n",
    "    <font face=\"XB Zar\" size=4>\n",
    "     حال به کمک متد fit می‌توانیم Decision Tree تعریف شده با parameterهای مورد نظر را بر روی دیتاست خود آموزش بدهیم:\n",
    "    </font>\n",
    "  </div>"
   ]
  },
  {
   "cell_type": "code",
   "execution_count": null,
   "id": "optional-badge",
   "metadata": {
    "ExecuteTime": {
     "end_time": "2022-09-17T15:14:45.127910Z",
     "start_time": "2022-09-17T15:14:45.108421Z"
    }
   },
   "outputs": [],
   "source": [
    "reg_tree.fit(X_train, y_train)"
   ]
  },
  {
   "cell_type": "markdown",
   "id": "relevant-revolution",
   "metadata": {},
   "source": [
    "\n",
    "  <div dir=rtl>\n",
    "    <font face=\"XB Zar\" size=4>\n",
    "        همچنین به کمک متد predict، خروجی درخت آموزش دیده شده را مورد نظر خود محاسبه می‌کنیم:\n",
    "    </font>\n",
    "  </div>"
   ]
  },
  {
   "cell_type": "code",
   "execution_count": null,
   "id": "remarkable-snowboard",
   "metadata": {
    "ExecuteTime": {
     "end_time": "2022-09-17T15:14:45.940594Z",
     "start_time": "2022-09-17T15:14:45.926078Z"
    }
   },
   "outputs": [],
   "source": [
    "y_pred = reg_tree.predict(X_test)"
   ]
  },
  {
   "cell_type": "markdown",
   "id": "closed-nursery",
   "metadata": {},
   "source": [
    "\n",
    "  <div dir=rtl id=\"regression_accuracy\">\n",
    "    <font face=\"XB Zar\" size=4>\n",
    "      <font color=\"red\" size=5>بررسی دقت</font>\n",
    "      <hr />\n",
    "      برای بررسی دقت، از تابع r2_score کتاب‌خانه sklearn استفاده می‌کنیم: \n",
    "      </font>\n",
    "  </div>"
   ]
  },
  {
   "cell_type": "code",
   "execution_count": null,
   "id": "related-chemical",
   "metadata": {
    "ExecuteTime": {
     "end_time": "2022-09-17T15:14:47.707038Z",
     "start_time": "2022-09-17T15:14:47.702647Z"
    }
   },
   "outputs": [],
   "source": [
    "from sklearn.metrics import r2_score\n",
    "model_mean_squared_error = r2_score(y_test, y_pred)\n",
    "print('Model r2_score score with criterion=entropy: {0:0.4f}'. format(model_mean_squared_error))"
   ]
  },
  {
   "cell_type": "markdown",
   "id": "future-challenge",
   "metadata": {},
   "source": [
    "\n",
    "  <div dir=rtl id=\"regression_Visualization\">\n",
    "    <font face=\"XB Zar\" size=4>\n",
    "      <font color=\"red\" size=5>مصورسازی</font>\n",
    "      <hr />\n",
    "      </font>\n",
    "  </div>"
   ]
  },
  {
   "cell_type": "code",
   "execution_count": null,
   "id": "inner-brain",
   "metadata": {
    "ExecuteTime": {
     "end_time": "2022-09-17T15:14:49.703811Z",
     "start_time": "2022-09-17T15:14:49.694488Z"
    }
   },
   "outputs": [],
   "source": [
    "from sklearn import tree\n",
    "import graphviz "
   ]
  },
  {
   "cell_type": "code",
   "execution_count": null,
   "id": "quiet-split",
   "metadata": {
    "ExecuteTime": {
     "end_time": "2022-09-17T15:14:50.355580Z",
     "start_time": "2022-09-17T15:14:50.272311Z"
    }
   },
   "outputs": [],
   "source": [
    "dot_data = tree.export_graphviz(reg_tree, out_file=None, \n",
    "                                feature_names=X_train.columns,  \n",
    "                                class_names=y_train,  \n",
    "                                filled=True, rounded=True,  \n",
    "                                special_characters=True)\n",
    "\n",
    "graph = graphviz.Source(dot_data) \n",
    "\n",
    "graph"
   ]
  },
  {
   "cell_type": "markdown",
   "id": "beginning-scanner",
   "metadata": {
    "id": "sIGyifOmnOYc"
   },
   "source": [
    "\n",
    "  <div dir=rtl id=\"Practice_1\">\n",
    "  <font face=\"XB Zar\" size=4>\n",
    "      <font color=\"red\" size=6>\n",
    "        تمرین: پیاده سازی درخت تصمیم گیری از نوع طبقه بندی\n",
    "      </font>\n",
    "      <hr />\n",
    "      در این بخش، قصد داریم تا با پیاده‌سازی یک درخت تصمیم، خوش خیم یا بدخیم بودن یک توده سرطانی را بر اساس ویژگی‌های داده شده، بررسی کنیم.\n",
    "      </font>\n",
    "    </div>"
   ]
  },
  {
   "cell_type": "markdown",
   "id": "golden-expert",
   "metadata": {},
   "source": [
    "\n",
    "  <div dir=rtl id=\"Practice_Tree\">\n",
    "  <font face=\"XB Zar\" size=4>\n",
    "      <font color=\"red\" size=5>\n",
    "        پیاده‌سازی\n",
    "      </font>\n",
    "      <hr />\n",
    "       ساختار کلی کلاس درخت تصمیم و توابع مورد نیاز آن برای شما مشخص شده است و تنها نیاز است که شما تابع information_gain آن را پیاده سازی کنید.\n",
    "      </font>\n",
    "    </div>"
   ]
  },
  {
   "cell_type": "code",
   "execution_count": null,
   "id": "simple-forwarding",
   "metadata": {
    "ExecuteTime": {
     "end_time": "2022-09-17T15:15:02.545188Z",
     "start_time": "2022-09-17T15:15:02.538770Z"
    }
   },
   "outputs": [],
   "source": [
    "import pandas as pd\n",
    "from sklearn.model_selection import train_test_split\n",
    "from sklearn.metrics import accuracy_score\n",
    "from math import log\n",
    "import random\n",
    "\n",
    "class Node:\n",
    "    def __init__(self, feature=None, threshold=None, left=None, right=None, value=None):\n",
    "        self.feature = feature\n",
    "        self.threshold = threshold\n",
    "        self.left = left\n",
    "        self.right = right\n",
    "        self.value = value\n",
    "\n",
    "    def is_leaf(self):\n",
    "        if self.value is not None:\n",
    "            return True\n",
    "        return False\n",
    "\n",
    "\n",
    "class DecisionTree:\n",
    "    def __init__(self, max_depth=None, min_samples_split=2):\n",
    "        self.max_depth = max_depth\n",
    "        self.min_samples_split = min_samples_split\n",
    "        self.root = None\n",
    "\n",
    "    def is_splitting_finished(self, depth, num_class_labels, num_samples):\n",
    "        if depth == self.max_depth:\n",
    "            return True\n",
    "        \n",
    "        if num_samples <= self.min_samples_split:\n",
    "            return True\n",
    "\n",
    "        if num_class_labels == 1:\n",
    "            return True\n",
    "\n",
    "        return False\n",
    "\n",
    "    def split(self, X, y, feature, threshold):\n",
    "        left_indexes = X[feature] <= threshold\n",
    "        right_indexes = -left_indexes\n",
    "        X_left = X[left_indexes]\n",
    "        y_left = y[left_indexes]\n",
    "        X_right = X[right_indexes]\n",
    "        y_right = y[right_indexes]\n",
    "\n",
    "        return X_left, X_right, y_left, y_right\n",
    "\n",
    "    def entropy(self, y):\n",
    "        p = len(y[y.diagnosis == 1]) / len(y)\n",
    "        if p == 1 or p == 0:\n",
    "            return 0\n",
    "        return -p * log(p, 2) - (1 - p) * log(1 - p, 2)\n",
    "\n",
    "\n",
    "    def information_gain(self, X, y, feature, threshold):\n",
    "        X_left, X_right, y_left, y_right = self.split(X, y, feature, threshold)\n",
    "        H_y = self.entropy(y)\n",
    "        p = len(X[X[feature] >= threshold]) / len(X)\n",
    "        if len(y_left) != 0:\n",
    "            # TODO\n",
    "        else:\n",
    "            # TODO\n",
    "        if len(y_right) != 0:\n",
    "            # TODO\n",
    "        else:\n",
    "            # TODO\n",
    "        H_y_given_x = None # TODO\n",
    "        return H_y - H_y_given_x\n",
    "\n",
    "    def best_split(self, X, y):\n",
    "        features = list(X.columns.values)\n",
    "        random.shuffle(features)\n",
    "        best_information_gain = 0\n",
    "        best_feature = None\n",
    "        best_threshold = None\n",
    "        for feature in features:\n",
    "            thresholds = list(set(list(X[feature])))\n",
    "            for threshold in thresholds:\n",
    "                info_gain = self.information_gain(X, y, feature, threshold)\n",
    "                if info_gain >= best_information_gain:\n",
    "                    best_information_gain = info_gain\n",
    "                    best_feature = feature\n",
    "                    best_threshold = threshold\n",
    "        return best_feature, best_threshold\n",
    "\n",
    "    def build_tree(self, X, y, depth=0):\n",
    "        if self.is_splitting_finished(depth, len(X.columns), len(X)):\n",
    "            return None\n",
    "\n",
    "        best_feature, best_threshold = self.best_split(X, y)\n",
    "        X_left, X_right, y_left, y_right = self.split(X, y, best_feature, best_threshold)\n",
    "\n",
    "        left_node = self.build_tree(X_left, y_left, depth=depth + 1)\n",
    "        right_node = self.build_tree(X_right, y_right, depth=depth + 1)\n",
    "\n",
    "        value = None\n",
    "        if left_node is None or right_node is None:\n",
    "            true_value = len(y[y['diagnosis'] == 1])\n",
    "            false_value = len(y[y['diagnosis'] == 0])\n",
    "            if true_value >= false_value:\n",
    "                value = 1\n",
    "            else:\n",
    "                value = 0\n",
    "\n",
    "        return Node(feature=best_feature, threshold=best_threshold, left=left_node, right=right_node, value=value)\n",
    "\n",
    "    def fit(self, X, y):\n",
    "        self.root = self.build_tree(X, y)\n",
    "\n",
    "    def predict(self, X):\n",
    "        tree = self.root\n",
    "        predicted_value = []\n",
    "        for index in list(X.index):\n",
    "            data = X.loc[index]\n",
    "            current_tree = tree\n",
    "            for depth in range(self.max_depth):\n",
    "                if Node.is_leaf(current_tree):\n",
    "                    predicted_value.append(current_tree.value)\n",
    "                    break\n",
    "                feature = current_tree.feature\n",
    "                threshold = current_tree.threshold\n",
    "                if data[feature] <= threshold:\n",
    "                    current_tree = current_tree.left\n",
    "                if data[feature] > threshold:\n",
    "                    current_tree = current_tree.right\n",
    "\n",
    "        return predicted_value"
   ]
  },
  {
   "cell_type": "markdown",
   "id": "numeric-banks",
   "metadata": {},
   "source": [
    "\n",
    "  <div dir=rtl id=\"Practice_dataset\">\n",
    "  <font face=\"XB Zar\" size=4>\n",
    "      <font color=\"red\" size=5>\n",
    "        بررسی دیستاست\n",
    "      </font>\n",
    "      <hr />\n",
    "       دیتاست مورد نیاز در این بخش، در همین پوشه با نام breast_cancer.csv قرار دارد. برای اطلاعات بیشتر در مورد این دیتاست به \n",
    "      <a href=\"https://www.kaggle.com/datasets/merishnasuwal/breast-cancer-prediction-dataset\">\n",
    "        <font face=\"Roboto\">\n",
    "        این لینک</font></a>\n",
    "      مراجعه کنید.<br>\n",
    "      ابتدا همانند بخش‌های قبلی دیتاست را بررسی کنید. سپس دیتاست را به دو بخش train و validation تقسیم کنید.\n",
    "      </font>\n",
    "    </div>"
   ]
  },
  {
   "cell_type": "code",
   "execution_count": null,
   "id": "offensive-amount",
   "metadata": {
    "ExecuteTime": {
     "end_time": "2022-09-17T15:15:09.856933Z",
     "start_time": "2022-09-17T15:15:09.851006Z"
    }
   },
   "outputs": [],
   "source": [
    "breast_cancer_pdf = pd.read_csv(\"breast_cancer.csv\")\n",
    "\n",
    "# TODO\n",
    "\n",
    "X = breast_cancer_pdf.drop(['diagnosis'], axis=1)\n",
    "\n",
    "y = breast_cancer_pdf[['diagnosis']]\n",
    "\n",
    "x_train, x_val, y_train, y_val = train_test_split(X, y, test_size=0.70, random_state=42)"
   ]
  },
  {
   "cell_type": "markdown",
   "id": "ruled-egypt",
   "metadata": {},
   "source": [
    "\n",
    "  <div dir=rtl id=\"Practice_hyperparameter\">\n",
    "    <font face=\"XB Zar\" size=4>\n",
    "      <font color=\"red\" size=5>بررسی دقت با hyperparameter‌های مختلف</font>\n",
    "      <hr />\n",
    "      با پر کردن مقدایر متخلف هر hyperparameter در لیست‌های هر کدام، می‌توانید دقت مدل را برای هر ترکیب از آنها مشاهده کنید. \n",
    "    </font>\n",
    "  </div>"
   ]
  },
  {
   "cell_type": "code",
   "execution_count": null,
   "id": "worthy-steam",
   "metadata": {
    "ExecuteTime": {
     "end_time": "2022-09-17T15:15:15.514410Z",
     "start_time": "2022-09-17T15:15:15.511760Z"
    }
   },
   "outputs": [],
   "source": [
    "max_depths = # TODO\n",
    "min_samples_splits = # TODO"
   ]
  },
  {
   "cell_type": "code",
   "execution_count": null,
   "id": "continent-handle",
   "metadata": {
    "ExecuteTime": {
     "end_time": "2022-09-17T15:15:20.101871Z",
     "start_time": "2022-09-17T15:15:20.097252Z"
    }
   },
   "outputs": [],
   "source": [
    "best_max_depth = None\n",
    "best_min_samples_split = None\n",
    "best_accuracy = 0\n",
    "best_model = None\n",
    "for max_depth in max_depths:\n",
    "    for min_samples_split in min_samples_splits:\n",
    "        clf = DecisionTree(max_depth, min_samples_split)\n",
    "        clf.fit(x_train, y_train)\n",
    "        y_val_pred = clf.predict(x_val)\n",
    "        y_train_pred = clf.predict(x_train)\n",
    "        accuracy = accuracy_score(y_val_pred, y_val)\n",
    "        train_accuracy = accuracy_score(y_train_pred, y_train)\n",
    "        print(f\"accuracy of training set for min_samples_splits={min_samples_split}-max_depths={max_depth} ={train_accuracy}\")\n",
    "        print(f\"accuracy of validation set for min_samples_splits={min_samples_split}-max_depths={max_depth} ={accuracy}\")\n",
    "        print(\"------------------------------------------------\")\n",
    "        if accuracy >= best_accuracy:\n",
    "            best_accuracy = accuracy\n",
    "            best_max_depth = max_depth\n",
    "            best_min_samples_split = min_samples_split\n",
    "            best_model = clf"
   ]
  }
 ],
 "metadata": {
  "kernelspec": {
   "display_name": "Python 3",
   "language": "python",
   "name": "python3"
  },
  "language_info": {
   "codemirror_mode": {
    "name": "ipython",
    "version": 3
   },
   "file_extension": ".py",
   "mimetype": "text/x-python",
   "name": "python",
   "nbconvert_exporter": "python",
   "pygments_lexer": "ipython3",
   "version": "3.6.9"
  },
  "toc": {
   "base_numbering": 1,
   "nav_menu": {},
   "number_sections": true,
   "sideBar": true,
   "skip_h1_title": false,
   "title_cell": "Table of Contents",
   "title_sidebar": "Contents",
   "toc_cell": false,
   "toc_position": {},
   "toc_section_display": true,
   "toc_window_display": false
  },
  "varInspector": {
   "cols": {
    "lenName": 16,
    "lenType": 16,
    "lenVar": 40
   },
   "kernels_config": {
    "python": {
     "delete_cmd_postfix": "",
     "delete_cmd_prefix": "del ",
     "library": "var_list.py",
     "varRefreshCmd": "print(var_dic_list())"
    },
    "r": {
     "delete_cmd_postfix": ") ",
     "delete_cmd_prefix": "rm(",
     "library": "var_list.r",
     "varRefreshCmd": "cat(var_dic_list()) "
    }
   },
   "types_to_exclude": [
    "module",
    "function",
    "builtin_function_or_method",
    "instance",
    "_Feature"
   ],
   "window_display": false
  }
 },
 "nbformat": 4,
 "nbformat_minor": 5
}
