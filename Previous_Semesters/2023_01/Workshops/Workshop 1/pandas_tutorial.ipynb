{
 "cells": [
  {
   "cell_type": "markdown",
   "metadata": {
    "id": "ZxE8j3Y77WcL"
   },
   "source": [
    "# Pandas\n",
    "\n"
   ]
  },
  {
   "cell_type": "markdown",
   "metadata": {
    "id": "UCHRgdjx7WcN"
   },
   "source": [
    "## pandas\n",
    "Pandas is a fast, powerful, flexible and easy-to-use open source data analysis and manipulation tool built on top of the Python programming language.\n"
   ]
  },
  {
   "cell_type": "code",
   "execution_count": null,
   "metadata": {
    "id": "BxhecBfb7WcQ"
   },
   "outputs": [],
   "source": [
    "import pandas as pd"
   ]
  },
  {
   "cell_type": "markdown",
   "metadata": {
    "id": "7eVJ0kud7WcR"
   },
   "source": [
    "## Reading csv files"
   ]
  },
  {
   "cell_type": "markdown",
   "metadata": {
    "id": "fDxvfJFOsa5Z"
   },
   "source": [
    "The California_housing dataset is a comprehensive collection of housing data from the state of California. It is often used in machine learning studies and projects due to its diverse and rich information.\n",
    "\n",
    "The dataset contains **20,640 observations** on **9 variables**, providing a detailed look at various factors that could influence housing prices in different districts of California. These variables might include aspects like median income, housing median age, average rooms per dwelling, average bedrooms per dwelling, population, average occupancy, latitude, and longitude.\n",
    "\n",
    "This dataset has been utilized in various projects, such as predicting median house values in California. It's a valuable resource for anyone interested in exploring the dynamics of the housing market in California or developing predictive models for real estate prices. You can find this dataset on platforms like GitHub and Kaggle."
   ]
  },
  {
   "cell_type": "code",
   "execution_count": null,
   "metadata": {
    "id": "OVD6oPyt7WcR"
   },
   "outputs": [],
   "source": [
    "train = pd.read_csv('/content/sample_data/california_housing_train.csv')\n",
    "test = pd.read_csv('/content/sample_data/california_housing_test.csv')"
   ]
  },
  {
   "cell_type": "markdown",
   "metadata": {
    "id": "EZHV3G7Z7WcS"
   },
   "source": [
    "Let's have a look at our datasets"
   ]
  },
  {
   "cell_type": "code",
   "execution_count": null,
   "metadata": {
    "colab": {
     "base_uri": "https://localhost:8080/",
     "height": 206
    },
    "id": "a7NIrvQ_7WcS",
    "outputId": "b347ec26-7307-46c8-ac68-91debdb12f2f"
   },
   "outputs": [],
   "source": [
    "train.head()"
   ]
  },
  {
   "cell_type": "code",
   "execution_count": null,
   "metadata": {
    "colab": {
     "base_uri": "https://localhost:8080/",
     "height": 206
    },
    "id": "OgRIIZ3v7WcT",
    "outputId": "349c6ffc-2b59-435a-92df-16367fe1ad75"
   },
   "outputs": [],
   "source": [
    "test.tail()"
   ]
  },
  {
   "cell_type": "code",
   "execution_count": null,
   "metadata": {
    "colab": {
     "base_uri": "https://localhost:8080/"
    },
    "id": "VpghbSAe7WcT",
    "outputId": "b8a0e655-8f4e-4b83-d5c1-3fdfc3d27088"
   },
   "outputs": [],
   "source": [
    "train.shape"
   ]
  },
  {
   "cell_type": "markdown",
   "metadata": {
    "id": "H1SFf8uE7WcU"
   },
   "source": [
    "## Creating dataframe"
   ]
  },
  {
   "cell_type": "code",
   "execution_count": null,
   "metadata": {
    "colab": {
     "base_uri": "https://localhost:8080/",
     "height": 143
    },
    "id": "aSsj-oPH7WcU",
    "outputId": "75fd2ae8-80ca-4203-c929-6d1db7229197"
   },
   "outputs": [],
   "source": [
    "Kids_data = pd.DataFrame({'Name': [\"Sarah\", \"Amir\", \"Ali\"], 'Age': [20, 22, 33], 'score':[16,12,14]})\n",
    "Kids_data"
   ]
  },
  {
   "cell_type": "markdown",
   "metadata": {
    "id": "kDBfhUVz7WcV"
   },
   "source": [
    "## Index"
   ]
  },
  {
   "cell_type": "code",
   "execution_count": null,
   "metadata": {
    "colab": {
     "base_uri": "https://localhost:8080/",
     "height": 175
    },
    "id": "5UhDTZ_F7WcV",
    "outputId": "883427f2-0f0b-468b-e51a-7a4795a59f9e"
   },
   "outputs": [],
   "source": [
    "Kids_data2 = Kids_data.set_index('Name')\n",
    "Kids_data2"
   ]
  },
  {
   "cell_type": "code",
   "execution_count": null,
   "metadata": {
    "colab": {
     "base_uri": "https://localhost:8080/",
     "height": 143
    },
    "id": "tVWtJgq-BBJj",
    "outputId": "3bbbeb34-e0e8-41b3-d854-88ae563ec838"
   },
   "outputs": [],
   "source": [
    "Kids_data3 = pd.DataFrame({'Age': [20, 22, 33], 'score':[16,12,14]},index = [\"Sarah\", \"Amir\", \"Ali\"])\n",
    "Kids_data3"
   ]
  },
  {
   "cell_type": "markdown",
   "metadata": {
    "id": "zX6nYdzi7WcX"
   },
   "source": [
    "## Renaming columns"
   ]
  },
  {
   "cell_type": "code",
   "execution_count": null,
   "metadata": {
    "colab": {
     "base_uri": "https://localhost:8080/",
     "height": 175
    },
    "id": "tPypaxMf7WcX",
    "outputId": "eb7cef39-b468-4bef-8ef4-b602aec7f69b"
   },
   "outputs": [],
   "source": [
    "Kids_data2.rename(columns = {'score': 'math_score'}, inplace = True)\n",
    "Kids_data2"
   ]
  },
  {
   "cell_type": "markdown",
   "metadata": {
    "id": "FgQB2Zol7WcX"
   },
   "source": [
    "## Dropping/Adding columns and rows"
   ]
  },
  {
   "cell_type": "code",
   "execution_count": null,
   "metadata": {
    "colab": {
     "base_uri": "https://localhost:8080/",
     "height": 175
    },
    "id": "PiTfGyh-7WcY",
    "outputId": "76fc99a5-0b44-4110-d4dc-d463f9613f6b"
   },
   "outputs": [],
   "source": [
    "Kids_data2.drop(columns = 'math_score')"
   ]
  },
  {
   "cell_type": "code",
   "execution_count": null,
   "metadata": {
    "colab": {
     "base_uri": "https://localhost:8080/",
     "height": 143
    },
    "id": "z4UYrPQb7WcY",
    "outputId": "34f03438-0f1d-448d-fd86-ee2ea33c3526"
   },
   "outputs": [],
   "source": [
    "Kids_data2.drop(\"Ali\")"
   ]
  },
  {
   "cell_type": "code",
   "execution_count": null,
   "metadata": {
    "colab": {
     "base_uri": "https://localhost:8080/",
     "height": 175
    },
    "id": "JAEhUbjgB02p",
    "outputId": "5fdaf95e-ad7f-4d5c-d778-ce6f466988f0"
   },
   "outputs": [],
   "source": [
    "Kids_data2['Salary'] = [10000, 200000, 99000]\n",
    "Kids_data2"
   ]
  },
  {
   "cell_type": "markdown",
   "metadata": {
    "id": "_-AAPZTY7Wca"
   },
   "source": [
    "## Series"
   ]
  },
  {
   "cell_type": "markdown",
   "metadata": {
    "id": "iuKc2UkE7Wcb"
   },
   "source": [
    "A series is a sequence of data values or sometimes called a list."
   ]
  },
  {
   "cell_type": "code",
   "execution_count": null,
   "metadata": {
    "colab": {
     "base_uri": "https://localhost:8080/"
    },
    "id": "G4wNnz7i7Wcb",
    "outputId": "5be96692-4a81-4a20-e79e-7f619f02563e"
   },
   "outputs": [],
   "source": [
    "pd.Series([1, 2, 3, 4, 5])"
   ]
  },
  {
   "cell_type": "code",
   "execution_count": null,
   "metadata": {
    "colab": {
     "base_uri": "https://localhost:8080/",
     "height": 143
    },
    "id": "GzoCSfzD7Wcc",
    "outputId": "0f537cbd-286a-437f-db11-c79f6253c15f"
   },
   "outputs": [],
   "source": [
    "pd.DataFrame([[99102345, 'Ali', 22], [98102345, 'Kamyar', 22], [98102777, 'Pardis', 21]], columns = ['Student_ID', 'Name', 'Age'])"
   ]
  },
  {
   "cell_type": "markdown",
   "metadata": {
    "id": "GfwCGwKJICo9"
   },
   "source": [
    "##Selection"
   ]
  },
  {
   "cell_type": "code",
   "execution_count": null,
   "metadata": {
    "colab": {
     "base_uri": "https://localhost:8080/"
    },
    "id": "oJZ299Z0INV8",
    "outputId": "e9cda4e2-0111-4fc7-e96b-b7b9c59b3821"
   },
   "outputs": [],
   "source": [
    "print(train.median_income)\n",
    "print(train[\"median_income\"])"
   ]
  },
  {
   "cell_type": "markdown",
   "metadata": {
    "id": "uugdhpCaI3Dj"
   },
   "source": [
    "We use iloc to select data based on their numerical position in the dataframe.\n",
    "\n"
   ]
  },
  {
   "cell_type": "code",
   "execution_count": null,
   "metadata": {
    "colab": {
     "base_uri": "https://localhost:8080/"
    },
    "id": "AUCdagDbIe1N",
    "outputId": "5158d467-3b72-4435-b97b-0fc4f98e4341"
   },
   "outputs": [],
   "source": [
    "train.iloc[0, :]"
   ]
  },
  {
   "cell_type": "code",
   "execution_count": null,
   "metadata": {
    "colab": {
     "base_uri": "https://localhost:8080/",
     "height": 143
    },
    "id": "lyzBsQKjI88a",
    "outputId": "27212ea7-ee02-4ee2-9aac-e44fac3dcb03"
   },
   "outputs": [],
   "source": [
    "train.iloc[[0, 1, 2], :]"
   ]
  },
  {
   "cell_type": "markdown",
   "metadata": {
    "id": "FPaEv1ZDJXZj"
   },
   "source": [
    "With loc we need to specify the actual name of the column.\n",
    "\n"
   ]
  },
  {
   "cell_type": "code",
   "execution_count": null,
   "metadata": {
    "colab": {
     "base_uri": "https://localhost:8080/"
    },
    "id": "UXUeanE3JWyq",
    "outputId": "9f2de7de-5bb6-44e1-ac49-b8221babbd6e"
   },
   "outputs": [],
   "source": [
    "train.loc[0, 'total_rooms']"
   ]
  },
  {
   "cell_type": "code",
   "execution_count": null,
   "metadata": {
    "colab": {
     "base_uri": "https://localhost:8080/",
     "height": 424
    },
    "id": "Jik_9fqjJfuC",
    "outputId": "57d7c4f3-a580-4a5b-d133-810244323a7d"
   },
   "outputs": [],
   "source": [
    "train.loc[train['housing_median_age'] > 16, :]\n"
   ]
  },
  {
   "cell_type": "code",
   "execution_count": null,
   "metadata": {
    "colab": {
     "base_uri": "https://localhost:8080/",
     "height": 424
    },
    "id": "JRo3Ts9JJrVM",
    "outputId": "b7acdad7-5c42-41f5-b0a5-8e16d2435f72"
   },
   "outputs": [],
   "source": [
    "train.loc[(train['latitude'] < 40) | (train['total_rooms'] >= 1000), :]\n"
   ]
  },
  {
   "cell_type": "markdown",
   "metadata": {
    "id": "70Fp6SvRKPsi"
   },
   "source": [
    "##Summary functions"
   ]
  },
  {
   "cell_type": "code",
   "execution_count": null,
   "metadata": {
    "colab": {
     "base_uri": "https://localhost:8080/"
    },
    "id": "sQoCJvB6KUCl",
    "outputId": "b08b09f9-da20-4892-ae71-fb66e5617ad9"
   },
   "outputs": [],
   "source": [
    "train['total_bedrooms'].describe()"
   ]
  },
  {
   "cell_type": "code",
   "execution_count": null,
   "metadata": {
    "colab": {
     "base_uri": "https://localhost:8080/"
    },
    "id": "QNzgzAeAKcKy",
    "outputId": "e259ffe3-2305-4d11-9b1a-83a127827858"
   },
   "outputs": [],
   "source": [
    "train['total_bedrooms'].value_counts()"
   ]
  },
  {
   "cell_type": "code",
   "execution_count": null,
   "metadata": {
    "colab": {
     "base_uri": "https://localhost:8080/"
    },
    "id": "D01KI1UuKlmX",
    "outputId": "982f6347-dd0e-4cd1-edbc-7a95f2b22857"
   },
   "outputs": [],
   "source": [
    "train['total_bedrooms'].min()"
   ]
  },
  {
   "cell_type": "code",
   "execution_count": null,
   "metadata": {
    "colab": {
     "base_uri": "https://localhost:8080/"
    },
    "id": "4xvnkq6yKto6",
    "outputId": "179ccde1-286f-45e5-85f3-f784b7837daa"
   },
   "outputs": [],
   "source": [
    "train.groupby('households')['total_bedrooms'].sum().sort_values(ascending = False)\n"
   ]
  },
  {
   "cell_type": "code",
   "execution_count": null,
   "metadata": {
    "colab": {
     "base_uri": "https://localhost:8080/"
    },
    "id": "NKzpdPgoLI55",
    "outputId": "89c7a794-a6af-4b73-b522-81562bb48831"
   },
   "outputs": [],
   "source": [
    "train.isnull().sum()"
   ]
  },
  {
   "cell_type": "code",
   "execution_count": null,
   "metadata": {
    "colab": {
     "base_uri": "https://localhost:8080/",
     "height": 424
    },
    "id": "ZIe6v3TpLTAp",
    "outputId": "9ee14bba-62a9-4a9e-a933-bf982701719b"
   },
   "outputs": [],
   "source": [
    "train.dropna()"
   ]
  },
  {
   "cell_type": "markdown",
   "metadata": {
    "id": "NnkaQcNDLiub"
   },
   "source": [
    "## Visualization"
   ]
  },
  {
   "cell_type": "code",
   "execution_count": null,
   "metadata": {
    "colab": {
     "base_uri": "https://localhost:8080/",
     "height": 1000
    },
    "id": "XGF4JrO3Licw",
    "outputId": "ccf32402-86d4-44e8-dfc4-b42ee862a0ae"
   },
   "outputs": [],
   "source": [
    "train"
   ]
  }
 ],
 "metadata": {
  "colab": {
   "collapsed_sections": [
    "UCHRgdjx7WcN",
    "7eVJ0kud7WcR",
    "H1SFf8uE7WcU",
    "kDBfhUVz7WcV",
    "zX6nYdzi7WcX",
    "FgQB2Zol7WcX",
    "_-AAPZTY7Wca",
    "GfwCGwKJICo9",
    "70Fp6SvRKPsi",
    "NnkaQcNDLiub"
   ],
   "provenance": []
  },
  "kernelspec": {
   "display_name": "Python 3",
   "language": "python",
   "name": "python3"
  },
  "language_info": {
   "codemirror_mode": {
    "name": "ipython",
    "version": 3
   },
   "file_extension": ".py",
   "mimetype": "text/x-python",
   "name": "python",
   "nbconvert_exporter": "python",
   "pygments_lexer": "ipython3",
   "version": "3.7.6"
  }
 },
 "nbformat": 4,
 "nbformat_minor": 0
}
