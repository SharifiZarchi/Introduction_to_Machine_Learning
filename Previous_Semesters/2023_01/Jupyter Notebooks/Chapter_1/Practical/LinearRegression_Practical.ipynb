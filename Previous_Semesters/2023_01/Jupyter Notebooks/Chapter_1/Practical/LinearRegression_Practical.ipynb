{
 "cells": [
  {
   "cell_type": "markdown",
   "metadata": {
    "id": "BspwgQKL3Na8"
   },
   "source": [
    "<font face=\"Times New Roman\" size=5><div dir=rtl align=center>\n",
    "<font face=\"Times New Roman\" size=5>\n",
    "In The Name of God\n",
    "</font>\n",
    "<br> <br>\n",
    "<img src=\"https://logoyar.com/content/wp-content/uploads/2021/04/sharif-university-logo.png\" alt=\"University Logo\" width=\"150\" height=\"150\">\n",
    "<br>\n",
    "<font face=\"Times New Roman\" size=4 align=center>\n",
    "Sharif University of Technology - Department of Computer\n",
    "</font>\n",
    "<br> <br>\n",
    "<font color=\"#008080\" size=5>\n",
    "Introduction to Machine Learning\n",
    "</font>\n",
    "\n",
    "<hr/> <br>\n",
    "<font color=\"#800080\" size=6>\n",
    "Chapter 1: Linear Regression\n",
    "<br>\n",
    "</font>\n",
    "<br>\n",
    "<font face=\"Times New Roman\" size=4>\n",
    ":authors <br>\n",
    "<b>Amirmohammad Isazadeh - Seyyed Alireza Ghazanfari</b>\n",
    "</font>\n",
    "<hr>\n",
    "</div></font>"
   ]
  },
  {
   "cell_type": "markdown",
   "metadata": {
    "id": "i6NrAXONPtcR"
   },
   "source": [
    "<font  size=5><div dir=ltr>\n",
    "<font face=\"Times New Roman\" color=\"#008080\" size=5>**Table of Contents**</font>\n",
    "<br>\n",
    "\n",
    "<font size=4>\n",
    "<ul>\n",
    "    <li>\n",
    "        <a href=\"#1\">\n",
    "            1. Linear Regression\n",
    "        </a>\n",
    "    </li>\n",
    "    <ul>\n",
    "          <li>\n",
    "                <a href=\"#1-1\">\n",
    "                    1-1. From Scratch\n",
    "                </a>\n",
    "            </li>\n",
    "        <ul>\n",
    "            <li>\n",
    "                <a href=\"#1-1-1\">\n",
    "                    1-1-1. Closed Form\n",
    "                </a>\n",
    "            </li>\n",
    "            <li>\n",
    "                <a href=\"#1-1-2\">\n",
    "                    1-1-2. Using Optimization Function (Gradient Descent)\n",
    "                </a>\n",
    "            </li>\n",
    "        </ul>\n",
    "        </ul>\n",
    "    <li>\n",
    "        <a href=\"#2\">\n",
    "            2. Beyond Linear Regression\n",
    "        </a>\n",
    "    </li>\n",
    "    <ul>\n",
    "        <li>\n",
    "            <a href=\"#2-1\">\n",
    "                2-1 Elastic Net\n",
    "            </a>\n",
    "        </li>\n",
    "        <ul>\n",
    "            <li>\n",
    "                <a href=\"#2-1-1\">\n",
    "                    2-1-1 Lasso VS Ridge\n",
    "                </a>\n",
    "            </li>\n",
    "        </ul>\n",
    "    </ul>\n",
    "</ul>\n",
    "</div>"
   ]
  },
  {
   "cell_type": "markdown",
   "metadata": {
    "id": "sBzocXtIiTbu"
   },
   "source": [
    "<font face=\"Times New Roman\"><div id=\"1\">\n",
    "# <font color=\"#800080\" size=6>**1. Linear Regression**</font>\n",
    "</div>"
   ]
  },
  {
   "cell_type": "markdown",
   "metadata": {
    "id": "rYaiPL1plrDm"
   },
   "source": [
    "<font face=\"Times New Roman\"><div id=\"1-1\">\n",
    "## <font color=\"#800080\" size=6>**1-1. From Scratch** </font>\n",
    "</div>"
   ]
  },
  {
   "cell_type": "markdown",
   "metadata": {
    "id": "swwrxuSMAESj"
   },
   "source": [
    "#### <font color=\"#008080\" face=\"Times New Roman\" size=4>**Dataset**</font>"
   ]
  },
  {
   "cell_type": "markdown",
   "metadata": {
    "id": "Ju9aCx5yAESj"
   },
   "source": [
    "##### <font color=\"#008080\" face=\"Times New Roman\" size=4> - Introduction to Dataset </font>\n",
    "\n",
    "<font face=\"Times New Roman\" size=3>\n",
    "To estimate the productivity of apples and oranges, we will use a simple dataset containing metrics like temperature, rainfall, and humidity across different regions.\n",
    "</font>"
   ]
  },
  {
   "cell_type": "markdown",
   "metadata": {
    "id": "gYuiA7fFAESk"
   },
   "source": [
    "##### <font color=\"#008080\" face=\"Times New Roman\" size=4> - Loading Dataset </font>"
   ]
  },
  {
   "cell_type": "code",
   "execution_count": null,
   "metadata": {
    "id": "FybchF26AESk"
   },
   "outputs": [],
   "source": [
    "import numpy as np\n",
    "\n",
    "# dataset (temp, rainfall, humidity, apples, oranges)\n",
    "df = np.array([[73, 67, 43, 56, 70],\n",
    "                   [91, 88, 64, 81, 101],\n",
    "                   [87, 134, 58, 119, 133],\n",
    "                   [102, 43, 37, 22, 37],\n",
    "                   [69, 96, 70, 103, 119]], dtype='float32')\n",
    "\n",
    "# reigons which are used as indexes\n",
    "regions = [\"Semnan\", \"Golestan\", \"Gilan\", \"Ghazvin\", \"Mazandaran\"]\n",
    "# parameters\n",
    "columns = [\"Temp(F)\", \"Rainfall(mm)\", \"Humidity(%)\", \"Apples(ton)\", \"Oranges(ton)\"]"
   ]
  },
  {
   "cell_type": "code",
   "execution_count": null,
   "metadata": {
    "colab": {
     "base_uri": "https://localhost:8080/",
     "height": 226
    },
    "id": "dILYYF3KwZUG",
    "outputId": "b4cff681-4be1-4734-f067-d9c231b62a1c"
   },
   "outputs": [],
   "source": [
    "# We use pandas to represent dataset\n",
    "import pandas as pd\n",
    "\n",
    "# Creating dataframe using variable columns as columns and regions as index\n",
    "df = pd.DataFrame(df, columns=columns, index=regions)\n",
    "\n",
    "df"
   ]
  },
  {
   "cell_type": "markdown",
   "metadata": {
    "id": "0BrjWqO-AESk"
   },
   "source": [
    "##### <font color=\"#008080\" face=\"Times New Roman\" size=4> - Pre-Processing Dataset</font>"
   ]
  },
  {
   "cell_type": "code",
   "execution_count": null,
   "metadata": {
    "colab": {
     "base_uri": "https://localhost:8080/"
    },
    "id": "-mpV4390AESl",
    "outputId": "06f04a07-ddc5-4804-9412-103bf36aba6d"
   },
   "outputs": [],
   "source": [
    "# Separate dataset to two parts: X (inputs) - Y (productivity amount)\n",
    "X = df.iloc[:, :3].to_numpy()\n",
    "Y = df.iloc[:, 3:].to_numpy()\n",
    "\n",
    "# Based on Y = X * W + b the element of b just add a constant value to XW so we can add 1 to each row of X without any change in the output\n",
    "X = np.append(np.ones((5, 1)), X , axis=1)\n",
    "X"
   ]
  },
  {
   "cell_type": "markdown",
   "metadata": {
    "id": "E5LZv8WxAESl"
   },
   "source": [
    "<font face=\"Times New Roman\"><div id=\"1-1-1\">\n",
    "### <font color=\"#800080\" size=5>**1-1-1. Closed Form**</font>\n",
    "</div>"
   ]
  },
  {
   "cell_type": "code",
   "execution_count": null,
   "metadata": {
    "id": "LpEmhZsmAESl"
   },
   "outputs": [],
   "source": [
    "# Closed form of Linear Regression Implementation\n",
    "\n",
    "# A function to implement its equation and return predicted W\n",
    "def normal_equation(X, Y):\n",
    "    W = np.dot((np.linalg.inv(np.dot(X.T,X))), np.dot(X.T,Y))\n",
    "    return W\n",
    "\n",
    "# .dot() represent matrix multiplication in numpy\n",
    "def lr_predict(X, W):\n",
    "    return np.dot(X, W)\n",
    "\n",
    "# Main function of closed form: it gets X and Y and returns its predictions correspond to input X\n",
    "def closed_form_lr(X, Y):\n",
    "    W = normal_equation(X, Y)\n",
    "    predictions = lr_predict(X, W)\n",
    "    return predictions\n",
    "\n",
    "# MSE loss\n",
    "def mse_loss(pred, real):\n",
    "    diff = pred - real\n",
    "    return np.sum(diff * diff) / diff.size"
   ]
  },
  {
   "cell_type": "markdown",
   "metadata": {
    "id": "DCicBNv3AESm"
   },
   "source": [
    "#### <font color=\"#008080\" face=\"Times New Roman\" size=4>**Evaluation**</font>"
   ]
  },
  {
   "cell_type": "markdown",
   "metadata": {
    "id": "n2ViYLYjAESn"
   },
   "source": [
    "##### <font color=\"#008080\" face=\"Times New Roman\" size=4> - Prediction</font>"
   ]
  },
  {
   "cell_type": "code",
   "execution_count": null,
   "metadata": {
    "id": "5Ojfx5_ewZUW"
   },
   "outputs": [],
   "source": [
    "predictions = closed_form_lr(X, Y)"
   ]
  },
  {
   "cell_type": "markdown",
   "metadata": {
    "id": "6fweiFAXAESn"
   },
   "source": [
    "##### <font color=\"#008080\" face=\"Times New Roman\" size=4> - Loss </font>"
   ]
  },
  {
   "cell_type": "code",
   "execution_count": null,
   "metadata": {
    "colab": {
     "base_uri": "https://localhost:8080/"
    },
    "id": "brnmUn7rAESn",
    "outputId": "698922d2-66a7-4d53-c260-e378d794baae"
   },
   "outputs": [],
   "source": [
    "mse_loss(predictions, Y)"
   ]
  },
  {
   "cell_type": "markdown",
   "metadata": {
    "id": "68iIHGEgAl1w"
   },
   "source": [
    "<font face=\"Times New Roman\"><div id=\"1-1-2\">\n",
    "### <font color=\"#800080\" size=5>**1-1-2. Using Optimization Function (Gradient Descent)**</font>\n",
    "</div>"
   ]
  },
  {
   "cell_type": "markdown",
   "metadata": {
    "id": "14oWGLnbAl1y"
   },
   "source": [
    "#### <font color=\"#008080\" face=\"Times New Roman\" size=4>**Start with random weights**</font>"
   ]
  },
  {
   "cell_type": "code",
   "execution_count": null,
   "metadata": {
    "colab": {
     "base_uri": "https://localhost:8080/"
    },
    "id": "ozKb37LXAl1y",
    "outputId": "69486ea1-fd6c-4ce0-9c50-1afd93a51e9e"
   },
   "outputs": [],
   "source": [
    "# Random initialization for weights\n",
    "W = np.random.rand(4, 2)\n",
    "W"
   ]
  },
  {
   "cell_type": "code",
   "execution_count": null,
   "metadata": {
    "colab": {
     "base_uri": "https://localhost:8080/"
    },
    "id": "yuMQBykZwZUe",
    "outputId": "39479d3b-1273-4084-9bcb-bf88845c9e74"
   },
   "outputs": [],
   "source": [
    "# Use lr_predict from last section to find predictions by new weights\n",
    "predictions = lr_predict(X, W)\n",
    "predictions"
   ]
  },
  {
   "cell_type": "code",
   "execution_count": null,
   "metadata": {
    "colab": {
     "base_uri": "https://localhost:8080/"
    },
    "id": "Ha7yR0A-wZUg",
    "outputId": "12295bcd-f45e-4fb2-fd15-275e5e283f65"
   },
   "outputs": [],
   "source": [
    "# Calculate loss of our predictions\n",
    "loss = mse_loss(predictions, Y)\n",
    "print(loss)"
   ]
  },
  {
   "cell_type": "markdown",
   "metadata": {
    "id": "1pM7GWcCwZUi"
   },
   "source": [
    "#### <font color=\"#008080\" face=\"Times New Roman\" size=4>**Gradient Descent**</font>"
   ]
  },
  {
   "cell_type": "code",
   "execution_count": null,
   "metadata": {
    "id": "9eFBz9ObwZUj"
   },
   "outputs": [],
   "source": [
    "# Implementation of gradient\n",
    "def calc_gradient(X, error):\n",
    "    gradient = np.dot(X.T, error)\n",
    "    return gradient\n",
    "\n",
    "# Implementation of updating weights by using their gradient\n",
    "def update_weights(W, lr, gradient):\n",
    "    new_weights = W - lr * gradient\n",
    "    return new_weights"
   ]
  },
  {
   "cell_type": "markdown",
   "metadata": {
    "id": "osVXNTRxAl1y"
   },
   "source": [
    "#### <font color=\"#008080\" face=\"Times New Roman\" size=4>**Train**</font>"
   ]
  },
  {
   "cell_type": "code",
   "execution_count": null,
   "metadata": {
    "id": "zXCt34qrAl1z"
   },
   "outputs": [],
   "source": [
    "def train_model_lr_gd(X, Y, W, n_epoches, lr):\n",
    "    losses = []\n",
    "    for i in range(n_epoches):\n",
    "        # generating the predictions\n",
    "        predictions = lr_predict(X, W)\n",
    "        error = predictions - Y\n",
    "        # calculating the loss\n",
    "        loss = mse_loss(predictions, Y)\n",
    "        # adding the loss to our loss list\n",
    "        losses.append(loss)\n",
    "        # calculating gradients\n",
    "        gradient = calc_gradient(X, error) / Y.size\n",
    "        # updating weights and biases\n",
    "        W = update_weights(W, lr, gradient)\n",
    "    return W, losses"
   ]
  },
  {
   "cell_type": "markdown",
   "metadata": {
    "id": "UNVQE4NhAl1z"
   },
   "source": [
    "#### <font color=\"#008080\" face=\"Times New Roman\" size=4>**Test**</font>"
   ]
  },
  {
   "cell_type": "code",
   "execution_count": null,
   "metadata": {
    "colab": {
     "base_uri": "https://localhost:8080/"
    },
    "id": "aGTyxoTtAl1z",
    "outputId": "67266cc7-86b6-4b76-dfc4-9f3b339e9db4"
   },
   "outputs": [],
   "source": [
    "# Use our model with learning rate 1e-5 and 10000 epochs and keep all loss values\n",
    "lr = 1e-5\n",
    "n_epoches = 10000\n",
    "W, losses = train_model_lr_gd(X, Y, W, n_epoches, lr)\n",
    "print(losses[-1])"
   ]
  },
  {
   "cell_type": "markdown",
   "metadata": {
    "id": "SULBwRA6Al10"
   },
   "source": [
    "#### <font color=\"#008080\" face=\"Times New Roman\" size=4>**Visualization**</font>"
   ]
  },
  {
   "cell_type": "code",
   "execution_count": null,
   "metadata": {
    "cellView": "form",
    "colab": {
     "base_uri": "https://localhost:8080/",
     "height": 54
    },
    "id": "ib8Or3t8Al11",
    "outputId": "247dd5cd-f02a-4715-9c99-67a7f06212d7"
   },
   "outputs": [],
   "source": [
    "import matplotlib.pyplot as plt\n",
    "\n",
    "# x axis values\n",
    "x = [i for i in range(n_epoches)]\n",
    "# corresponding y axis values\n",
    "y = losses\n",
    "\n",
    "# plotting the points\n",
    "plt.plot(x, y)\n",
    "\n",
    "# naming the x axis\n",
    "plt.xlabel('number of epoches')\n",
    "# naming the y axis\n",
    "plt.ylabel('loss')\n",
    "\n",
    "# function to show the plot\n",
    "plt.show()"
   ]
  },
  {
   "cell_type": "markdown",
   "metadata": {
    "id": "jMDGlNqnwZUu"
   },
   "source": [
    "<font face=\"Times New Roman\"><div id=\"2\">\n",
    "# <font color=\"#800080\" size=6>**2. Beyond Linear Regression**</font>\n",
    "</div>"
   ]
  },
  {
   "cell_type": "markdown",
   "metadata": {
    "id": "OZyxj4cjnzW_"
   },
   "source": [
    "<font face=\"Times New Roman\"><div id=\"2-1\">\n",
    "## <font color=\"#800080\" size=6>**2-1. Elastic Net**</font>\n",
    "</div>"
   ]
  },
  {
   "cell_type": "markdown",
   "metadata": {
    "id": "VQ5QM-42DA_1"
   },
   "source": [
    "#### <font color=\"#008080\" face=\"Times New Roman\" size=4>**Model**</font>"
   ]
  },
  {
   "cell_type": "code",
   "execution_count": null,
   "metadata": {
    "id": "Cb9U5AFnDA_2"
   },
   "outputs": [],
   "source": [
    "class Regression:\n",
    "\n",
    "    def __init__(self, regularization, lr, epoch):\n",
    "        self.m = None #samples\n",
    "        self.n = None #features\n",
    "        self.w = None #weight\n",
    "        self.b = None #bias\n",
    "        self.regularization = regularization #penalty object\n",
    "        self.lr = lr #learning rate\n",
    "        self.epoch = epoch #iteration\n",
    "\n",
    "    def __calculate_cost(self, y, y_pred):\n",
    "        return (1 / (2*self.m)) * np.sum(np.square(y_pred-y)) + self.regularization(self.w)\n",
    "\n",
    "    def __hypothesis(self, w, X):\n",
    "        return np.dot(X, w)\n",
    "\n",
    "    def __initialization(self, X):\n",
    "        X = np.insert(X, 0, 1, axis=1)\n",
    "        self.m, self.n = X.shape\n",
    "        self.w = np.zeros((self.n,1))\n",
    "        return X\n",
    "\n",
    "    def __update_parameters(self, X, y, y_pred):\n",
    "        dw = (1/self.m) * np.dot(X.T, (y_pred - y)) + self.regularization.derivation(self.w)\n",
    "        self.w = self.w - self.lr * dw\n",
    "        return True\n",
    "\n",
    "    def fit(self, X, y):\n",
    "        X = self.__initialization(X)\n",
    "        for e in range(1, self.epoch+1):\n",
    "            y_pred = self.__hypothesis(self.w, X)\n",
    "            cost = self.__calculate_cost(y, y_pred)\n",
    "            self.__update_parameters(X, y, y_pred)\n",
    "            if e % 5000 == 0:\n",
    "#                 print(f\"The Cost in iteration {e}----->{cost} :)\")\n",
    "                pass\n",
    "\n",
    "        return True\n",
    "\n",
    "    def predict(self, X_test):\n",
    "        X_test = np.insert(X_test, 0 , 1, axis= 1)\n",
    "        y_pred = self.__hypothesis(self.w, X_test)\n",
    "        return y_pred"
   ]
  },
  {
   "cell_type": "code",
   "execution_count": null,
   "metadata": {
    "id": "uxYKZQ2uCL3W"
   },
   "outputs": [],
   "source": [
    "class ElasticPenalty:\n",
    "\n",
    "    def __init__(self, l = 0.1, l_ratio = 0.5):\n",
    "        self.l = l\n",
    "        self.l_ratio = l_ratio\n",
    "\n",
    "    def __call__(self, w):\n",
    "        l1_contribution = self.l_ratio * self.l * np.sum(np.abs(w))\n",
    "        l2_contribution = (1 - self.l_ratio) * self.l * 0.5 * np.sum(np.square(w))\n",
    "        return (l1_contribution + l2_contribution)\n",
    "\n",
    "    def derivation(self, w):\n",
    "        l1_derivation = self.l * self.l_ratio * np.sign(w)\n",
    "        l2_derivation = self.l * (1 - self.l_ratio) * w\n",
    "        return (l1_derivation + l2_derivation)"
   ]
  },
  {
   "cell_type": "code",
   "execution_count": null,
   "metadata": {
    "id": "11rH2ctXCL3X"
   },
   "outputs": [],
   "source": [
    "class ElasticNet(Regression):\n",
    "\n",
    "    def __init__(self, l, l_ratio, lr, epoch):\n",
    "        self.regularization = ElasticPenalty(l,l_ratio)\n",
    "        super().__init__(self.regularization, lr, epoch)"
   ]
  },
  {
   "cell_type": "markdown",
   "metadata": {
    "id": "UYJC961EDA_2"
   },
   "source": [
    "<font face=\"Times New Roman\"><div id=\"2-1-1\">\n",
    "### <font color=\"#800080\" size=5>**2-1-1. Lasso VS Ridge**</font>\n",
    "</div>"
   ]
  },
  {
   "cell_type": "code",
   "execution_count": null,
   "metadata": {
    "colab": {
     "base_uri": "https://localhost:8080/",
     "height": 449
    },
    "id": "vx27gm_9DA_2",
    "outputId": "58e66a4c-baf0-4f15-88bd-91ea91189fa2"
   },
   "outputs": [],
   "source": [
    "from sklearn.datasets import make_regression\n",
    "\n",
    "# Creating the dataset\n",
    "X, y = make_regression(n_samples=50000, n_features=8, noise=5)\n",
    "y = y[:, np.newaxis]\n",
    "\n",
    "losses = []\n",
    "for i in range(11):\n",
    "    parameters = {\n",
    "        \"l_ratio\" : i * 0.1,\n",
    "        \"l\" : 0.1,\n",
    "        \"lr\" : 0.001,\n",
    "        \"epoch\" : 10000\n",
    "    }\n",
    "    model = ElasticNet(**parameters)\n",
    "    model.fit(X, y)\n",
    "    y_pred = model.predict(X)\n",
    "    losses.append(mse_loss(y_pred, y))\n",
    "\n",
    "x = [i * 0.1 for i in range(11)]\n",
    "y = losses\n",
    "plt.plot(x, y)\n",
    "plt.xlabel('l ratio')\n",
    "plt.ylabel('loss')\n",
    "plt.show()"
   ]
  },
  {
   "cell_type": "code",
   "execution_count": null,
   "metadata": {
    "colab": {
     "base_uri": "https://localhost:8080/",
     "height": 449
    },
    "id": "3grZumnHwZU2",
    "outputId": "d15c399f-8890-47ee-ac4e-843f3007354b"
   },
   "outputs": [],
   "source": [
    "# Creating the dataset\n",
    "X, y = make_regression(n_samples=5000, n_features=3, noise=3)\n",
    "y = y[:, np.newaxis]\n",
    "\n",
    "for i in range (5000):\n",
    "    if i % 4 == 0:\n",
    "        X[i] = X[i] * 20\n",
    "        y[i] = y[i] * 20\n",
    "losses = []\n",
    "for i in range(11):\n",
    "    parameters = {\n",
    "        \"l_ratio\" : i * 0.1,\n",
    "        \"l\" : 0.1,\n",
    "        \"lr\" : 0.0001,\n",
    "        \"epoch\" : 10000\n",
    "    }\n",
    "    model = ElasticNet(**parameters)\n",
    "    model.fit(X, y)\n",
    "    y_pred = model.predict(X)\n",
    "    losses.append(mse_loss(y_pred, y))\n",
    "x = [i * 0.1 for i in range(11)]\n",
    "y = losses\n",
    "plt.plot(x, y)\n",
    "plt.xlabel('l ratio')\n",
    "plt.ylabel('loss')\n",
    "plt.show()"
   ]
  },
  {
   "cell_type": "code",
   "execution_count": null,
   "metadata": {
    "colab": {
     "base_uri": "https://localhost:8080/",
     "height": 449
    },
    "id": "5gdYX5VhCR-o",
    "outputId": "a995bd36-a6ce-44ce-8e33-75901277599b"
   },
   "outputs": [],
   "source": [
    "# Generating polynomial dataset\n",
    "from sklearn.preprocessing import PolynomialFeatures\n",
    "\n",
    "X = np.random.randn(5000, 10)\n",
    "poly = PolynomialFeatures(degree=3)\n",
    "X = poly.fit_transform(X)\n",
    "y = np.random.randn(5000, 1)\n",
    "\n",
    "# Introducing collinearity between features\n",
    "for i in range(X.shape[1]):\n",
    "  X[:,i] = X[:,i] + 0.5*X[:,i-1]\n",
    "\n",
    "# Defining model parameters\n",
    "losses = []\n",
    "for i in range(11):\n",
    "  parameters = {\n",
    "    \"l_ratio\" : i * 0.1,\n",
    "    \"l\" : 1, # Increased regularization strength\n",
    "    \"lr\" : 0.0001,\n",
    "    \"epoch\" : 10000\n",
    "  }\n",
    "\n",
    "  # Fitting model\n",
    "  model = ElasticNet(**parameters)\n",
    "  model.fit(X, y)\n",
    "\n",
    "  # Making predictions and evaluating loss\n",
    "  y_pred = model.predict(X)\n",
    "  losses.append(mse_loss(y_pred, y))\n",
    "\n",
    "# Plotting losses\n",
    "x = [i * 0.1 for i in range(11)]\n",
    "y = losses\n",
    "plt.plot(x, y)\n",
    "plt.xlabel('l ratio')\n",
    "plt.ylabel('loss')\n",
    "plt.show()"
   ]
  }
 ],
 "metadata": {
  "colab": {
   "collapsed_sections": [
    "rYaiPL1plrDm",
    "swwrxuSMAESj",
    "gYuiA7fFAESk",
    "helJaWTOAESk",
    "0BrjWqO-AESk",
    "E5LZv8WxAESl",
    "gSvKw0pdAESm",
    "DCicBNv3AESm",
    "rpEZrgzGAESn",
    "68iIHGEgAl1w",
    "hXPBaNz8Al1x",
    "M0vNkt4dAl1x",
    "_8eHSEgJAl1x",
    "14oWGLnbAl1y",
    "osVXNTRxAl1y",
    "UNVQE4NhAl1z",
    "SULBwRA6Al10",
    "OZyxj4cjnzW_",
    "eVbZVyBbDA_0",
    "8Iel5jWADA_0",
    "sk45TUlPDA_1",
    "Jsg8bozFDA_1",
    "VQ5QM-42DA_1",
    "UYJC961EDA_2",
    "3pZCWtkeo2Q_",
    "BG6JDKXAKthv",
    "I3TA7qSXJJug",
    "vORapzaoJJug",
    "2JNOCPY3JJuh",
    "3bDvO3dZJXLK",
    "DdttC2gIJhFv",
    "d1zcyxjIJnxg",
    "PcxB-PgbJ1FT",
    "TOn8ae25J-Px",
    "RnJ3PbxLKkyu",
    "JGusVztLLKHA",
    "D2hHo3jxLKHA",
    "GYdgEkdDLKHB",
    "L-YMqtB5LKHB",
    "B-nGWBOrIrDe",
    "1kwiWMyhL0Cw",
    "EcUj0p-zL0Cw",
    "ZpIDH-M4L0Cx",
    "950JsRNjMAny",
    "iOPf8PsJMHZ4",
    "a6xyh9qQMNUh",
    "HBT59RLpIyUY",
    "XjRZm_smMaVe",
    "GjQTvUPCNGiw",
    "FnHgYu6jNcNn",
    "UuhpDpAfNhYJ",
    "sb5j_Pm8NrmT",
    "0fK-03_HNula",
    "sq_TTicpN0Rz",
    "1TgrioWuqBHB",
    "DXDtIWVI8y1_",
    "fnaXSgAZ-RoF",
    "OuleUT7a-aLd",
    "v3vX2AMI-jCL",
    "NB7H40DRqdBB",
    "0VlisYKK1BZ_",
    "lDvUSGJx15Dj",
    "PHHocSy32QI1",
    "Q7t6YQtj2Kgg",
    "n2JfuA9Wrqc4",
    "5mJ6zlBgsQVA",
    "TukJ4C4HsQVA",
    "f57VmUBasQVA",
    "HX4ZzxDNsQVB",
    "ze7ht2dosQVB",
    "vkmW7nLxtTbU",
    "VEqcnt5hwNdd",
    "fSjtED4lwXGX",
    "8p7waG2NwXN_",
    "0RYjgiwjzwKx",
    "LBfyqilLwXVo",
    "XDcH1G2wxDoG"
   ],
   "provenance": []
  },
  "kernelspec": {
   "display_name": "local-venv",
   "language": "python",
   "name": "local-venv"
  },
  "language_info": {
   "codemirror_mode": {
    "name": "ipython",
    "version": 3
   },
   "file_extension": ".py",
   "mimetype": "text/x-python",
   "name": "python",
   "nbconvert_exporter": "python",
   "pygments_lexer": "ipython3",
   "version": "3.10.6"
  }
 },
 "nbformat": 4,
 "nbformat_minor": 0
}
