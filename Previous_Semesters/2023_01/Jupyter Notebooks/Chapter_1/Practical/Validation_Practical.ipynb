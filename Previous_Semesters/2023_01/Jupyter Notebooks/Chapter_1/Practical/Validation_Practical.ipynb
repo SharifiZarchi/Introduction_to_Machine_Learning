{
 "cells": [
  {
   "cell_type": "markdown",
   "metadata": {
    "id": "BspwgQKL3Na8"
   },
   "source": [
    "<font face=\"Times New Roman\" size=5><div dir=rtl align=center>\n",
    "<font face=\"Times New Roman\" size=5>\n",
    "In The Name of God\n",
    "</font>\n",
    "<br> <br>\n",
    "<img src=\"https://logoyar.com/content/wp-content/uploads/2021/04/sharif-university-logo.png\" alt=\"University Logo\" width=\"150\" height=\"150\">\n",
    "<br>\n",
    "<font face=\"Times New Roman\" size=4 align=center>\n",
    "Sharif University of Technology - Department of Computer\n",
    "</font>\n",
    "<br> <br>\n",
    "<font color=\"#008080\" size=5>\n",
    "Introduction to Machine Learning\n",
    "</font>\n",
    "\n",
    "<hr/> <br>\n",
    "<font color=\"#800080\" size=6>\n",
    "Chapter 2: Validation\n",
    "<br>\n",
    "</font>\n",
    "<br>\n",
    "<font face=\"Times New Roman\" size=4>\n",
    ":authors <br>\n",
    "<b>Peyman Naseri - Alireza Gargoori Motlaq - Alireza Heydari - Seyyed Alireza Ghazanfari</b>\n",
    "</font>\n",
    "<hr>\n",
    "</div></font>"
   ]
  },
  {
   "cell_type": "markdown",
   "metadata": {
    "id": "i6NrAXONPtcR"
   },
   "source": [
    "<font  size=5><div dir=ltr>\n",
    "<font face=\"Times New Roman\" color=\"#008080\" size=5>**Table of Contents**</font>\n",
    "<br>\n",
    "\n",
    "<font size=4>\n",
    "<ul>\n",
    "    <li>\n",
    "        <a href=\"#0\">\n",
    "            0. Dataset\n",
    "        </a>\n",
    "    </li>\n",
    "    <li>\n",
    "        <a href=\"#1\">\n",
    "            1. Validation\n",
    "        </a>\n",
    "    </li>\n",
    "    <ul>\n",
    "        <li>\n",
    "            <a href=\"#1-1\">\n",
    "                1-1. Accuracy\n",
    "            </a>\n",
    "        </li>\n",
    "        <li>\n",
    "            <a href=\"#1-2\">\n",
    "                1-2. Confusion Matrix\n",
    "            </a>\n",
    "        </li>\n",
    "        <ul>\n",
    "            <li>\n",
    "                <a href=\"#1-2-1\">1-2-1. Precision</a>\n",
    "            </li>\n",
    "            <li>\n",
    "                <a href=\"#1-2-2\">1-2-2. Recall</a>\n",
    "            </li>\n",
    "            <li>\n",
    "                <a href=\"#1-2-3\">1-2-3. F1 Score</a>\n",
    "            </li>\n",
    "        </ul>\n",
    "        <li>\n",
    "            <a href=\"#1-3\">\n",
    "                1-3. Precision/Recall Tradeoff\n",
    "            </a>\n",
    "        </li>\n",
    "        <li>\n",
    "            <a href=\"#1-4\">\n",
    "                1-4. ROC\n",
    "            </a>\n",
    "        </li>\n",
    "        <ul>\n",
    "            <li><a href=\"#1-4-1\">1-4-1. AUC</a></li>\n",
    "        </ul>\n",
    "    </ul>\n",
    "</ul>\n",
    "</div>"
   ]
  },
  {
   "cell_type": "markdown",
   "metadata": {
    "id": "sBzocXtIiTbu"
   },
   "source": [
    "<font face=\"Times New Roman\"><div id=\"0\">\n",
    "# <font color=\"#800080\" size=6>**0. Dataset**</font>\n",
    "</div>"
   ]
  },
  {
   "cell_type": "markdown",
   "metadata": {
    "id": "Ju9aCx5yAESj"
   },
   "source": [
    "##### <font color=\"#008080\" face=\"Times New Roman\" size=4> - Introduction to Dataset </font>\n",
    "\n",
    "<font face=\"Times New Roman\" size=3>\n",
    "The MNIST dataset includes 70,000 images of handwritten single digits.\n",
    "</font>"
   ]
  },
  {
   "cell_type": "markdown",
   "metadata": {
    "id": "gYuiA7fFAESk"
   },
   "source": [
    "##### <font color=\"#008080\" face=\"Times New Roman\" size=4> - Loading Dataset </font>"
   ]
  },
  {
   "cell_type": "code",
   "execution_count": null,
   "metadata": {
    "colab": {
     "base_uri": "https://localhost:8080/"
    },
    "id": "FybchF26AESk",
    "outputId": "ab454ada-927b-4159-cacc-5ca02fd4b138"
   },
   "outputs": [],
   "source": [
    "import numpy as np\n",
    "from sklearn.datasets import fetch_openml\n",
    "mnist = fetch_openml('mnist_784', version=1, as_frame=False)\n",
    "mnist.keys()"
   ]
  },
  {
   "cell_type": "markdown",
   "metadata": {
    "id": "0BrjWqO-AESk"
   },
   "source": [
    "##### <font color=\"#008080\" face=\"Times New Roman\" size=4> - Pre-Processing Dataset</font>"
   ]
  },
  {
   "cell_type": "code",
   "execution_count": null,
   "metadata": {
    "colab": {
     "base_uri": "https://localhost:8080/"
    },
    "id": "-mpV4390AESl",
    "outputId": "8cb3365f-64f2-4183-94d7-09feb9b54887"
   },
   "outputs": [],
   "source": [
    "X, y = mnist[\"data\"], mnist[\"target\"]\n",
    "y = y.astype(np.uint8)\n",
    "print(X.shape, y.shape)"
   ]
  },
  {
   "cell_type": "markdown",
   "metadata": {
    "id": "m11X6nmeTZ3u"
   },
   "source": [
    "##### <font color=\"#008080\" face=\"Times New Roman\" size=4> - Visualizing Dataset</font>"
   ]
  },
  {
   "cell_type": "code",
   "execution_count": null,
   "metadata": {
    "colab": {
     "base_uri": "https://localhost:8080/",
     "height": 406
    },
    "id": "eAqfJGHATZ3w",
    "outputId": "914fa6d9-e96b-46f1-9896-d77c93f10eeb"
   },
   "outputs": [],
   "source": [
    "%matplotlib inline\n",
    "import matplotlib as mpl\n",
    "import matplotlib.pyplot as plt\n",
    "\n",
    "def plot_digit(data):\n",
    "    image = data.reshape(28, 28)\n",
    "    plt.imshow(image, cmap = mpl.cm.binary,\n",
    "               interpolation=\"nearest\")\n",
    "    plt.axis(\"off\")\n",
    "\n",
    "\n",
    "digit = X[0]\n",
    "plot_digit(digit)"
   ]
  },
  {
   "cell_type": "markdown",
   "metadata": {
    "id": "JX1sSKYiTZ3x"
   },
   "source": [
    "<font face=\"Times New Roman\"><div id=\"1\">\n",
    "# <font color=\"#800080\" size=6>**1. Validation**</font>\n",
    "</div>"
   ]
  },
  {
   "cell_type": "markdown",
   "metadata": {
    "id": "DCicBNv3AESm"
   },
   "source": [
    "#### <font color=\"#008080\" face=\"Times New Roman\" size=4>**Binary Classifier Training**</font>"
   ]
  },
  {
   "cell_type": "code",
   "execution_count": null,
   "metadata": {
    "colab": {
     "base_uri": "https://localhost:8080/"
    },
    "id": "Bqk1_Ex4TZ3z",
    "outputId": "dee4611c-5b61-4f45-c15b-d77d5fc199e2"
   },
   "outputs": [],
   "source": [
    "from sklearn.model_selection import train_test_split\n",
    "X_train, X_test, y_train, y_test = train_test_split(X, y, test_size=0.25, random_state=42)\n",
    "\n",
    "y_train_5 = (y_train == 5)\n",
    "y_test_5 = (y_test == 5)\n",
    "\n",
    "y_train_5"
   ]
  },
  {
   "cell_type": "code",
   "execution_count": null,
   "metadata": {
    "colab": {
     "base_uri": "https://localhost:8080/",
     "height": 0
    },
    "id": "rZlZYEB_TZ30",
    "outputId": "89566936-495a-4fd4-da35-c805903d31cf"
   },
   "outputs": [],
   "source": [
    "from sklearn.svm import SVC\n",
    "\n",
    "svm_clf = SVC(kernel='rbf', C = 0.03, random_state=42)\n",
    "svm_clf.fit(X_train, y_train_5)"
   ]
  },
  {
   "cell_type": "markdown",
   "metadata": {
    "id": "5OBBHU2-TZ31"
   },
   "source": [
    "#### <font color=\"#008080\" face=\"Times New Roman\" size=4>**Evaluation**</font>"
   ]
  },
  {
   "cell_type": "markdown",
   "metadata": {
    "id": "8QW4lldETZ32"
   },
   "source": [
    "##### <font color=\"#008080\" face=\"Times New Roman\" size=4> - Prediction</font>"
   ]
  },
  {
   "cell_type": "code",
   "execution_count": null,
   "metadata": {
    "colab": {
     "base_uri": "https://localhost:8080/"
    },
    "id": "vnYPwexbTZ32",
    "outputId": "0fbe5233-8f8e-42c7-ecbe-205c6da3a2bd"
   },
   "outputs": [],
   "source": [
    "svm_clf.predict([digit])"
   ]
  },
  {
   "cell_type": "markdown",
   "metadata": {
    "id": "oC7HRPGlTZ33"
   },
   "source": [
    "<font face=\"Times New Roman\"><div id=\"1-1\">\n",
    "## <font color=\"#800080\" size=6>**1-1. Accuracy**</font>\n",
    "</div>"
   ]
  },
  {
   "cell_type": "code",
   "execution_count": null,
   "metadata": {
    "colab": {
     "base_uri": "https://localhost:8080/"
    },
    "id": "mK9o0FrOTZ34",
    "outputId": "9c56b1ea-2858-447f-bac7-3a70089b99ed"
   },
   "outputs": [],
   "source": [
    "from sklearn.metrics import accuracy_score\n",
    "\n",
    "svm_clf_predictions = svm_clf.predict(X_test)\n",
    "accuracy = accuracy_score(y_test_5, svm_clf_predictions)\n",
    "\n",
    "print(\"Accuracy of the 5 classifier is:\", accuracy)"
   ]
  },
  {
   "cell_type": "code",
   "execution_count": null,
   "metadata": {
    "colab": {
     "base_uri": "https://localhost:8080/"
    },
    "id": "5_ZNUsQPTZ35",
    "outputId": "d3e302b7-ae85-4d41-d0fc-3835c80a2269"
   },
   "outputs": [],
   "source": [
    "# upper code had good acc but see this classifier too. It classify each input as a not 5 number.\n",
    "from sklearn.base import BaseEstimator\n",
    "\n",
    "class Never5Classifier(BaseEstimator):\n",
    "    def fit(self, X, y=None):\n",
    "        pass\n",
    "    def predict(self, X):\n",
    "        return np.zeros((len(X), 1), dtype=bool)\n",
    "\n",
    "never_5_clf = Never5Classifier()\n",
    "never_5_clf_predictions = never_5_clf.predict(X_test)\n",
    "# pay attention about 10% of inputs are 5 so we should get around 90% accuracy for this one too.\n",
    "accuracy_score(y_test_5, never_5_clf_predictions)"
   ]
  },
  {
   "cell_type": "markdown",
   "metadata": {
    "id": "i6v4gfx6TZ36"
   },
   "source": [
    "<font face=\"Times New Roman\"><div id=\"1-2\">\n",
    "## <font color=\"#800080\" size=6>**1-2. Confusion Matrix**</font>\n",
    "</div>"
   ]
  },
  {
   "cell_type": "code",
   "execution_count": null,
   "metadata": {
    "colab": {
     "base_uri": "https://localhost:8080/"
    },
    "id": "jImOYmmNTZ37",
    "outputId": "3a5fd8b1-39e0-430f-acbc-b85d585d9246"
   },
   "outputs": [],
   "source": [
    "from sklearn.metrics import confusion_matrix\n",
    "# confusion matrix\n",
    "#  -----------------\n",
    "# |   TN   |  FP    |\n",
    "# ------------------\n",
    "# |   FN   |  TP    |\n",
    "#  -----------------\n",
    "svm_confusion_matrix = confusion_matrix(y_test_5, svm_clf_predictions)\n",
    "print(svm_confusion_matrix)"
   ]
  },
  {
   "cell_type": "markdown",
   "metadata": {
    "id": "E5LZv8WxAESl"
   },
   "source": [
    "<font face=\"Times New Roman\"><div id=\"1-2-1\">\n",
    "### <font color=\"#800080\" size=5>**1-2-1. Precision**</font>\n",
    "Also called Specificity\n",
    "</div>"
   ]
  },
  {
   "cell_type": "code",
   "execution_count": null,
   "metadata": {
    "colab": {
     "base_uri": "https://localhost:8080/"
    },
    "id": "RTVoh5NyTZ39",
    "outputId": "63925b82-997f-431d-c2e5-da24635250cb"
   },
   "outputs": [],
   "source": [
    "# precision = TP / (TP + FP)\n",
    "from sklearn.metrics import precision_score\n",
    "\n",
    "svm_y_train_pred = svm_clf.predict(X_train)\n",
    "print('Precision =', precision_score(y_train_5, svm_y_train_pred))"
   ]
  },
  {
   "cell_type": "markdown",
   "metadata": {
    "id": "yaJbQQ7ZTZ3-"
   },
   "source": [
    "<font face=\"Times New Roman\"><div id=\"1-2-2\">\n",
    "### <font color=\"#800080\" size=5>**1-2-2. Reall**</font>\n",
    "Also called Sensitivity\n",
    "</div>"
   ]
  },
  {
   "cell_type": "code",
   "execution_count": null,
   "metadata": {
    "colab": {
     "base_uri": "https://localhost:8080/"
    },
    "id": "ph62HaubTZ3_",
    "outputId": "819ab226-50d8-45d0-e25f-77b292e321a4"
   },
   "outputs": [],
   "source": [
    "# recall = TP / (TP + FN)\n",
    "from sklearn.metrics import recall_score\n",
    "\n",
    "print('Recall =', recall_score(y_train_5, svm_y_train_pred))"
   ]
  },
  {
   "cell_type": "markdown",
   "metadata": {
    "id": "c2jqrrMnTZ4A"
   },
   "source": [
    "<font face=\"Times New Roman\"><div id=\"1-2-3\">\n",
    "### <font color=\"#800080\" size=5>**1-2-3. F1 Score**</font>\n",
    "</div>"
   ]
  },
  {
   "cell_type": "code",
   "execution_count": null,
   "metadata": {
    "colab": {
     "base_uri": "https://localhost:8080/"
    },
    "id": "inUkmwtTTZ4A",
    "outputId": "b26437fb-f8d5-4945-8514-a823f5693f9e"
   },
   "outputs": [],
   "source": [
    "# f1_score = (2 * precision * recall) / (precision + recall)\n",
    "from sklearn.metrics import f1_score\n",
    "\n",
    "print(\"F1_score =\", f1_score(y_train_5, svm_y_train_pred))"
   ]
  },
  {
   "cell_type": "markdown",
   "metadata": {
    "id": "KvDXfx7DTZ4B"
   },
   "source": [
    "<font face=\"Times New Roman\"><div id=\"1-3\">\n",
    "## <font color=\"#800080\" size=6>**1-3. Precision/Recall TradeOff**</font>\n",
    "</div>"
   ]
  },
  {
   "cell_type": "code",
   "execution_count": null,
   "metadata": {
    "colab": {
     "base_uri": "https://localhost:8080/"
    },
    "id": "fQ4rYeWnTZ4C",
    "outputId": "a3d33ca8-143d-491b-df2d-736b6401ad5c"
   },
   "outputs": [],
   "source": [
    "#Get the scores for train set predictions\n",
    "svm_train_scores = svm_clf.decision_function(X_train)\n",
    "\n",
    "from sklearn.metrics import precision_recall_curve\n",
    "precisions, recalls, thresholds = precision_recall_curve(y_train_5, svm_train_scores)\n",
    "\n",
    "thresholds"
   ]
  },
  {
   "cell_type": "markdown",
   "metadata": {
    "id": "khO4K9ifTZ4D"
   },
   "source": [
    "#### <font color=\"#008080\" face=\"Times New Roman\" size=4>**Visualizing**</font>"
   ]
  },
  {
   "cell_type": "code",
   "execution_count": null,
   "metadata": {
    "colab": {
     "base_uri": "https://localhost:8080/",
     "height": 399
    },
    "id": "o5BghOaFTZ4E",
    "outputId": "6660fe69-2a16-44f0-8bd6-90950f5ab71e"
   },
   "outputs": [],
   "source": [
    "def plot_precision_recall_vs_threshold(precisions, recalls, thresholds):\n",
    "    plt.plot(thresholds, precisions[:-1], \"b--\", label=\"Precision\", linewidth=2)\n",
    "    plt.plot(thresholds, recalls[:-1], \"g-\", label=\"Recall\", linewidth=2)\n",
    "    plt.legend(loc=\"center right\", fontsize=16)\n",
    "    plt.xlabel(\"Threshold\", fontsize=16)\n",
    "    plt.grid(True)\n",
    "    plt.axis([-2.5, 2.5, 0, 1])\n",
    "\n",
    "\n",
    "\n",
    "recall_90_precision = recalls[np.argmax(precisions >= 0.90)]\n",
    "threshold_90_precision = thresholds[np.argmax(precisions >= 0.90)]\n",
    "\n",
    "\n",
    "plt.figure(figsize=(8, 4))\n",
    "plot_precision_recall_vs_threshold(precisions, recalls, thresholds)\n",
    "plt.plot([threshold_90_precision, threshold_90_precision], [0., 0.9], \"r:\")\n",
    "plt.plot([-2.5, threshold_90_precision], [0.9, 0.9], \"r:\")\n",
    "plt.plot([-2.5, threshold_90_precision], [recall_90_precision, recall_90_precision], \"r:\")\n",
    "plt.plot([threshold_90_precision], [0.9], \"ro\")\n",
    "plt.plot([threshold_90_precision], [recall_90_precision], \"ro\")\n",
    "plt.show()"
   ]
  },
  {
   "cell_type": "code",
   "execution_count": null,
   "metadata": {
    "colab": {
     "base_uri": "https://localhost:8080/",
     "height": 553
    },
    "id": "TVcDsnNKTZ4G",
    "outputId": "40efeece-fd39-429a-b148-3d7217e793c7"
   },
   "outputs": [],
   "source": [
    "def plot_precision_vs_recall(precisions, recalls):\n",
    "    plt.plot(recalls, precisions, \"b-\", linewidth=2)\n",
    "    plt.xlabel(\"Recall\", fontsize=16)\n",
    "    plt.ylabel(\"Precision\", fontsize=16)\n",
    "    plt.axis([0, 1, 0, 1])\n",
    "    plt.grid(True)\n",
    "\n",
    "plt.figure(figsize=(8, 6))\n",
    "plot_precision_vs_recall(precisions, recalls)\n",
    "plt.plot([recall_90_precision, recall_90_precision], [0., 0.9], \"r:\")\n",
    "plt.plot([0.0, recall_90_precision], [0.9, 0.9], \"r:\")\n",
    "plt.plot([recall_90_precision], [0.9], \"ro\")\n",
    "plt.show()"
   ]
  },
  {
   "cell_type": "markdown",
   "metadata": {
    "id": "bXmJOSH-TZ4H"
   },
   "source": [
    "#### <font color=\"#008080\" face=\"Times New Roman\" size=4>**Test**</font>"
   ]
  },
  {
   "cell_type": "code",
   "execution_count": null,
   "metadata": {
    "colab": {
     "base_uri": "https://localhost:8080/"
    },
    "id": "67U5RXfcTZ4I",
    "outputId": "3079282a-39b2-4838-8293-ec53716947a2"
   },
   "outputs": [],
   "source": [
    "# find a suitable condition for achieving 90% recall based on trade off and check the result\n",
    "threshold_90_recall = thresholds[np.argmax(recalls >= 0.90)]\n",
    "print(\"Threshold value for 90% recall =\", threshold_90_recall)\n",
    "\n",
    "svm_y_train_pred_90 = (svm_train_scores >= threshold_90_precision)\n",
    "print(\"Precision =\", precision_score(y_train_5, svm_y_train_pred_90))\n",
    "print(\"Recall =\", recall_score(y_train_5, svm_y_train_pred_90))"
   ]
  },
  {
   "cell_type": "markdown",
   "metadata": {
    "id": "2sEJIt5hTZ4J"
   },
   "source": [
    "<font face=\"Times New Roman\"><div id=\"1-4\">\n",
    "## <font color=\"#800080\" size=6>**1-4. ROC (ROC Curve)**</font>\n",
    "</div>"
   ]
  },
  {
   "cell_type": "code",
   "execution_count": null,
   "metadata": {
    "colab": {
     "base_uri": "https://localhost:8080/",
     "height": 553
    },
    "id": "DgwVdfH0TZ4K",
    "outputId": "3a1f89f2-a9b0-40dc-8b3a-b70da8e288cd"
   },
   "outputs": [],
   "source": [
    "# it is like precision-recall curve, it shows recall based on false positive rate\n",
    "from sklearn.metrics import roc_curve\n",
    "\n",
    "fpr, tpr, thresholds = roc_curve(y_train_5, svm_train_scores)\n",
    "\n",
    "def plot_roc_curve(fpr, tpr, label=None):\n",
    "    plt.plot(fpr, tpr, linewidth=2, label=label)\n",
    "    plt.plot([0, 1], [0, 1], 'k--') # dashed diagonal\n",
    "    plt.axis([0, 1, 0, 1])\n",
    "    plt.xlabel('False Positive Rate (Fall-Out)', fontsize=16)\n",
    "    plt.ylabel('True Positive Rate (Recall)', fontsize=16)\n",
    "    plt.grid(True)\n",
    "\n",
    "plt.figure(figsize=(8, 6))\n",
    "plot_roc_curve(fpr, tpr)\n",
    "fpr_90 = fpr[np.argmax(tpr >= recall_90_precision)]\n",
    "plt.plot([fpr_90, fpr_90], [0., recall_90_precision], \"r:\")\n",
    "plt.plot([0.0, fpr_90], [recall_90_precision, recall_90_precision], \"r:\")\n",
    "plt.plot([fpr_90], [recall_90_precision], \"ro\")\n",
    "plt.show()"
   ]
  },
  {
   "cell_type": "markdown",
   "metadata": {
    "id": "GI8tuDwxTZ4L"
   },
   "source": [
    "<font face=\"Times New Roman\"><div id=\"1-4-1\">\n",
    "### <font color=\"#800080\" size=5>**1-4-1. AUC**</font>\n",
    "</div>"
   ]
  },
  {
   "cell_type": "code",
   "execution_count": null,
   "metadata": {
    "colab": {
     "base_uri": "https://localhost:8080/"
    },
    "id": "CXP3CEPbTZ4M",
    "outputId": "4efe321f-326e-4a91-ea22-2611180782eb"
   },
   "outputs": [],
   "source": [
    "from sklearn.metrics import roc_auc_score\n",
    "print(\"AUC =\", roc_auc_score(y_train_5, svm_train_scores))"
   ]
  }
 ],
 "metadata": {
  "colab": {
   "collapsed_sections": [
    "rYaiPL1plrDm",
    "swwrxuSMAESj",
    "gYuiA7fFAESk",
    "helJaWTOAESk",
    "0BrjWqO-AESk",
    "E5LZv8WxAESl",
    "gSvKw0pdAESm",
    "DCicBNv3AESm",
    "rpEZrgzGAESn",
    "68iIHGEgAl1w",
    "hXPBaNz8Al1x",
    "M0vNkt4dAl1x",
    "_8eHSEgJAl1x",
    "14oWGLnbAl1y",
    "osVXNTRxAl1y",
    "UNVQE4NhAl1z",
    "SULBwRA6Al10",
    "OZyxj4cjnzW_",
    "eVbZVyBbDA_0",
    "8Iel5jWADA_0",
    "sk45TUlPDA_1",
    "Jsg8bozFDA_1",
    "VQ5QM-42DA_1",
    "UYJC961EDA_2",
    "3pZCWtkeo2Q_",
    "BG6JDKXAKthv",
    "I3TA7qSXJJug",
    "vORapzaoJJug",
    "2JNOCPY3JJuh",
    "3bDvO3dZJXLK",
    "DdttC2gIJhFv",
    "d1zcyxjIJnxg",
    "PcxB-PgbJ1FT",
    "TOn8ae25J-Px",
    "RnJ3PbxLKkyu",
    "JGusVztLLKHA",
    "D2hHo3jxLKHA",
    "GYdgEkdDLKHB",
    "L-YMqtB5LKHB",
    "B-nGWBOrIrDe",
    "1kwiWMyhL0Cw",
    "EcUj0p-zL0Cw",
    "ZpIDH-M4L0Cx",
    "950JsRNjMAny",
    "iOPf8PsJMHZ4",
    "a6xyh9qQMNUh",
    "HBT59RLpIyUY",
    "XjRZm_smMaVe",
    "GjQTvUPCNGiw",
    "FnHgYu6jNcNn",
    "UuhpDpAfNhYJ",
    "sb5j_Pm8NrmT",
    "0fK-03_HNula",
    "sq_TTicpN0Rz",
    "1TgrioWuqBHB",
    "DXDtIWVI8y1_",
    "fnaXSgAZ-RoF",
    "OuleUT7a-aLd",
    "v3vX2AMI-jCL",
    "NB7H40DRqdBB",
    "0VlisYKK1BZ_",
    "lDvUSGJx15Dj",
    "PHHocSy32QI1",
    "Q7t6YQtj2Kgg",
    "n2JfuA9Wrqc4",
    "5mJ6zlBgsQVA",
    "TukJ4C4HsQVA",
    "f57VmUBasQVA",
    "HX4ZzxDNsQVB",
    "ze7ht2dosQVB",
    "vkmW7nLxtTbU",
    "VEqcnt5hwNdd",
    "fSjtED4lwXGX",
    "8p7waG2NwXN_",
    "0RYjgiwjzwKx",
    "LBfyqilLwXVo",
    "XDcH1G2wxDoG"
   ],
   "provenance": []
  },
  "kernelspec": {
   "display_name": "local-venv",
   "language": "python",
   "name": "local-venv"
  },
  "language_info": {
   "codemirror_mode": {
    "name": "ipython",
    "version": 3
   },
   "file_extension": ".py",
   "mimetype": "text/x-python",
   "name": "python",
   "nbconvert_exporter": "python",
   "pygments_lexer": "ipython3",
   "version": "3.10.6"
  }
 },
 "nbformat": 4,
 "nbformat_minor": 0
}
