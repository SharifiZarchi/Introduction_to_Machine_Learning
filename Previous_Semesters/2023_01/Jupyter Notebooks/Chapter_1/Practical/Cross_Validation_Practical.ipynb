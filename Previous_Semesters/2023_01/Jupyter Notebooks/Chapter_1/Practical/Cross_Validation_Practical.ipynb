{
 "cells": [
  {
   "cell_type": "markdown",
   "metadata": {
    "id": "BspwgQKL3Na8"
   },
   "source": [
    "<font face=\"Times New Roman\" size=5><div dir=rtl align=center>\n",
    "<font face=\"Times New Roman\" size=5>\n",
    "In The Name of God\n",
    "</font>\n",
    "<br> <br>\n",
    "<img src=\"https://logoyar.com/content/wp-content/uploads/2021/04/sharif-university-logo.png\" alt=\"University Logo\" width=\"150\" height=\"150\">\n",
    "<br>\n",
    "<font face=\"Times New Roman\" size=4 align=center>\n",
    "Sharif University of Technology - Department of Computer\n",
    "</font>\n",
    "<br> <br>\n",
    "<font color=\"#008080\" size=5>\n",
    "Introduction to Machine Learning\n",
    "</font>\n",
    "\n",
    "<hr/> <br>\n",
    "<font color=\"#800080\" size=6>\n",
    "Chapter 3: Cross Validation\n",
    "<br>\n",
    "</font>\n",
    "<br>\n",
    "<font face=\"Times New Roman\" size=4>\n",
    ":authors <br>\n",
    "<b>Alireza Gregory Motlaq - Peyman Naseri - Alireza Heydari - Mohammad Mahdi Vahedi</b>\n",
    "</font>\n",
    "<hr>\n",
    "</div></font>"
   ]
  },
  {
   "cell_type": "markdown",
   "metadata": {
    "id": "i6NrAXONPtcR"
   },
   "source": [
    "<font  size=5><div dir=ltr>\n",
    "<font face=\"Times New Roman\" color=\"#008080\" size=5>**Table of Contents**</font>\n",
    "<br>\n",
    "\n",
    "<font size=4>\n",
    "<ul>\n",
    "    <li>\n",
    "        <a href=\"#0\">\n",
    "            0. Introduction\n",
    "        </a>\n",
    "    </li> <br>\n",
    "    <li>\n",
    "        <a href=\"#1\">\n",
    "            1. Hyperparameters\n",
    "        </a>\n",
    "    </li>\n",
    "    <ul>\n",
    "        <li>\n",
    "            <a href=\"#1-1\">\n",
    "                1-1. Introduction to Dataset\n",
    "            </a>\n",
    "        </li>\n",
    "        <li>\n",
    "            <a href=\"#1-2\">\n",
    "                1-2. Creating Dataset\n",
    "            </a>\n",
    "        </li>\n",
    "        <li>\n",
    "            <a href=\"#1-3\">\n",
    "                1-3. Visualizing Dataset\n",
    "            </a>\n",
    "        </li>\n",
    "        <li>\n",
    "            <a href=\"#1-3\">\n",
    "                1-3. Hyperparameters Effects\n",
    "            </a>\n",
    "        </li>\n",
    "    </ul> <br>\n",
    "    <li>\n",
    "        <a href=\"#-2\">\n",
    "            2. K-Fold Cross Validation\n",
    "        </a>\n",
    "    </li>\n",
    "    <ul>\n",
    "        <li>\n",
    "            <a href=\"#2-1\">\n",
    "                2-1. Dataset\n",
    "            </a>\n",
    "        </li>\n",
    "        <li>\n",
    "            <a href=\"#2-2\">\n",
    "                2-2. Model\n",
    "            </a>\n",
    "        </li>\n",
    "        <li>\n",
    "            <a href=\"#2-3\">\n",
    "                2-3. Validation\n",
    "            </a>\n",
    "        </li>\n",
    "    </ul>\n",
    "</div>"
   ]
  },
  {
   "cell_type": "markdown",
   "metadata": {
    "id": "wOz2wtxcEtAM"
   },
   "source": [
    "<font face=\"Times New Roman\"><div id=\"0\">\n",
    "# <font color=\"#800080\" size=6>**0. Introduction**</font>\n",
    "</div>"
   ]
  },
  {
   "cell_type": "markdown",
   "metadata": {
    "id": "izRQxDf9ISER"
   },
   "source": [
    "<font face=\"Times New Roman\" size=3>\n",
    "First, to learn about Validation and SVM, refer to their notebooks."
   ]
  },
  {
   "cell_type": "markdown",
   "metadata": {
    "id": "sBzocXtIiTbu"
   },
   "source": [
    "<font face=\"Times New Roman\"><div id=\"1\">\n",
    "# <font color=\"#800080\" size=6>**1. Hyperparameters**</font>\n",
    "</div>"
   ]
  },
  {
   "cell_type": "markdown",
   "metadata": {
    "id": "rYaiPL1plrDm"
   },
   "source": [
    "<font face=\"Times New Roman\"><div id=\"1-1\">\n",
    "## <font color=\"#800080\" size=6>**1-1. Introduction to Dataset** </font>\n",
    "</div>"
   ]
  },
  {
   "cell_type": "markdown",
   "metadata": {
    "id": "259DMTbqI0qZ"
   },
   "source": [
    "<font face=\"Times New Roman\" size=3><div>\n",
    "We use [spiral](https://en.wikipedia.org/wiki/Spiral) synthetic dataset.\n",
    "</div>"
   ]
  },
  {
   "cell_type": "markdown",
   "metadata": {
    "id": "OZyxj4cjnzW_"
   },
   "source": [
    "<font face=\"Times New Roman\"><div id=\"1-2\">\n",
    "## <font color=\"#800080\" size=6>**1-2. Creating Dataset**</font>\n",
    "</div>"
   ]
  },
  {
   "cell_type": "markdown",
   "metadata": {
    "id": "B8kSFMEiJYSu"
   },
   "source": [
    "<font face=\"Times New Roman\" size=3>\n",
    "We use the <code>make_spiral</code> function to generate dataset."
   ]
  },
  {
   "cell_type": "code",
   "execution_count": null,
   "metadata": {
    "id": "vqkeQB6yCuQX"
   },
   "outputs": [],
   "source": [
    "from ipywidgets import interact, FloatLogSlider, Checkbox\n",
    "import math\n",
    "import numpy as np\n",
    "import matplotlib.pyplot as plt\n",
    "from sklearn.svm import SVC\n",
    "from sklearn.model_selection import KFold\n",
    "from sklearn.model_selection import StratifiedKFold\n",
    "from sklearn.model_selection import GridSearchCV"
   ]
  },
  {
   "cell_type": "code",
   "execution_count": null,
   "metadata": {
    "id": "kujFXJthCsLm"
   },
   "outputs": [],
   "source": [
    "def make_spiral(density=1, max_radius=6.5, c=0):\n",
    "    \"\"\" Generate spiral dataset.\n",
    "\n",
    "    Arguments:\n",
    "        density (int)  : Density of the points\n",
    "        maxRadius (float) : Maximum radius of the spiral\n",
    "        c (int) : Class of this spiral\n",
    "\n",
    "    Returns:\n",
    "        array: Return spiral data and its class\n",
    "    \"\"\"\n",
    "\n",
    "    # Spirals data and labels\n",
    "    data, labels = [], []\n",
    "\n",
    "    # Number of interior data points to generate\n",
    "    N = 96 * density\n",
    "\n",
    "    # Generate points\n",
    "    for i in range(0, N):\n",
    "        angle = (i * math.pi) / (16 * density)\n",
    "        # Radius is the maximum radius * the fraction of iterations left\n",
    "        radius = max_radius * ((104 * density) - i) / (104 * density)\n",
    "\n",
    "        # Get x and y coordinates\n",
    "        x = radius * math.cos(angle)\n",
    "        y = radius * math.sin(angle)\n",
    "\n",
    "        data.append([x, y])\n",
    "        labels.append([c])\n",
    "\n",
    "    return data, labels"
   ]
  },
  {
   "cell_type": "code",
   "execution_count": null,
   "metadata": {
    "id": "TMgG_P2RCxZ4"
   },
   "outputs": [],
   "source": [
    "def make_spirals(density=1, max_radius=6.5):\n",
    "    \"\"\" Generate two class spiral dataset.\n",
    "\n",
    "    Arguments:\n",
    "        density (int)  : Density of the points\n",
    "        maxRadius (float) : Maximum radius of the spiral\n",
    "    Returns:\n",
    "        array: Return spirals data and its class\n",
    "    \"\"\"\n",
    "    data , labels = [], []\n",
    "\n",
    "    # First spirals data and class\n",
    "    data1, labels1 = make_spiral(density, max_radius)\n",
    "\n",
    "    # Construct complete two spirals dataset\n",
    "    for d in data1:\n",
    "        data.append(d)  # First spirals coordinate\n",
    "        data.append([-d[0], -d[1]])  # Second spirals coordinate\n",
    "\n",
    "    # Construct complete two spirals classes\n",
    "    for lbl in labels1:\n",
    "        labels.append(lbl)  # First spirals class\n",
    "        labels.append([1])  # Second spirals class\n",
    "\n",
    "    return np.array(data), np.array(labels).ravel()"
   ]
  },
  {
   "cell_type": "code",
   "execution_count": null,
   "metadata": {
    "id": "qYotu9dMCyxd"
   },
   "outputs": [],
   "source": [
    "X, y = make_spirals()"
   ]
  },
  {
   "cell_type": "markdown",
   "metadata": {
    "id": "3pZCWtkeo2Q_"
   },
   "source": [
    "<font face=\"Times New Roman\"><div id=\"1-3\">\n",
    "## <font color=\"#800080\" size=6>**1-3. Visualizing Dataset**</font>\n",
    "</div>"
   ]
  },
  {
   "cell_type": "code",
   "execution_count": null,
   "metadata": {
    "colab": {
     "base_uri": "https://localhost:8080/",
     "height": 468
    },
    "id": "iRSVU6tIC4MU",
    "outputId": "0704e80c-bed1-4774-84e4-9c88e70188c3"
   },
   "outputs": [],
   "source": [
    "plt.figure(figsize=(5, 5))\n",
    "plt.scatter(X[:, 0], X[:, 1], c=y, s=50, edgecolors='black', cmap=plt.cm.coolwarm, alpha=0.6)\n",
    "plt.title(\"Original Spiral Data\")\n",
    "plt.show()"
   ]
  },
  {
   "cell_type": "markdown",
   "metadata": {
    "id": "NB7H40DRqdBB"
   },
   "source": [
    "<font face=\"Times New Roman\"><div id=\"1-4\">\n",
    "## <font color=\"#800080\" size=6>**1-4. Hyperparameters Effects**</font>\n",
    "</div>"
   ]
  },
  {
   "cell_type": "markdown",
   "metadata": {
    "id": "3Ze-Dy-CJ0GX"
   },
   "source": [
    "<font face=\"Times New Roman\" size=3>\n",
    "In the following, we use <code>svc</code> model from <code>sklearn.svm</code> and for different combinations of hyperparameters $C$ and $\\gamma$, we draw the division area of two classes at the same time so that we can compare them with each other."
   ]
  },
  {
   "cell_type": "code",
   "execution_count": null,
   "metadata": {
    "id": "eLkdPnIiD7-Z"
   },
   "outputs": [],
   "source": [
    "C_range = [0.1, 10, 1000]\n",
    "gamma_range = [0.1, 1, 10]\n",
    "\n",
    "classifiers = []\n",
    "\n",
    "for C in C_range:\n",
    "    for gamma in gamma_range:\n",
    "        clf = SVC(C=C, gamma=gamma)\n",
    "        clf.fit(X, y)\n",
    "        classifiers.append((clf, C, gamma))"
   ]
  },
  {
   "cell_type": "code",
   "execution_count": null,
   "metadata": {
    "colab": {
     "base_uri": "https://localhost:8080/",
     "height": 525
    },
    "id": "aDDITMC4D_b0",
    "outputId": "4e1ff407-45bf-4e92-f288-3fe0a49e5662"
   },
   "outputs": [],
   "source": [
    "plt.figure(figsize=(8, 6))\n",
    "\n",
    "X1, X2 = np.meshgrid(np.linspace(-7, 7, 200), np.linspace(-7, 7, 200))\n",
    "\n",
    "for i, (clf, C, gamma) in enumerate(classifiers):\n",
    "    # evaluate decision function in a grid\n",
    "    Z = clf.decision_function(np.c_[X1.ravel(), X2.ravel()])\n",
    "    Z = Z.reshape(X1.shape)\n",
    "\n",
    "    # visualize decision function for these parameters\n",
    "    plt.subplot(len(C_range), len(gamma_range), i + 1)\n",
    "    plt.title(\"$\\gamma = 10^{%d}, C = 10^{%d}$\" % (np.log10(gamma), np.log10(C)))\n",
    "\n",
    "    # visualize parameter's effect on decision function\n",
    "    plt.contourf(X1, X2, Z, cmap=plt.cm.coolwarm)\n",
    "    plt.contour(X1, X2, Z, linewidths=1, colors='k', levels=[-1, 0, 1], linestyles=['--', '-', '--'])\n",
    "    plt.scatter(X[:, 0], X[:, 1], s=15, c=y, edgecolors='k', cmap=plt.cm.coolwarm, alpha=0.6)\n",
    "    plt.xticks(())\n",
    "    plt.yticks(())\n",
    "    plt.axis('tight')\n",
    "\n",
    "plt.show()"
   ]
  },
  {
   "cell_type": "markdown",
   "metadata": {
    "id": "n2JfuA9Wrqc4"
   },
   "source": [
    "<font face=\"Times New Roman\"><div id=\"2\">\n",
    "# <font color=\"#800080\" size=6>**2. K-Fold Cross Validation**</font>\n",
    "</div>"
   ]
  },
  {
   "cell_type": "markdown",
   "metadata": {
    "id": "5Oy-xmOON1RY"
   },
   "source": [
    "<font face=\"Times New Roman\"><div id=\"2-1\">\n",
    "## <font color=\"#800080\" size=6>**2-1. Dataset** </font>\n",
    "</div>"
   ]
  },
  {
   "cell_type": "markdown",
   "metadata": {
    "id": "V5TLPZgaOA6A"
   },
   "source": [
    "<font face=\"Times New Roman\" size=3>\n",
    "We use the spiral dataset from the previous section and only divide the dataset into two parts: train and validation."
   ]
  },
  {
   "cell_type": "code",
   "execution_count": null,
   "metadata": {
    "id": "3-9gabdZOW3B"
   },
   "outputs": [],
   "source": [
    "# split data to train and validation\n",
    "cv = StratifiedKFold(n_splits=5, shuffle=True, random_state=42)"
   ]
  },
  {
   "cell_type": "markdown",
   "metadata": {
    "id": "OoGC90oSN1Zp"
   },
   "source": [
    "<font face=\"Times New Roman\"><div id=\"2-2\">\n",
    "## <font color=\"#800080\" size=6>**2-2. Model** </font>\n",
    "</div>"
   ]
  },
  {
   "cell_type": "markdown",
   "metadata": {
    "id": "riDvh3dYKaw8"
   },
   "source": [
    "<font face=\"Times New Roman\" size=3>\n",
    "We try to find the best $\\gamma$ and $C$ using k-fold CV method and Grid Search."
   ]
  },
  {
   "cell_type": "code",
   "execution_count": null,
   "metadata": {
    "id": "nq5tj4iUOqTk"
   },
   "outputs": [],
   "source": [
    "# Specify range of hyper-parameters\n",
    "C_range = np.logspace(-3, 5, 9)         # 1e-3, 1e-2, 1e-1, 1e0, 1e1, 1e2, 1e3, 1e4, 1e5\n",
    "gamma_range = np.logspace(-3, 5, 9)     # 1e-3, 1e-2, 1e-1, 1e0, 1e1, 1e2, 1e3, 1e4, 1e5\n",
    "param_grid = dict(gamma=gamma_range, C=C_range)"
   ]
  },
  {
   "cell_type": "code",
   "execution_count": null,
   "metadata": {
    "id": "o-8xuVxcOrRk"
   },
   "outputs": [],
   "source": [
    "# Create classifier\n",
    "grid = GridSearchCV(SVC(), param_grid=param_grid, cv=cv)"
   ]
  },
  {
   "cell_type": "code",
   "execution_count": null,
   "metadata": {
    "colab": {
     "base_uri": "https://localhost:8080/",
     "height": 117
    },
    "id": "qpqKja7-Odk1",
    "outputId": "eb5615a2-2116-491a-c6ef-b1a74b6314c4"
   },
   "outputs": [],
   "source": [
    "# Train\n",
    "grid.fit(X, y)"
   ]
  },
  {
   "cell_type": "markdown",
   "metadata": {
    "id": "c42fZbtVN1fj"
   },
   "source": [
    "<font face=\"Times New Roman\"><div id=\"2-3\">\n",
    "## <font color=\"#800080\" size=6>**2-3. Validation** </font>\n",
    "</div>"
   ]
  },
  {
   "cell_type": "code",
   "execution_count": null,
   "metadata": {
    "colab": {
     "base_uri": "https://localhost:8080/",
     "height": 628
    },
    "id": "3dbKSY7lEgca",
    "outputId": "7fcb6b6d-c27c-40d4-ff69-c82f21659c8e"
   },
   "outputs": [],
   "source": [
    "# Draw heatmap of the validation accuracy as a function of gamma and C\n",
    "import seaborn as sns\n",
    "\n",
    "scores = grid.cv_results_['mean_test_score'].reshape(len(C_range), len(gamma_range))\n",
    "\n",
    "plt.figure(figsize=(7, 7))\n",
    "sns.heatmap(scores, annot=True, cmap='Blues', square=True);\n",
    "plt.xlabel('$\\gamma$')\n",
    "plt.ylabel('C')\n",
    "plt.xticks(np.arange(len(gamma_range)), gamma_range, rotation=45)\n",
    "plt.yticks(np.arange(len(C_range)), C_range, rotation=-45)\n",
    "plt.title('Validation accuracy')\n",
    "plt.show();\n",
    "\n",
    "print(\"The best parameters are %s with a score of %0.2f\" % (grid.best_params_, grid.best_score_))"
   ]
  }
 ],
 "metadata": {
  "colab": {
   "collapsed_sections": [
    "wOz2wtxcEtAM",
    "sBzocXtIiTbu",
    "rYaiPL1plrDm",
    "3pZCWtkeo2Q_",
    "n2JfuA9Wrqc4",
    "5Oy-xmOON1RY",
    "OoGC90oSN1Zp",
    "c42fZbtVN1fj"
   ],
   "provenance": [],
   "toc_visible": true
  },
  "kernelspec": {
   "display_name": "Python 3 (ipykernel)",
   "language": "python",
   "name": "python3"
  },
  "language_info": {
   "codemirror_mode": {
    "name": "ipython",
    "version": 3
   },
   "file_extension": ".py",
   "mimetype": "text/x-python",
   "name": "python",
   "nbconvert_exporter": "python",
   "pygments_lexer": "ipython3",
   "version": "3.9.13"
  }
 },
 "nbformat": 4,
 "nbformat_minor": 0
}
