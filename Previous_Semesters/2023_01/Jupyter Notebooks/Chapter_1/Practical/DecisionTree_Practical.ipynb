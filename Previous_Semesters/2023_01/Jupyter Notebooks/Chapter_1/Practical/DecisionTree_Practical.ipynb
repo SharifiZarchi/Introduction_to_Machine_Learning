{
 "cells": [
  {
   "cell_type": "markdown",
   "metadata": {
    "id": "BspwgQKL3Na8"
   },
   "source": [
    "<font face=\"Times New Roman\" size=5><div dir=rtl align=center>\n",
    "<font face=\"Times New Roman\" size=5>\n",
    "In The Name of God\n",
    "</font>\n",
    "<br> <br>\n",
    "<img src=\"https://logoyar.com/content/wp-content/uploads/2021/04/sharif-university-logo.png\" alt=\"University Logo\" width=\"150\" height=\"150\">\n",
    "<br>\n",
    "<font face=\"Times New Roman\" size=4 align=center>\n",
    "Sharif University of Technology - Department of Computer\n",
    "</font>\n",
    "<br> <br>\n",
    "<font color=\"#008080\" size=5>\n",
    "Introduction to Machine Learning\n",
    "</font>\n",
    "\n",
    "<hr/> <br>\n",
    "<font color=\"#800080\" size=6>\n",
    "Chapter 1: Decision Tree\n",
    "<br>\n",
    "</font>\n",
    "<br>\n",
    "<font face=\"Times New Roman\" size=4>\n",
    ":authors <br>\n",
    "<b>HamidReza Yaqubi Araqi - Seyyed Alireza Ghazanfari</b>\n",
    "</font>\n",
    "<hr>\n",
    "</div></font>"
   ]
  },
  {
   "cell_type": "markdown",
   "metadata": {
    "id": "i6NrAXONPtcR"
   },
   "source": [
    "<font  size=5><div dir=ltr>\n",
    "<font face=\"Times New Roman\" color=\"#008080\" size=5>**Table of Contents**</font>\n",
    "<br>\n",
    "\n",
    "<font size=4>\n",
    "<ul>\n",
    "    <li>\n",
    "        <a href=\"#1\">\n",
    "            1. Decision Tree (Classification)\n",
    "        </a>\n",
    "    </li>\n",
    "    <li>\n",
    "        <a href=\"#2\">\n",
    "            2. Decision Tree (Regression)\n",
    "        </a>\n",
    "    </li>\n",
    "    <li>\n",
    "        <a href=\"#3\">\n",
    "            3. From Scratch\n",
    "        </a>\n",
    "    </li>\n",
    "</div>"
   ]
  },
  {
   "cell_type": "markdown",
   "metadata": {
    "id": "sBzocXtIiTbu"
   },
   "source": [
    "<font face=\"Times New Roman\"><div id=\"1\">\n",
    "# <font color=\"#800080\" size=6>**1. Decision Tree (Classification)**</font>\n",
    "</div>"
   ]
  },
  {
   "cell_type": "markdown",
   "metadata": {
    "id": "swwrxuSMAESj"
   },
   "source": [
    "#### <font color=\"#008080\" face=\"Times New Roman\" size=4>**Dataset**</font>"
   ]
  },
  {
   "cell_type": "markdown",
   "metadata": {
    "id": "Ju9aCx5yAESj"
   },
   "source": [
    "##### <font color=\"#008080\" face=\"Times New Roman\" size=4> - Introduction to Dataset </font>\n",
    "\n",
    "<font face=\"Times New Roman\" size=3> The dataset that we use in this section is for evaluating 1700 cars which was published in this <a href=\"https://citeseerx.ist.psu.edu/viewdoc/download?doi=10.1.1.29.4455&rep=rep1&type=pdf\">paper</a>. This dataset includes 7 columns that we will name them. you can have access to these data by this <a href=\"https://www.kaggle.com/datasets/elikplim/car-evaluation-data-set\">link</a>.\n",
    "<br>\n",
    "<ol>\n",
    "    <li>\n",
    "        buying_price\n",
    "    </li>\n",
    "    <li>\n",
    "        maintenance_cost\n",
    "    </li>\n",
    "    <li>\n",
    "        number_of_doors\n",
    "    </li>\n",
    "    <li>\n",
    "        number_of_persons\n",
    "    </li>\n",
    "    <li>\n",
    "        lug_boot\n",
    "    </li>\n",
    "    <li>\n",
    "        safety\n",
    "    </li>\n",
    "    <li>\n",
    "        decision\n",
    "    </li>\n",
    "</ol>\n",
    "</font>"
   ]
  },
  {
   "cell_type": "markdown",
   "metadata": {
    "id": "gYuiA7fFAESk"
   },
   "source": [
    "##### <font color=\"#008080\" face=\"Times New Roman\" size=4> - Loading Dataset </font>"
   ]
  },
  {
   "cell_type": "code",
   "execution_count": null,
   "metadata": {
    "colab": {
     "base_uri": "https://localhost:8080/",
     "height": 143
    },
    "id": "FybchF26AESk",
    "outputId": "37bc5c0d-a9d7-4db7-c52f-ecc0de8f4332"
   },
   "outputs": [],
   "source": [
    "import numpy as np\n",
    "import pandas as pd\n",
    "import matplotlib.pyplot as plt\n",
    "\n",
    "# Read the raw data\n",
    "car_evaluation_pdf = pd.read_csv(\"../Files/car_evaluation.csv\", header=None)\n",
    "\n",
    "# Our local dataset has no suitable column name so we should correct them\n",
    "car_evaluation_column_names = ['buying_price', 'maintenance_cost', 'number_of_doors',\n",
    "                               'number_of_persons', 'lug_boot', 'safety',\n",
    "                               'decision']\n",
    "car_evaluation_pdf.columns = car_evaluation_column_names\n",
    "\n",
    "car_evaluation_pdf.head(3)"
   ]
  },
  {
   "cell_type": "markdown",
   "metadata": {
    "id": "helJaWTOAESk"
   },
   "source": [
    "##### <font color=\"#008080\" face=\"Times New Roman\" size=4> - More Information About Dataset </font>"
   ]
  },
  {
   "cell_type": "code",
   "execution_count": null,
   "metadata": {},
   "outputs": [],
   "source": [
    "# See all features' values\n",
    "car_evaluation_pdf.apply(lambda col: col.unique())"
   ]
  },
  {
   "cell_type": "code",
   "execution_count": null,
   "metadata": {
    "colab": {
     "base_uri": "https://localhost:8080/"
    },
    "id": "RzkrUZYuAESk",
    "outputId": "d301db2f-d05f-4dce-8dc1-dceeb15800f8"
   },
   "outputs": [],
   "source": [
    "# For more information abut this function [1]\n",
    "# [1]: https://pandas.pydata.org/docs/reference/api/pandas.DataFrame.info.html\n",
    "car_evaluation_pdf.info()"
   ]
  },
  {
   "cell_type": "code",
   "execution_count": null,
   "metadata": {
    "colab": {
     "base_uri": "https://localhost:8080/",
     "height": 195
    },
    "id": "e8wcXTq9xmVr",
    "outputId": "52c8bdf1-3504-470b-a402-c0a85cc46844"
   },
   "outputs": [],
   "source": [
    "# For More information about this function [2]\n",
    "# [2]: https://pandas.pydata.org/docs/reference/api/pandas.DataFrame.describe.html\n",
    "car_evaluation_pdf.describe()"
   ]
  },
  {
   "cell_type": "code",
   "execution_count": null,
   "metadata": {
    "colab": {
     "base_uri": "https://localhost:8080/"
    },
    "id": "rZ-SJ4QKxmVt",
    "outputId": "c31aa2c4-239a-496b-ea56-4ecfb9a23176"
   },
   "outputs": [],
   "source": [
    "# Print the distribution of each column\n",
    "for column in car_evaluation_column_names:\n",
    "    print(car_evaluation_pdf[column].value_counts())"
   ]
  },
  {
   "cell_type": "markdown",
   "metadata": {
    "id": "0BrjWqO-AESk"
   },
   "source": [
    "##### <font color=\"#008080\" face=\"Times New Roman\" size=4> - Pre-Processing Dataset</font>"
   ]
  },
  {
   "cell_type": "code",
   "execution_count": null,
   "metadata": {
    "colab": {
     "base_uri": "https://localhost:8080/",
     "height": 163
    },
    "id": "-mpV4390AESl",
    "outputId": "981be338-f23c-4f59-f17f-ce3c3fe82291"
   },
   "outputs": [],
   "source": [
    "# Use encoder to transform non-numeric values to numbers\n",
    "from sklearn.preprocessing import LabelEncoder\n",
    "\n",
    "encoder = LabelEncoder()\n",
    "\n",
    "encoded_car_evaluation_pdf = car_evaluation_pdf.copy()\n",
    "\n",
    "for column in car_evaluation_pdf.columns[:-1]:\n",
    "    encoded_car_evaluation_pdf[column] = encoder.fit_transform(car_evaluation_pdf[column])\n",
    "\n",
    "encoded_car_evaluation_pdf.head(3)"
   ]
  },
  {
   "cell_type": "code",
   "execution_count": null,
   "metadata": {
    "id": "vAphp92bxmVy"
   },
   "outputs": [],
   "source": [
    "from sklearn.model_selection import train_test_split\n",
    "\n",
    "# Split input X and labels\n",
    "X = encoded_car_evaluation_pdf.drop(['decision'], axis=1)\n",
    "y = encoded_car_evaluation_pdf['decision']\n",
    "\n",
    "# Split the data and labels for trainning and testing\n",
    "X_train, X_test, y_train, y_test = train_test_split(X, y, test_size = 0.33, random_state = 42)"
   ]
  },
  {
   "cell_type": "markdown",
   "metadata": {
    "id": "E5LZv8WxAESl"
   },
   "source": [
    "#### <font color=\"#008080\" face=\"Times New Roman\" size=4>**Model**</font>"
   ]
  },
  {
   "cell_type": "code",
   "execution_count": null,
   "metadata": {
    "id": "LpEmhZsmAESl"
   },
   "outputs": [],
   "source": [
    "# DecisionTreeClassifier has some parameters such as \n",
    "# criterion is the function to measure the quality of a split\n",
    "# max_depth is the maximum depth of the tree.\n",
    "# random_state controls the randomness of the estimator. for more information [3]\n",
    "# [3]: https://scikit-learn.org/stable/modules/generated/sklearn.tree.DecisionTreeClassifier.html\n",
    "from sklearn.tree import DecisionTreeClassifier\n",
    "\n",
    "clf_entropy = DecisionTreeClassifier(criterion='entropy', max_depth=3, random_state=0)"
   ]
  },
  {
   "cell_type": "markdown",
   "metadata": {
    "id": "gSvKw0pdAESm"
   },
   "source": [
    "#### <font color=\"#008080\" face=\"Times New Roman\" size=4>**Train**</font>"
   ]
  },
  {
   "cell_type": "code",
   "execution_count": null,
   "metadata": {
    "colab": {
     "base_uri": "https://localhost:8080/",
     "height": 95
    },
    "id": "HI0wPMJLAESm",
    "outputId": "bdde3788-1d11-45ad-bf63-a8d14d63fbee"
   },
   "outputs": [],
   "source": [
    "clf_entropy.fit(X_train, y_train)"
   ]
  },
  {
   "cell_type": "markdown",
   "metadata": {
    "id": "DCicBNv3AESm"
   },
   "source": [
    "#### <font color=\"#008080\" face=\"Times New Roman\" size=4>**Evaluation**</font>"
   ]
  },
  {
   "cell_type": "markdown",
   "metadata": {
    "id": "n2ViYLYjAESn"
   },
   "source": [
    "##### <font color=\"#008080\" face=\"Times New Roman\" size=4> - Prediction</font>"
   ]
  },
  {
   "cell_type": "code",
   "execution_count": null,
   "metadata": {
    "id": "Ye6-qIisAESn"
   },
   "outputs": [],
   "source": [
    "y_pred = clf_entropy.predict(X_test)"
   ]
  },
  {
   "cell_type": "markdown",
   "metadata": {
    "id": "6fweiFAXAESn"
   },
   "source": [
    "##### <font color=\"#008080\" face=\"Times New Roman\" size=4> - Accuracy </font>"
   ]
  },
  {
   "cell_type": "code",
   "execution_count": null,
   "metadata": {
    "colab": {
     "base_uri": "https://localhost:8080/"
    },
    "id": "brnmUn7rAESn",
    "outputId": "25618129-9f1b-4189-f751-74b8c8d173aa"
   },
   "outputs": [],
   "source": [
    "# Use two methodology to find the acc of a sklearn model\n",
    "from sklearn.metrics import accuracy_score\n",
    "\n",
    "model_accuracy_score = accuracy_score(y_test, y_pred)\n",
    "\n",
    "print('Model accuracy score with criterion=entropy: {0:0.4f}'. format(model_accuracy_score))\n",
    "\n",
    "print('Training set score: {:.4f}'.format(clf_entropy.score(X_train, y_train)))\n",
    "\n",
    "print('Test set score: {:.4f}'.format(clf_entropy.score(X_test, y_test)))"
   ]
  },
  {
   "cell_type": "markdown",
   "metadata": {
    "id": "rpEZrgzGAESn"
   },
   "source": [
    "#### <font color=\"#008080\" face=\"Times New Roman\" size=4>**Visualization**</font>"
   ]
  },
  {
   "cell_type": "code",
   "execution_count": null,
   "metadata": {
    "colab": {
     "base_uri": "https://localhost:8080/"
    },
    "id": "sFEEGdYKxmV-",
    "outputId": "2326e946-ef48-42a2-f5bd-7c0d98f0ce9d"
   },
   "outputs": [],
   "source": [
    "!pip install graphviz"
   ]
  },
  {
   "cell_type": "code",
   "execution_count": null,
   "metadata": {
    "colab": {
     "base_uri": "https://localhost:8080/",
     "height": 809
    },
    "id": "7ouxoEg6AESn",
    "outputId": "0fdafb7f-373c-4240-da55-3fb8e8e7c55d"
   },
   "outputs": [],
   "source": [
    "from sklearn import tree\n",
    "import graphviz\n",
    "\n",
    "plt.figure(figsize=(12,8))\n",
    "tree.plot_tree(clf_entropy.fit(X_train, y_train))"
   ]
  },
  {
   "cell_type": "code",
   "execution_count": null,
   "metadata": {
    "colab": {
     "base_uri": "https://localhost:8080/",
     "height": 599
    },
    "id": "qlESchMWokTu",
    "outputId": "da1e1031-9a46-4a61-d242-7e63725d6781"
   },
   "outputs": [],
   "source": [
    "# export the decisoin tree\n",
    "dot_data = tree.export_graphviz(clf_entropy, out_file=None,\n",
    "                                feature_names=X_train.columns,\n",
    "                                class_names=y_train,\n",
    "                                filled=True, rounded=True,\n",
    "                                special_characters=True)\n",
    "\n",
    "graph = graphviz.Source(dot_data)\n",
    "\n",
    "graph"
   ]
  },
  {
   "cell_type": "markdown",
   "metadata": {
    "id": "voAryn5nxmWC"
   },
   "source": [
    "#### <font color=\"#008080\" face=\"Times New Roman\" size=4>**More Codes**</font>"
   ]
  },
  {
   "cell_type": "code",
   "execution_count": null,
   "metadata": {
    "id": "WZZ7BOaSxmWD"
   },
   "outputs": [],
   "source": [
    "# TODO: try decision tree with gini criterion again and graph the result.\n",
    "# clf_gini ="
   ]
  },
  {
   "cell_type": "markdown",
   "metadata": {
    "id": "68iIHGEgAl1w"
   },
   "source": [
    "<font face=\"Times New Roman\"><div id=\"2\">\n",
    "# <font color=\"#800080\" size=6>**2. Decision Tree (Regression)**</font>\n",
    "</div>"
   ]
  },
  {
   "cell_type": "markdown",
   "metadata": {
    "id": "hXPBaNz8Al1x"
   },
   "source": [
    "#### <font color=\"#008080\" face=\"Times New Roman\" size=4>**Dataset**</font>"
   ]
  },
  {
   "cell_type": "markdown",
   "metadata": {
    "id": "5iAj6t45Al1x"
   },
   "source": [
    "##### <font color=\"#008080\" face=\"Times New Roman\" size=4> - Introduction to Dataset </font>\n",
    "\n",
    "<font face=\"Times New Roman\" size=3>\n",
    "In this dataset, the level of the scalable sound pressure or SSPL is measured for a variety of airfoil blades with different characteristics that are available in each column. This data set consists of frequency columns (f), angle of attack (alpha), chords length (c), free flow rate (U_infinity), thickness of suction side displacement (delta) and scale sound pressure level (SSPL). You can use this <a href=\"https://www.kaggle.com/datasets/fedesoriano/airfoil-selfnoise-dataset\">link</a> to access the dataset.\n",
    "</font>"
   ]
  },
  {
   "cell_type": "markdown",
   "metadata": {
    "id": "M0vNkt4dAl1x"
   },
   "source": [
    "##### <font color=\"#008080\" face=\"Times New Roman\" size=4> - Loading Dataset </font>"
   ]
  },
  {
   "cell_type": "code",
   "execution_count": null,
   "metadata": {
    "colab": {
     "base_uri": "https://localhost:8080/",
     "height": 143
    },
    "id": "43KouLvFAl1x",
    "outputId": "5bb24db8-5476-4d49-e7c1-6a43acdcbfbb"
   },
   "outputs": [],
   "source": [
    "import pandas as pd\n",
    "import matplotlib.pyplot as plt\n",
    "\n",
    "airfoil_self_noise_pdf = pd.read_csv(\"../Files/AirfoilSelfNoise.csv\")\n",
    "airfoil_self_noise_pdf.head(3)"
   ]
  },
  {
   "cell_type": "markdown",
   "metadata": {
    "id": "_8eHSEgJAl1x"
   },
   "source": [
    "##### <font color=\"#008080\" face=\"Times New Roman\" size=4> - More Information About Dataset </font>"
   ]
  },
  {
   "cell_type": "code",
   "execution_count": null,
   "metadata": {},
   "outputs": [],
   "source": [
    "# See all features' values\n",
    "airfoil_self_noise_pdf.apply(lambda col: col.unique())"
   ]
  },
  {
   "cell_type": "code",
   "execution_count": null,
   "metadata": {
    "colab": {
     "base_uri": "https://localhost:8080/"
    },
    "id": "9Esoj8UGAl1x",
    "outputId": "dfdfcf80-4f53-41a7-ead2-5ade297f2a55"
   },
   "outputs": [],
   "source": [
    "airfoil_self_noise_pdf.info()"
   ]
  },
  {
   "cell_type": "code",
   "execution_count": null,
   "metadata": {
    "colab": {
     "base_uri": "https://localhost:8080/",
     "height": 320
    },
    "id": "hUD97rJ_xmWL",
    "outputId": "1a711060-2e20-40bf-d05f-0d1e94a906f7"
   },
   "outputs": [],
   "source": [
    "airfoil_self_noise_pdf.describe()"
   ]
  },
  {
   "cell_type": "markdown",
   "metadata": {
    "id": "RIcKkYo9xmWM"
   },
   "source": [
    "##### <font color=\"#008080\" face=\"Times New Roman\" size=4> - Visualizing Dataset </font>"
   ]
  },
  {
   "cell_type": "code",
   "execution_count": null,
   "metadata": {
    "colab": {
     "base_uri": "https://localhost:8080/",
     "height": 1000
    },
    "id": "X19l5TLGAl1y",
    "outputId": "55b44ec9-ed7e-471e-c77b-1784eb606316"
   },
   "outputs": [],
   "source": [
    "fig = plt.figure(figsize = (15, 20))\n",
    "ax = fig.gca()\n",
    "airfoil_self_noise_pdf.hist(ax=ax)\n",
    "plt.show()"
   ]
  },
  {
   "cell_type": "markdown",
   "metadata": {
    "id": "7-UTp57exmWO"
   },
   "source": [
    "##### <font color=\"#008080\" face=\"Times New Roman\" size=4> - Pre-Processing Dataset</font>"
   ]
  },
  {
   "cell_type": "code",
   "execution_count": null,
   "metadata": {
    "id": "QRex5ZIExmWO"
   },
   "outputs": [],
   "source": [
    "from sklearn.model_selection import train_test_split\n",
    "\n",
    "X = airfoil_self_noise_pdf.drop(['SSPL'], axis=1)\n",
    "y = airfoil_self_noise_pdf['SSPL']\n",
    "\n",
    "X_train, X_test, y_train, y_test = train_test_split(X, y, test_size = 0.33, random_state = 42)"
   ]
  },
  {
   "cell_type": "markdown",
   "metadata": {
    "id": "14oWGLnbAl1y"
   },
   "source": [
    "#### <font color=\"#008080\" face=\"Times New Roman\" size=4>**Model**</font>"
   ]
  },
  {
   "cell_type": "code",
   "execution_count": null,
   "metadata": {
    "id": "ozKb37LXAl1y"
   },
   "outputs": [],
   "source": [
    "from sklearn.tree import DecisionTreeRegressor\n",
    "\n",
    "reg_tree = DecisionTreeRegressor(max_depth=7, min_samples_split=5, random_state=0)"
   ]
  },
  {
   "cell_type": "markdown",
   "metadata": {
    "id": "osVXNTRxAl1y"
   },
   "source": [
    "#### <font color=\"#008080\" face=\"Times New Roman\" size=4>**Train**</font>"
   ]
  },
  {
   "cell_type": "code",
   "execution_count": null,
   "metadata": {
    "colab": {
     "base_uri": "https://localhost:8080/",
     "height": 95
    },
    "id": "zXCt34qrAl1z",
    "outputId": "4c99f4e4-9c4f-46d2-c5d1-fe07a93483f1"
   },
   "outputs": [],
   "source": [
    "reg_tree.fit(X_train, y_train)"
   ]
  },
  {
   "cell_type": "markdown",
   "metadata": {
    "id": "saaJsMX5xmWT"
   },
   "source": [
    "#### <font color=\"#008080\" face=\"Times New Roman\" size=4>**Evaluation**</font>"
   ]
  },
  {
   "cell_type": "markdown",
   "metadata": {
    "id": "KsNDno46xmWT"
   },
   "source": [
    "##### <font color=\"#008080\" face=\"Times New Roman\" size=4> - Prediction</font>"
   ]
  },
  {
   "cell_type": "code",
   "execution_count": null,
   "metadata": {
    "id": "4jn-JWtOxmWV"
   },
   "outputs": [],
   "source": [
    "y_pred = reg_tree.predict(X_test)"
   ]
  },
  {
   "cell_type": "markdown",
   "metadata": {
    "id": "dXFXUhp0xmWX"
   },
   "source": [
    "##### <font color=\"#008080\" face=\"Times New Roman\" size=4> - Accuracy</font>"
   ]
  },
  {
   "cell_type": "code",
   "execution_count": null,
   "metadata": {
    "colab": {
     "base_uri": "https://localhost:8080/"
    },
    "id": "VMLIMw3txmWY",
    "outputId": "96d8158c-83d3-4415-b053-73aaf4af795e"
   },
   "outputs": [],
   "source": [
    "from sklearn.metrics import r2_score\n",
    "\n",
    "model_mean_squared_error = r2_score(y_test, y_pred)\n",
    "print('Model r2_score score with criterion=entropy: {0:0.4f}'. format(model_mean_squared_error))"
   ]
  },
  {
   "cell_type": "markdown",
   "metadata": {
    "id": "SULBwRA6Al10"
   },
   "source": [
    "#### <font color=\"#008080\" face=\"Times New Roman\" size=4>**Visualization**</font>"
   ]
  },
  {
   "cell_type": "code",
   "execution_count": null,
   "metadata": {
    "cellView": "form",
    "colab": {
     "base_uri": "https://localhost:8080/",
     "height": 1000
    },
    "id": "ib8Or3t8Al11",
    "outputId": "4b8af72e-6426-46cf-d521-aed479414c87"
   },
   "outputs": [],
   "source": [
    "from sklearn import tree\n",
    "import graphviz\n",
    "\n",
    "dot_data = tree.export_graphviz(reg_tree, out_file=None,\n",
    "                                feature_names=X_train.columns,\n",
    "                                class_names=y_train,\n",
    "                                filled=True, rounded=True,\n",
    "                                special_characters=True)\n",
    "\n",
    "graph = graphviz.Source(dot_data)\n",
    "\n",
    "graph"
   ]
  },
  {
   "cell_type": "markdown",
   "metadata": {
    "id": "O1d6HhlkxmWb"
   },
   "source": [
    "<font face=\"Times New Roman\"><div id=\"3\">\n",
    "# <font color=\"#800080\" size=6>**3. From Scratch**</font>\n",
    "</div>"
   ]
  },
  {
   "cell_type": "markdown",
   "metadata": {
    "id": "eVbZVyBbDA_0"
   },
   "source": [
    "#### <font color=\"#008080\" face=\"Times New Roman\" size=4>**Dataset**</font>"
   ]
  },
  {
   "cell_type": "markdown",
   "metadata": {
    "id": "fQDP_VzvDA_0"
   },
   "source": [
    "##### <font color=\"#008080\" face=\"Times New Roman\" size=4> - Introduction to Dataset </font>\n",
    "\n",
    "<font face=\"Times New Roman\" size=3> For more information about the dataset of this section you can use this <a href=\"https://www.kaggle.com/datasets/merishnasuwal/breast-cancer-prediction-dataset\">link</a> </font>"
   ]
  },
  {
   "cell_type": "markdown",
   "metadata": {
    "id": "8Iel5jWADA_0"
   },
   "source": [
    "##### <font color=\"#008080\" face=\"Times New Roman\" size=4> - Loading Dataset </font>"
   ]
  },
  {
   "cell_type": "code",
   "execution_count": null,
   "metadata": {
    "colab": {
     "base_uri": "https://localhost:8080/",
     "height": 143
    },
    "id": "nRifFGuPDA_1",
    "outputId": "d6d58ec5-5961-418a-cbee-5adfbf6b7d4d"
   },
   "outputs": [],
   "source": [
    "breast_cancer_pdf = pd.read_csv(\"../Files/breast_cancer.csv\")\n",
    "breast_cancer_pdf.head(3)"
   ]
  },
  {
   "cell_type": "markdown",
   "metadata": {
    "id": "sk45TUlPDA_1"
   },
   "source": [
    "##### <font color=\"#008080\" face=\"Times New Roman\" size=4> - Pre-Processing Dataset</font>"
   ]
  },
  {
   "cell_type": "code",
   "execution_count": null,
   "metadata": {
    "id": "Yld0cXcPDA_1"
   },
   "outputs": [],
   "source": [
    "X = breast_cancer_pdf.drop(['diagnosis'], axis=1)\n",
    "y = breast_cancer_pdf[['diagnosis']]\n",
    "\n",
    "x_train, x_val, y_train, y_val = train_test_split(X, y, test_size=0.70, random_state=42)"
   ]
  },
  {
   "cell_type": "markdown",
   "metadata": {
    "id": "VQ5QM-42DA_1"
   },
   "source": [
    "#### <font color=\"#008080\" face=\"Times New Roman\" size=4>**Model**</font>"
   ]
  },
  {
   "cell_type": "code",
   "execution_count": null,
   "metadata": {
    "id": "Cb9U5AFnDA_2"
   },
   "outputs": [],
   "source": [
    "import pandas as pd\n",
    "from sklearn.model_selection import train_test_split\n",
    "from sklearn.metrics import accuracy_score\n",
    "from math import log\n",
    "import random"
   ]
  },
  {
   "cell_type": "code",
   "execution_count": null,
   "metadata": {
    "id": "Cb9U5AFnDA_2"
   },
   "outputs": [],
   "source": [
    "class Node:\n",
    "    def __init__(self, feature=None, threshold=None, left=None, right=None, value=None):\n",
    "        self.feature = feature\n",
    "        self.threshold = threshold\n",
    "        self.left = left\n",
    "        self.right = right\n",
    "        self.value = value\n",
    "\n",
    "    def is_leaf(self):\n",
    "        if self.value is not None:\n",
    "            return True\n",
    "        return False"
   ]
  },
  {
   "cell_type": "code",
   "execution_count": null,
   "metadata": {
    "id": "Cb9U5AFnDA_2"
   },
   "outputs": [],
   "source": [
    "# You should complete TODO tags\n",
    "\n",
    "class DecisionTree:\n",
    "    def __init__(self, max_depth=None, min_samples_split=2):\n",
    "        self.max_depth = max_depth\n",
    "        self.min_samples_split = min_samples_split\n",
    "        self.root = None\n",
    "\n",
    "    def is_splitting_finished(self, depth, num_class_labels, num_samples):\n",
    "        if depth == self.max_depth:\n",
    "            return True\n",
    "\n",
    "        if num_samples <= self.min_samples_split:\n",
    "            return True\n",
    "\n",
    "        if num_class_labels == 1:\n",
    "            return True\n",
    "\n",
    "        return False\n",
    "\n",
    "    def split(self, X, y, feature, threshold):\n",
    "        left_indexes = X[feature] <= threshold\n",
    "        right_indexes = -left_indexes\n",
    "        X_left = X[left_indexes]\n",
    "        y_left = y[left_indexes]\n",
    "        X_right = X[right_indexes]\n",
    "        y_right = y[right_indexes]\n",
    "\n",
    "        return X_left, X_right, y_left, y_right\n",
    "\n",
    "    def entropy(self, y):\n",
    "        p = len(y[y.diagnosis == 1]) / len(y)\n",
    "        if p == 1 or p == 0:\n",
    "            return 0\n",
    "        return -p * log(p, 2) - (1 - p) * log(1 - p, 2)\n",
    "\n",
    "\n",
    "    def information_gain(self, X, y, feature, threshold):\n",
    "        X_left, X_right, y_left, y_right = self.split(X, y, feature, threshold)\n",
    "        H_y = self.entropy(y)\n",
    "        p = len(X[X[feature] >= threshold]) / len(X)\n",
    "        if len(y_left) != 0:\n",
    "            # TODO\n",
    "        else:\n",
    "            # TODO\n",
    "        if len(y_right) != 0:\n",
    "            # TODO\n",
    "        else:\n",
    "            # TODO\n",
    "        H_y_given_x = None # TODO\n",
    "        return H_y - H_y_given_x\n",
    "\n",
    "    def best_split(self, X, y):\n",
    "        features = list(X.columns.values)\n",
    "        random.shuffle(features)\n",
    "        best_information_gain = 0\n",
    "        best_feature = None\n",
    "        best_threshold = None\n",
    "        for feature in features:\n",
    "            thresholds = list(set(list(X[feature])))\n",
    "            for threshold in thresholds:\n",
    "                info_gain = self.information_gain(X, y, feature, threshold)\n",
    "                if info_gain >= best_information_gain:\n",
    "                    best_information_gain = info_gain\n",
    "                    best_feature = feature\n",
    "                    best_threshold = threshold\n",
    "        return best_feature, best_threshold\n",
    "\n",
    "    def build_tree(self, X, y, depth=0):\n",
    "        if self.is_splitting_finished(depth, len(X.columns), len(X)):\n",
    "            return None\n",
    "\n",
    "        best_feature, best_threshold = self.best_split(X, y)\n",
    "        X_left, X_right, y_left, y_right = self.split(X, y, best_feature, best_threshold)\n",
    "\n",
    "        left_node = self.build_tree(X_left, y_left, depth=depth + 1)\n",
    "        right_node = self.build_tree(X_right, y_right, depth=depth + 1)\n",
    "\n",
    "        value = None\n",
    "        if left_node is None or right_node is None:\n",
    "            true_value = len(y[y['diagnosis'] == 1])\n",
    "            false_value = len(y[y['diagnosis'] == 0])\n",
    "            if true_value >= false_value:\n",
    "                value = 1\n",
    "            else:\n",
    "                value = 0\n",
    "\n",
    "        return Node(feature=best_feature, threshold=best_threshold, left=left_node, right=right_node, value=value)\n",
    "\n",
    "    def fit(self, X, y):\n",
    "        self.root = self.build_tree(X, y)\n",
    "\n",
    "    def predict(self, X):\n",
    "        tree = self.root\n",
    "        predicted_value = []\n",
    "        for index in list(X.index):\n",
    "            data = X.loc[index]\n",
    "            current_tree = tree\n",
    "            for depth in range(self.max_depth):\n",
    "                if Node.is_leaf(current_tree):\n",
    "                    predicted_value.append(current_tree.value)\n",
    "                    break\n",
    "                feature = current_tree.feature\n",
    "                threshold = current_tree.threshold\n",
    "                if data[feature] <= threshold:\n",
    "                    current_tree = current_tree.left\n",
    "                if data[feature] > threshold:\n",
    "                    current_tree = current_tree.right\n",
    "\n",
    "        return predicted_value"
   ]
  },
  {
   "cell_type": "markdown",
   "metadata": {
    "id": "3XWPsdBExmWl"
   },
   "source": [
    "#### <font color=\"#008080\" face=\"Times New Roman\" size=4>**Evaluation**</font>"
   ]
  },
  {
   "cell_type": "code",
   "execution_count": null,
   "metadata": {
    "id": "3xy3Zar8xmWm"
   },
   "outputs": [],
   "source": [
    "# set different values as hyperparameters and check the result\n",
    "max_depths = # TODO\n",
    "min_samples_splits = # TODO"
   ]
  },
  {
   "cell_type": "code",
   "execution_count": null,
   "metadata": {
    "id": "ChlHibeDxmWm"
   },
   "outputs": [],
   "source": [
    "best_max_depth = None\n",
    "best_min_samples_split = None\n",
    "best_accuracy = 0\n",
    "best_model = None\n",
    "for max_depth in max_depths:\n",
    "    for min_samples_split in min_samples_splits:\n",
    "        clf = DecisionTree(max_depth, min_samples_split)\n",
    "        clf.fit(x_train, y_train)\n",
    "        y_val_pred = clf.predict(x_val)\n",
    "        y_train_pred = clf.predict(x_train)\n",
    "        accuracy = accuracy_score(y_val_pred, y_val)\n",
    "        train_accuracy = accuracy_score(y_train_pred, y_train)\n",
    "        print(f\"accuracy of training set for min_samples_splits={min_samples_split}-max_depths={max_depth} ={train_accuracy}\")\n",
    "        print(f\"accuracy of validation set for min_samples_splits={min_samples_split}-max_depths={max_depth} ={accuracy}\")\n",
    "        print(\"------------------------------------------------\")\n",
    "        if accuracy >= best_accuracy:\n",
    "            best_accuracy = accuracy\n",
    "            best_max_depth = max_depth\n",
    "            best_min_samples_split = min_samples_split\n",
    "            best_model = clf"
   ]
  }
 ],
 "metadata": {
  "colab": {
   "collapsed_sections": [
    "rYaiPL1plrDm",
    "swwrxuSMAESj",
    "gYuiA7fFAESk",
    "helJaWTOAESk",
    "0BrjWqO-AESk",
    "E5LZv8WxAESl",
    "gSvKw0pdAESm",
    "DCicBNv3AESm",
    "rpEZrgzGAESn",
    "68iIHGEgAl1w",
    "hXPBaNz8Al1x",
    "M0vNkt4dAl1x",
    "_8eHSEgJAl1x",
    "14oWGLnbAl1y",
    "osVXNTRxAl1y",
    "UNVQE4NhAl1z",
    "SULBwRA6Al10",
    "OZyxj4cjnzW_",
    "eVbZVyBbDA_0",
    "8Iel5jWADA_0",
    "sk45TUlPDA_1",
    "Jsg8bozFDA_1",
    "VQ5QM-42DA_1",
    "UYJC961EDA_2",
    "3pZCWtkeo2Q_",
    "BG6JDKXAKthv",
    "I3TA7qSXJJug",
    "vORapzaoJJug",
    "2JNOCPY3JJuh",
    "3bDvO3dZJXLK",
    "DdttC2gIJhFv",
    "d1zcyxjIJnxg",
    "PcxB-PgbJ1FT",
    "TOn8ae25J-Px",
    "RnJ3PbxLKkyu",
    "JGusVztLLKHA",
    "D2hHo3jxLKHA",
    "GYdgEkdDLKHB",
    "L-YMqtB5LKHB",
    "B-nGWBOrIrDe",
    "1kwiWMyhL0Cw",
    "EcUj0p-zL0Cw",
    "ZpIDH-M4L0Cx",
    "950JsRNjMAny",
    "iOPf8PsJMHZ4",
    "a6xyh9qQMNUh",
    "HBT59RLpIyUY",
    "XjRZm_smMaVe",
    "GjQTvUPCNGiw",
    "FnHgYu6jNcNn",
    "UuhpDpAfNhYJ",
    "sb5j_Pm8NrmT",
    "0fK-03_HNula",
    "sq_TTicpN0Rz",
    "1TgrioWuqBHB",
    "DXDtIWVI8y1_",
    "fnaXSgAZ-RoF",
    "OuleUT7a-aLd",
    "v3vX2AMI-jCL",
    "NB7H40DRqdBB",
    "0VlisYKK1BZ_",
    "lDvUSGJx15Dj",
    "PHHocSy32QI1",
    "Q7t6YQtj2Kgg",
    "n2JfuA9Wrqc4",
    "5mJ6zlBgsQVA",
    "TukJ4C4HsQVA",
    "f57VmUBasQVA",
    "HX4ZzxDNsQVB",
    "ze7ht2dosQVB",
    "vkmW7nLxtTbU",
    "VEqcnt5hwNdd",
    "fSjtED4lwXGX",
    "8p7waG2NwXN_",
    "0RYjgiwjzwKx",
    "LBfyqilLwXVo",
    "XDcH1G2wxDoG"
   ],
   "provenance": []
  },
  "kernelspec": {
   "display_name": "local-venv",
   "language": "python",
   "name": "local-venv"
  },
  "language_info": {
   "codemirror_mode": {
    "name": "ipython",
    "version": 3
   },
   "file_extension": ".py",
   "mimetype": "text/x-python",
   "name": "python",
   "nbconvert_exporter": "python",
   "pygments_lexer": "ipython3",
   "version": "3.10.6"
  }
 },
 "nbformat": 4,
 "nbformat_minor": 4
}
