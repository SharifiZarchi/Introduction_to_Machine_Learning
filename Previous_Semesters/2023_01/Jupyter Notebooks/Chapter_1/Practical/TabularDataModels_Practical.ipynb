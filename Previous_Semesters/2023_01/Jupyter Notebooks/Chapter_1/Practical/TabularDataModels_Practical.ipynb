{
 "cells": [
  {
   "cell_type": "markdown",
   "metadata": {
    "id": "BspwgQKL3Na8"
   },
   "source": [
    "<font face=\"Times New Roman\" size=5><div dir=rtl align=center>\n",
    "<font face=\"Times New Roman\" size=5>\n",
    "In The Name of God\n",
    "</font>\n",
    "<br> <br>\n",
    "<img src=\"https://logoyar.com/content/wp-content/uploads/2021/04/sharif-university-logo.png\" alt=\"University Logo\" width=\"150\" height=\"150\">\n",
    "<br>\n",
    "<font face=\"Times New Roman\" size=4 align=center>\n",
    "Sharif University of Technology - Department of Computer\n",
    "</font>\n",
    "<br> <br>\n",
    "<font color=\"#008080\" size=5>\n",
    "Introduction to Machine Learning\n",
    "</font>\n",
    "\n",
    "<hr/> <br>\n",
    "<font color=\"#800080\" size=6>\n",
    "Chapter 3: Bagging & Boosting\n",
    "<br>\n",
    "</font>\n",
    "<br>\n",
    "<font face=\"Times New Roman\" size=4>\n",
    ":authors <br>\n",
    "<b>OmidReza Heydari - Seyyed Alireza Ghazanfari</b>\n",
    "</font>\n",
    "<hr>\n",
    "</div></font>"
   ]
  },
  {
   "cell_type": "markdown",
   "metadata": {
    "id": "i6NrAXONPtcR"
   },
   "source": [
    "<font  size=5><div dir=ltr>\n",
    "<font face=\"Times New Roman\" color=\"#008080\" size=5>**Table of Contents**</font>\n",
    "<br>\n",
    "\n",
    "<font size=4>\n",
    "<ul>\n",
    "        <li>\n",
    "            <a href=\"#0\">\n",
    "                0. Dataset\n",
    "            </a>\n",
    "        </li>\n",
    "        <li>\n",
    "            <a href=\"#1\">\n",
    "                1. Majority Voting\n",
    "            </a>\n",
    "        </li>\n",
    "        <li>\n",
    "            <a href=\"#2\">\n",
    "                2. Bagging\n",
    "            </a>\n",
    "        </li>\n",
    "        <ul>\n",
    "            <li>\n",
    "                <a href=\"#2-1\">\n",
    "                    2-1. Out Of Bag Validation\n",
    "                </a>\n",
    "            </li>\n",
    "        </ul>\n",
    "        <li>\n",
    "            <a href=\"#3\">\n",
    "                3. Pasting\n",
    "            </a>\n",
    "        </li>\n",
    "        <li>\n",
    "            <a href=\"#4\">\n",
    "                4. Random Forest\n",
    "            </a>\n",
    "        </li>\n",
    "        <li>\n",
    "            <a href=\"#5\">\n",
    "                5. Extra-Trees\n",
    "            </a>\n",
    "        </li>\n",
    "        <li>\n",
    "            <a href=\"#6\">\n",
    "                6. Boosting\n",
    "            </a>\n",
    "        </li>\n",
    "        <ul>\n",
    "            <li>\n",
    "                <a href=\"#6-1\">\n",
    "                    6-1. AdaBoost\n",
    "                </a>\n",
    "            </li>\n",
    "            <ul>\n",
    "                <li>\n",
    "                    <a href=\"#6-1-1\">\n",
    "                        6-1-1. SAMME\n",
    "                    </a>\n",
    "                </li>\n",
    "                <li>\n",
    "                    <a href=\"#6-1-2\">\n",
    "                        6-1-2. SAMME.R\n",
    "                    </a>\n",
    "                </li>\n",
    "            </ul>\n",
    "            <li>\n",
    "                <a href=\"#6-2\">\n",
    "                    6-2. Gradient Boost\n",
    "                </a>\n",
    "            </li>\n",
    "            <ul>\n",
    "                <li>\n",
    "                    <a href=\"#6-2-1\">\n",
    "                        6-2-1. Without scikit-learn\n",
    "                    </a>\n",
    "                </li>\n",
    "                <li>\n",
    "                    <a href=\"#6-2-2\">\n",
    "                        6-2-2. With scikit-learn\n",
    "                    </a>\n",
    "                </li>\n",
    "            </ul>\n",
    "            <li>\n",
    "                <a href=\"#6-3\">\n",
    "                    6-3. Early Stopping\n",
    "                </a>\n",
    "            </li>\n",
    "            <ul>\n",
    "                <li>\n",
    "                    <a href=\"#6-3-1\">\n",
    "                        6-3-1. Method\n",
    "                    </a>\n",
    "                </li>\n",
    "                <li>\n",
    "                    <a href=\"#6-3-2\">\n",
    "                        6-3-2. Find Min Validation Error\n",
    "                    </a>\n",
    "                </li>\n",
    "            </ul>\n",
    "            <li>\n",
    "                <a href=\"#6-4\">\n",
    "                    6-4. XGBoost\n",
    "                </a>\n",
    "            </li>\n",
    "            <li>\n",
    "                <a href=\"#6-5\">\n",
    "                    6-5. CatBoost\n",
    "                </a>\n",
    "            </li>\n",
    "            <ul>\n",
    "                <li>\n",
    "                    <a href=\"#6-5-1\">\n",
    "                        6-5-1. Categorical Features\n",
    "                    </a>\n",
    "                </li>\n",
    "            </ul>\n",
    "        </ul>\n",
    "    <li>\n",
    "                <a href=\"#7\">\n",
    "                    7. Stacking\n",
    "                </a>\n",
    "            </li>\n",
    "            <ul>\n",
    "                <li>\n",
    "                    <a href=\"#7-1\">\n",
    "                        7-1. Multi-layer Stacking\n",
    "                    </a>\n",
    "                </li>\n",
    "            </ul>\n",
    "</ul>\n",
    "</div>"
   ]
  },
  {
   "cell_type": "markdown",
   "metadata": {
    "id": "sBzocXtIiTbu"
   },
   "source": [
    "<font face=\"Times New Roman\"><div id=\"0\">\n",
    "# <font color=\"#800080\" size=6>**0. Dataset**</font>\n",
    "</div>"
   ]
  },
  {
   "cell_type": "markdown",
   "metadata": {
    "id": "swwrxuSMAESj"
   },
   "source": [
    "#### <font color=\"#008080\" face=\"Times New Roman\" size=4>**Dataset**</font>"
   ]
  },
  {
   "cell_type": "markdown",
   "metadata": {
    "id": "Ju9aCx5yAESj"
   },
   "source": [
    "##### <font color=\"#008080\" face=\"Times New Roman\" size=4> - Introduction to Dataset </font>\n",
    "\n",
    "<font face=\"Times New Roman\" size=3>\n",
    "The dataset of this section belongs to a marketing campaign of a bank in Portugal. You can find more information about this dataset in this <a href=\"\">link</a>. This dataset is used for all next methodologies.\n",
    "</font>"
   ]
  },
  {
   "cell_type": "markdown",
   "metadata": {
    "id": "gYuiA7fFAESk"
   },
   "source": [
    "##### <font color=\"#008080\" face=\"Times New Roman\" size=4> - Loading Dataset </font>"
   ]
  },
  {
   "cell_type": "code",
   "execution_count": null,
   "metadata": {
    "colab": {
     "base_uri": "https://localhost:8080/",
     "height": 143
    },
    "id": "FybchF26AESk",
    "outputId": "67e844e3-408c-4de9-a172-6c55a96f8f5d"
   },
   "outputs": [],
   "source": [
    "import numpy as np\n",
    "import pandas as pd\n",
    "import seaborn as sns\n",
    "import matplotlib.pyplot as plt\n",
    "\n",
    "df = pd.read_csv(\"../Files/bank-full.csv\")\n",
    "df.head(3)"
   ]
  },
  {
   "cell_type": "markdown",
   "metadata": {
    "id": "helJaWTOAESk"
   },
   "source": [
    "##### <font color=\"#008080\" face=\"Times New Roman\" size=4> - More Information About Dataset </font>"
   ]
  },
  {
   "cell_type": "code",
   "execution_count": null,
   "metadata": {
    "colab": {
     "base_uri": "https://localhost:8080/",
     "height": 300
    },
    "id": "O-0q0QBrrDuM",
    "outputId": "2e44a2d7-4c3d-47bc-ca29-1dcae08f8336"
   },
   "outputs": [],
   "source": [
    "df.describe()"
   ]
  },
  {
   "cell_type": "code",
   "execution_count": null,
   "metadata": {
    "colab": {
     "base_uri": "https://localhost:8080/"
    },
    "id": "5QDfSkx7rDuS",
    "outputId": "0ec0edb8-50cb-4a54-c996-6036ef23a74c"
   },
   "outputs": [],
   "source": [
    "df.info()"
   ]
  },
  {
   "cell_type": "markdown",
   "metadata": {
    "id": "9Kzb9jNlrDuU"
   },
   "source": [
    "##### <font color=\"#008080\" face=\"Times New Roman\" size=4> - Visualizing Dataset </font>"
   ]
  },
  {
   "cell_type": "markdown",
   "metadata": {
    "id": "0BrjWqO-AESk"
   },
   "source": [
    "##### <font color=\"#008080\" face=\"Times New Roman\" size=4> - Pre-Processing Dataset</font>"
   ]
  },
  {
   "cell_type": "code",
   "execution_count": null,
   "metadata": {
    "id": "-mpV4390AESl"
   },
   "outputs": [],
   "source": [
    "from sklearn.preprocessing import LabelEncoder\n",
    "\n",
    "# First of all we should change non-numerical values to numbers\n",
    "encoder = LabelEncoder()\n",
    "columns_to_encode = ['job', 'marital', 'education', 'month', 'contact', 'poutcome', 'housing', 'loan', 'Target', 'default']\n",
    "for column_to_encode in columns_to_encode:\n",
    "    encoder.fit(np.array(df[column_to_encode]))\n",
    "    df[column_to_encode]=encoder.transform(df[column_to_encode])"
   ]
  },
  {
   "cell_type": "code",
   "execution_count": null,
   "metadata": {
    "id": "MgjRV6qRrDuZ"
   },
   "outputs": [],
   "source": [
    "# Next step is removing unknown rows\n",
    "colums_have_unknow=['job', 'marital', 'education', 'default', 'housing', 'loan']\n",
    "for colum_has_unknow in colums_have_unknow:\n",
    "    df.drop(df[df[colum_has_unknow] == 'unknow'].index, inplace = True)"
   ]
  },
  {
   "cell_type": "code",
   "execution_count": null,
   "metadata": {
    "colab": {
     "base_uri": "https://localhost:8080/",
     "height": 1000
    },
    "id": "n0Ei0F6YrDua",
    "outputId": "0ea1b33e-ca42-48d2-9584-62ecd2342f62"
   },
   "outputs": [],
   "source": [
    "from sklearn.model_selection import train_test_split\n",
    "\n",
    "# split labels and features\n",
    "y = df[\"Target\"].copy()\n",
    "x = df.drop(\"Target\", axis=1)\n",
    "\n",
    "# split test and train data\n",
    "x_train, x_test, y_train, y_test = train_test_split(x, y, test_size = 0.33, random_state = 42)\n",
    "\n",
    "plt.figure(figsize=(17,17))\n",
    "sns.heatmap(data = df.corr(), annot=True, cmap=\"YlOrBr\")\n",
    "plt.show()"
   ]
  },
  {
   "cell_type": "markdown",
   "metadata": {
    "id": "rYaiPL1plrDm"
   },
   "source": [
    "<font face=\"Times New Roman\"><div id=\"1\">\n",
    "# <font color=\"#800080\" size=6>**1. Majority Voting** </font>\n",
    "</div>"
   ]
  },
  {
   "cell_type": "markdown",
   "metadata": {
    "id": "E5LZv8WxAESl"
   },
   "source": [
    "#### <font color=\"#008080\" face=\"Times New Roman\" size=4>**Model**</font>"
   ]
  },
  {
   "cell_type": "code",
   "execution_count": null,
   "metadata": {
    "id": "LpEmhZsmAESl"
   },
   "outputs": [],
   "source": [
    "from sklearn.svm import SVC\n",
    "from sklearn.tree import DecisionTreeClassifier\n",
    "from sklearn.ensemble import VotingClassifier\n",
    "from sklearn.linear_model import LogisticRegression\n",
    "\n",
    "# Create models\n",
    "log_clf = LogisticRegression(solver='lbfgs', max_iter=30000, random_state = 42)\n",
    "dt_clf = DecisionTreeClassifier(random_state = 42)\n",
    "svm_clf = SVC(random_state = 42)\n",
    "hard_voting_clf = VotingClassifier(estimators=[('lr', log_clf), ('dt', dt_clf), ('svc', svm_clf)])"
   ]
  },
  {
   "cell_type": "markdown",
   "metadata": {
    "id": "gSvKw0pdAESm"
   },
   "source": [
    "#### <font color=\"#008080\" face=\"Times New Roman\" size=4>**Train**</font>"
   ]
  },
  {
   "cell_type": "code",
   "execution_count": null,
   "metadata": {
    "colab": {
     "base_uri": "https://localhost:8080/",
     "height": 110
    },
    "id": "wTn5oEryrDuh",
    "outputId": "9e0c0c60-5d39-4ee9-9967-e256582e63ae"
   },
   "outputs": [],
   "source": [
    "from sklearn.metrics import accuracy_score\n",
    "\n",
    "results = {}\n",
    "for clf in (dt_clf, svm_clf, log_clf):\n",
    "    clf.fit(x_train, y_train)\n",
    "    y_pred = clf.predict(x_test)\n",
    "    results[clf.__class__.__name__] = accuracy_score(y_test, y_pred)\n",
    "\n",
    "hard_voting_clf.fit(x_train, y_train)"
   ]
  },
  {
   "cell_type": "markdown",
   "metadata": {
    "id": "DCicBNv3AESm"
   },
   "source": [
    "#### <font color=\"#008080\" face=\"Times New Roman\" size=4>**Evaluation**</font>"
   ]
  },
  {
   "cell_type": "code",
   "execution_count": null,
   "metadata": {
    "id": "vYem4ThqAESl"
   },
   "outputs": [],
   "source": [
    "y_pred = hard_voting_clf.predict(x_test)\n",
    "results[\"HardVotingClassifier\"] = accuracy_score(y_test, y_pred)"
   ]
  },
  {
   "cell_type": "markdown",
   "metadata": {
    "id": "rpEZrgzGAESn"
   },
   "source": [
    "#### <font color=\"#008080\" face=\"Times New Roman\" size=4>**Visualization**</font>"
   ]
  },
  {
   "cell_type": "code",
   "execution_count": null,
   "metadata": {
    "colab": {
     "base_uri": "https://localhost:8080/",
     "height": 599
    },
    "id": "7ouxoEg6AESn",
    "outputId": "c16398c9-c3c4-4ec2-d2cb-3d443bf7d55e"
   },
   "outputs": [],
   "source": [
    "plt.figure(figsize=(14, 7))\n",
    "ax = sns.barplot(x=list(results.keys()), y=list(results.values()), palette=\"crest\")\n",
    "ax.set_ylim([min(list(results.values()))-0.002, max(list(results.values()))+0.005])\n",
    "plt.show()"
   ]
  },
  {
   "cell_type": "markdown",
   "metadata": {
    "id": "zOUaq_zLrDun"
   },
   "source": [
    "<font face=\"Times New Roman\"><div id=\"2\">\n",
    "# <font color=\"#800080\" size=6>**2. Bagging** </font>\n",
    "</div>"
   ]
  },
  {
   "cell_type": "markdown",
   "metadata": {
    "id": "14oWGLnbAl1y"
   },
   "source": [
    "#### <font color=\"#008080\" face=\"Times New Roman\" size=4>**Model**</font>"
   ]
  },
  {
   "cell_type": "code",
   "execution_count": null,
   "metadata": {
    "id": "ozKb37LXAl1y"
   },
   "outputs": [],
   "source": [
    "from sklearn.ensemble import BaggingClassifier\n",
    "from sklearn.tree import DecisionTreeClassifier\n",
    "\n",
    "bag_clf = BaggingClassifier(DecisionTreeClassifier(), n_estimators=2000, max_samples=400, bootstrap=True, n_jobs=-1)"
   ]
  },
  {
   "cell_type": "markdown",
   "metadata": {
    "id": "osVXNTRxAl1y"
   },
   "source": [
    "#### <font color=\"#008080\" face=\"Times New Roman\" size=4>**Train**</font>"
   ]
  },
  {
   "cell_type": "code",
   "execution_count": null,
   "metadata": {
    "colab": {
     "base_uri": "https://localhost:8080/",
     "height": 118
    },
    "id": "zXCt34qrAl1z",
    "outputId": "3722f51a-37ca-46b4-9310-71f663f2d688"
   },
   "outputs": [],
   "source": [
    "bag_clf.fit(x_train, y_train)"
   ]
  },
  {
   "cell_type": "markdown",
   "metadata": {
    "id": "SULBwRA6Al10"
   },
   "source": [
    "#### <font color=\"#008080\" face=\"Times New Roman\" size=4>**Evaluation**</font>"
   ]
  },
  {
   "cell_type": "markdown",
   "metadata": {
    "id": "8Iel5jWADA_0"
   },
   "source": [
    "##### <font color=\"#008080\" face=\"Times New Roman\" size=4> - Prediction </font>"
   ]
  },
  {
   "cell_type": "code",
   "execution_count": null,
   "metadata": {
    "cellView": "form",
    "id": "ib8Or3t8Al11"
   },
   "outputs": [],
   "source": [
    "y_pred = bag_clf.predict(x_test)"
   ]
  },
  {
   "cell_type": "markdown",
   "metadata": {
    "id": "mKYauB0MrDuw"
   },
   "source": [
    "##### <font color=\"#008080\" face=\"Times New Roman\" size=4> - Accuracy </font>"
   ]
  },
  {
   "cell_type": "code",
   "execution_count": null,
   "metadata": {
    "colab": {
     "base_uri": "https://localhost:8080/"
    },
    "id": "jIrsI6dEAl11",
    "outputId": "3e0e7142-114a-4c10-f352-411ed1206170"
   },
   "outputs": [],
   "source": [
    "accuracy_score(y_test, y_pred)"
   ]
  },
  {
   "cell_type": "markdown",
   "metadata": {
    "id": "Qdiogb1zrDuz"
   },
   "source": [
    "#### <font color=\"#008080\" face=\"Times New Roman\" size=4>**Visualization**</font>"
   ]
  },
  {
   "cell_type": "code",
   "execution_count": null,
   "metadata": {
    "colab": {
     "base_uri": "https://localhost:8080/",
     "height": 449
    },
    "id": "EmzQwRudrDu0",
    "outputId": "022c45a1-7492-4f0e-9e47-04d6d8bdb8f9"
   },
   "outputs": [],
   "source": [
    "from sklearn.metrics import confusion_matrix\n",
    "\n",
    "def show_confusion_matrix(y_test, y_pred):\n",
    "  clr_plt = sns.light_palette(\"#FF9F29\", reverse=True, as_cmap=True)\n",
    "  cf_matrix = confusion_matrix(y_test, y_pred)\n",
    "  sns.heatmap(cf_matrix/np.sum(cf_matrix), annot=True, fmt='.2%',cmap=clr_plt)\n",
    "  plt.ylabel('Predicted label')\n",
    "  plt.xlabel('True Label')\n",
    "  plt.show\n",
    "\n",
    "show_confusion_matrix(y_test, y_pred)"
   ]
  },
  {
   "cell_type": "markdown",
   "metadata": {
    "id": "BG6JDKXAKthv"
   },
   "source": [
    "<font face=\"Times New Roman\"><div id=\"2-1\">\n",
    "## <font color=\"#800080\" size=6>**2-1. Out Of Bag Validation**</font>\n",
    "</div>"
   ]
  },
  {
   "cell_type": "code",
   "execution_count": null,
   "metadata": {
    "colab": {
     "base_uri": "https://localhost:8080/"
    },
    "id": "HGGBO53orDu2",
    "outputId": "1eb63db6-36d8-4187-b6c5-04eeaa3f3a8d"
   },
   "outputs": [],
   "source": [
    "bag_clf = BaggingClassifier(DecisionTreeClassifier(), n_estimators=2000, bootstrap=True, n_jobs=-1, oob_score=True)\n",
    "bag_clf.fit(x_train, y_train)\n",
    "print(\"OOB Score: \" + str(bag_clf.oob_score_))\n",
    "print(\"Accuracy Score : \"+ str(accuracy_score(y_test, bag_clf.predict(x_test))))"
   ]
  },
  {
   "cell_type": "markdown",
   "metadata": {
    "id": "NdeIBJnLrDu3"
   },
   "source": [
    "<font face=\"Times New Roman\"><div id=\"3\">\n",
    "# <font color=\"#800080\" size=6>**3. Pasting** </font>\n",
    "</div>"
   ]
  },
  {
   "cell_type": "markdown",
   "metadata": {
    "id": "VQ5QM-42DA_1"
   },
   "source": [
    "#### <font color=\"#008080\" face=\"Times New Roman\" size=4>**Model**</font>"
   ]
  },
  {
   "cell_type": "code",
   "execution_count": null,
   "metadata": {
    "id": "Cb9U5AFnDA_2"
   },
   "outputs": [],
   "source": [
    "from sklearn.ensemble import BaggingClassifier\n",
    "from sklearn.tree import DecisionTreeClassifier\n",
    "\n",
    "bag_clf = BaggingClassifier(DecisionTreeClassifier(), n_estimators=2000, max_samples=400, bootstrap=False, n_jobs=-1)"
   ]
  },
  {
   "cell_type": "markdown",
   "metadata": {
    "id": "UYJC961EDA_2"
   },
   "source": [
    "#### <font color=\"#008080\" face=\"Times New Roman\" size=4>**Train**</font>"
   ]
  },
  {
   "cell_type": "code",
   "execution_count": null,
   "metadata": {
    "colab": {
     "base_uri": "https://localhost:8080/",
     "height": 118
    },
    "id": "vx27gm_9DA_2",
    "outputId": "b91130bc-2d21-4c85-ab8b-e2a06744dfa9"
   },
   "outputs": [],
   "source": [
    "bag_clf.fit(x_train, y_train)"
   ]
  },
  {
   "cell_type": "markdown",
   "metadata": {
    "id": "sChFVxAErDu8"
   },
   "source": [
    "#### <font color=\"#008080\" face=\"Times New Roman\" size=4>**Evaluation**</font>"
   ]
  },
  {
   "cell_type": "markdown",
   "metadata": {
    "id": "vORapzaoJJug"
   },
   "source": [
    "##### <font color=\"#008080\" face=\"Times New Roman\" size=4> - Prediction </font>"
   ]
  },
  {
   "cell_type": "code",
   "execution_count": null,
   "metadata": {
    "id": "uFmdK69CrDu-"
   },
   "outputs": [],
   "source": [
    "y_pred = bag_clf.predict(x_test)"
   ]
  },
  {
   "cell_type": "markdown",
   "metadata": {
    "id": "zT_XKre5rDvA"
   },
   "source": [
    "##### <font color=\"#008080\" face=\"Times New Roman\" size=4> - Accuracy </font>"
   ]
  },
  {
   "cell_type": "code",
   "execution_count": null,
   "metadata": {
    "colab": {
     "base_uri": "https://localhost:8080/"
    },
    "id": "jIeG9zh5rDvB",
    "outputId": "8842fd02-bdcc-4f7c-f9f8-9b2a121a74db"
   },
   "outputs": [],
   "source": [
    "accuracy_score(y_test, y_pred)"
   ]
  },
  {
   "cell_type": "markdown",
   "metadata": {
    "id": "vGCKqHATrDvD"
   },
   "source": [
    "#### <font color=\"#008080\" face=\"Times New Roman\" size=4>**Visualization**</font>"
   ]
  },
  {
   "cell_type": "code",
   "execution_count": null,
   "metadata": {
    "colab": {
     "base_uri": "https://localhost:8080/",
     "height": 449
    },
    "id": "GBZX97QmrDvE",
    "outputId": "36979891-93a1-4b2e-8d6f-7a3739c35849"
   },
   "outputs": [],
   "source": [
    "show_confusion_matrix(y_test, y_pred)"
   ]
  },
  {
   "cell_type": "markdown",
   "metadata": {
    "id": "kOsXcN2HrDvG"
   },
   "source": [
    "<font face=\"Times New Roman\"><div id=\"4\">\n",
    "# <font color=\"#800080\" size=6>**4. Random Forest** </font>\n",
    "</div>"
   ]
  },
  {
   "cell_type": "markdown",
   "metadata": {
    "id": "thSJHE-lrDvH"
   },
   "source": [
    "#### <font color=\"#008080\" face=\"Times New Roman\" size=4>**Model**</font>"
   ]
  },
  {
   "cell_type": "code",
   "execution_count": null,
   "metadata": {
    "id": "f9zaHrCOrDvH"
   },
   "outputs": [],
   "source": [
    "from sklearn.ensemble import RandomForestClassifier\n",
    "rnd_clf = RandomForestClassifier(n_estimators=500, max_leaf_nodes=16, n_jobs=-1)"
   ]
  },
  {
   "cell_type": "markdown",
   "metadata": {
    "id": "KpSx-BswrDvI"
   },
   "source": [
    "#### <font color=\"#008080\" face=\"Times New Roman\" size=4>**Train**</font>"
   ]
  },
  {
   "cell_type": "code",
   "execution_count": null,
   "metadata": {
    "colab": {
     "base_uri": "https://localhost:8080/",
     "height": 75
    },
    "id": "nM04kQ0urDvJ",
    "outputId": "b308a1f2-72c1-42f3-9780-c57f542e1b47"
   },
   "outputs": [],
   "source": [
    "rnd_clf.fit(x_train, y_train)"
   ]
  },
  {
   "cell_type": "markdown",
   "metadata": {
    "id": "LaDe2LeyrDvK"
   },
   "source": [
    "#### <font color=\"#008080\" face=\"Times New Roman\" size=4>**Evaluation**</font>"
   ]
  },
  {
   "cell_type": "markdown",
   "metadata": {
    "id": "J4qTCY6wrDvL"
   },
   "source": [
    "##### <font color=\"#008080\" face=\"Times New Roman\" size=4> - Prediction </font>"
   ]
  },
  {
   "cell_type": "code",
   "execution_count": null,
   "metadata": {
    "id": "j55Q2J9TrDvM"
   },
   "outputs": [],
   "source": [
    "y_pred_rf = rnd_clf.predict(x_test)"
   ]
  },
  {
   "cell_type": "markdown",
   "metadata": {
    "id": "DgJlQWw0rDvN"
   },
   "source": [
    "##### <font color=\"#008080\" face=\"Times New Roman\" size=4> - Accuracy </font>"
   ]
  },
  {
   "cell_type": "code",
   "execution_count": null,
   "metadata": {
    "colab": {
     "base_uri": "https://localhost:8080/"
    },
    "id": "x1wcAfA8rDvO",
    "outputId": "3d7554c2-6c84-4761-81e8-c285f1be32d6"
   },
   "outputs": [],
   "source": [
    "accuracy_score(y_test, y_pred)"
   ]
  },
  {
   "cell_type": "markdown",
   "metadata": {
    "id": "3pZCWtkeo2Q_"
   },
   "source": [
    "<font face=\"Times New Roman\"><div id=\"5\">\n",
    "# <font color=\"#800080\" size=6>**5. Extra-Trees**</font>\n",
    "</div>"
   ]
  },
  {
   "cell_type": "markdown",
   "metadata": {
    "id": "I3TA7qSXJJug"
   },
   "source": [
    "#### <font color=\"#008080\" face=\"Times New Roman\" size=4>**Model**</font>"
   ]
  },
  {
   "cell_type": "code",
   "execution_count": null,
   "metadata": {
    "id": "VrZ1dQ-PrDvR"
   },
   "outputs": [],
   "source": [
    "from sklearn.ensemble import ExtraTreesClassifier\n",
    "ex_tree_clf = ExtraTreesClassifier(n_estimators=500)"
   ]
  },
  {
   "cell_type": "markdown",
   "metadata": {
    "id": "NaigOiuRrDvT"
   },
   "source": [
    "#### <font color=\"#008080\" face=\"Times New Roman\" size=4>**Train**</font>"
   ]
  },
  {
   "cell_type": "code",
   "execution_count": null,
   "metadata": {
    "colab": {
     "base_uri": "https://localhost:8080/",
     "height": 75
    },
    "id": "aFJjedVurDvT",
    "outputId": "faaa3083-ac09-4ca2-8cb5-237ccf308640"
   },
   "outputs": [],
   "source": [
    "ex_tree_clf.fit(x_train, y_train)"
   ]
  },
  {
   "cell_type": "markdown",
   "metadata": {
    "id": "t5ww6IbRrDvU"
   },
   "source": [
    "#### <font color=\"#008080\" face=\"Times New Roman\" size=4>**Evaluation**</font>"
   ]
  },
  {
   "cell_type": "markdown",
   "metadata": {
    "id": "AIOVEljSrDvV"
   },
   "source": [
    "##### <font color=\"#008080\" face=\"Times New Roman\" size=4> - Prediction </font>"
   ]
  },
  {
   "cell_type": "code",
   "execution_count": null,
   "metadata": {
    "id": "oipd4RysJJug"
   },
   "outputs": [],
   "source": [
    "y_pred_rf = ex_tree_clf.predict(x_test)"
   ]
  },
  {
   "cell_type": "markdown",
   "metadata": {
    "id": "2JNOCPY3JJuh"
   },
   "source": [
    "##### <font color=\"#008080\" face=\"Times New Roman\" size=4> - Accuracy </font>"
   ]
  },
  {
   "cell_type": "code",
   "execution_count": null,
   "metadata": {
    "colab": {
     "base_uri": "https://localhost:8080/"
    },
    "id": "0ppzbAv8JJuh",
    "outputId": "f426e63a-92a8-451c-f844-8b7342ee9211"
   },
   "outputs": [],
   "source": [
    "accuracy_score(y_test, y_pred)"
   ]
  },
  {
   "cell_type": "markdown",
   "metadata": {
    "id": "KKi8dItdrDvZ"
   },
   "source": [
    "<font face=\"Times New Roman\"><div id=\"6\">\n",
    "# <font color=\"#800080\" size=6>**6. Boosting**</font>\n",
    "</div>"
   ]
  },
  {
   "cell_type": "markdown",
   "metadata": {
    "id": "Kny1ud_NrDva"
   },
   "source": [
    "<font face=\"Times New Roman\"><div id=\"6-1\">\n",
    "## <font color=\"#800080\" size=6>**6-1. AdaBoost**</font>\n",
    "</div>"
   ]
  },
  {
   "cell_type": "markdown",
   "metadata": {
    "id": "RnJ3PbxLKkyu"
   },
   "source": [
    "<font face=\"Times New Roman\"><div id=\"6-1-1\">\n",
    "### <font color=\"#800080\" size=5>**6-1-1. SAMME**</font>\n",
    "</div>"
   ]
  },
  {
   "cell_type": "markdown",
   "metadata": {
    "id": "950JsRNjMAny"
   },
   "source": [
    "#### <font color=\"#008080\" face=\"Times New Roman\" size=4>**Model**</font>"
   ]
  },
  {
   "cell_type": "code",
   "execution_count": null,
   "metadata": {
    "id": "rpQN1W-iMAnz"
   },
   "outputs": [],
   "source": [
    "from sklearn.ensemble import AdaBoostClassifier\n",
    "ada_clf = AdaBoostClassifier(DecisionTreeClassifier(max_depth=1), n_estimators=200, algorithm=\"SAMME\", learning_rate=0.5)"
   ]
  },
  {
   "cell_type": "markdown",
   "metadata": {
    "id": "iOPf8PsJMHZ4"
   },
   "source": [
    "#### <font color=\"#008080\" face=\"Times New Roman\" size=4>**Train**</font>"
   ]
  },
  {
   "cell_type": "code",
   "execution_count": null,
   "metadata": {
    "colab": {
     "base_uri": "https://localhost:8080/",
     "height": 172
    },
    "id": "dhd4xKrtMHxd",
    "outputId": "365a94e9-2412-4b67-e200-dfe4ec00b936"
   },
   "outputs": [],
   "source": [
    "ada_clf.fit(x_train, y_train)"
   ]
  },
  {
   "cell_type": "markdown",
   "metadata": {
    "id": "a6xyh9qQMNUh"
   },
   "source": [
    "#### <font color=\"#008080\" face=\"Times New Roman\" size=4>**Evaluation**</font>"
   ]
  },
  {
   "cell_type": "markdown",
   "metadata": {
    "id": "4VpbP9QhrDvi"
   },
   "source": [
    "##### <font color=\"#008080\" face=\"Times New Roman\" size=4> - Predictoin </font>"
   ]
  },
  {
   "cell_type": "code",
   "execution_count": null,
   "metadata": {
    "id": "sb4uu0s5rDvi"
   },
   "outputs": [],
   "source": [
    "y_pred = ada_clf.predict(x_test)"
   ]
  },
  {
   "cell_type": "markdown",
   "metadata": {
    "id": "1I9_Bxd7rDvk"
   },
   "source": [
    "##### <font color=\"#008080\" face=\"Times New Roman\" size=4> - Accuracy </font>"
   ]
  },
  {
   "cell_type": "code",
   "execution_count": null,
   "metadata": {
    "colab": {
     "base_uri": "https://localhost:8080/"
    },
    "id": "8mliBzl4rDvl",
    "outputId": "9ab5542c-2a51-4385-e17a-cc6659379c22"
   },
   "outputs": [],
   "source": [
    "accuracy_score(y_test, y_pred)"
   ]
  },
  {
   "cell_type": "markdown",
   "metadata": {
    "id": "gs_qPMs9rDvm"
   },
   "source": [
    "<font face=\"Times New Roman\"><div id=\"6-1-2\">\n",
    "### <font color=\"#800080\" size=5>**6-1-2. SAMME.R**</font>\n",
    "</div>"
   ]
  },
  {
   "cell_type": "markdown",
   "metadata": {
    "id": "MZ7PElwtrDvn"
   },
   "source": [
    "#### <font color=\"#008080\" face=\"Times New Roman\" size=4>**Model**</font>"
   ]
  },
  {
   "cell_type": "code",
   "execution_count": null,
   "metadata": {
    "id": "SLcU84ZrrDvo"
   },
   "outputs": [],
   "source": [
    "from sklearn.ensemble import AdaBoostClassifier\n",
    "ada_clf = AdaBoostClassifier(DecisionTreeClassifier(max_depth=1), n_estimators=200, algorithm=\"SAMME.R\", learning_rate=0.5)"
   ]
  },
  {
   "cell_type": "markdown",
   "metadata": {
    "id": "41OINF02rDvp"
   },
   "source": [
    "#### <font color=\"#008080\" face=\"Times New Roman\" size=4>**Train**</font>"
   ]
  },
  {
   "cell_type": "code",
   "execution_count": null,
   "metadata": {
    "colab": {
     "base_uri": "https://localhost:8080/",
     "height": 118
    },
    "id": "IYpadcPZrDvq",
    "outputId": "95cf1a0a-f407-4f04-d54e-8058195e67c2"
   },
   "outputs": [],
   "source": [
    "ada_clf.fit(x_train, y_train)"
   ]
  },
  {
   "cell_type": "markdown",
   "metadata": {
    "id": "QPHDSU8IrDvr"
   },
   "source": [
    "#### <font color=\"#008080\" face=\"Times New Roman\" size=4>**Evaluation**</font>"
   ]
  },
  {
   "cell_type": "markdown",
   "metadata": {
    "id": "6sCnZ8ZBrDvs"
   },
   "source": [
    "##### <font color=\"#008080\" face=\"Times New Roman\" size=4> - Predictoin </font>"
   ]
  },
  {
   "cell_type": "code",
   "execution_count": null,
   "metadata": {
    "id": "l8PshuL6rDvs"
   },
   "outputs": [],
   "source": [
    "y_pred = ada_clf.predict(x_test)"
   ]
  },
  {
   "cell_type": "markdown",
   "metadata": {
    "id": "FZBi_u1drDvt"
   },
   "source": [
    "##### <font color=\"#008080\" face=\"Times New Roman\" size=4> - Accuracy </font>"
   ]
  },
  {
   "cell_type": "code",
   "execution_count": null,
   "metadata": {
    "colab": {
     "base_uri": "https://localhost:8080/"
    },
    "id": "IC-MOPdXrDvu",
    "outputId": "933541b1-45ca-4fd2-9941-43c99428d817"
   },
   "outputs": [],
   "source": [
    "accuracy_score(y_test, y_pred)"
   ]
  },
  {
   "cell_type": "markdown",
   "metadata": {
    "id": "Cx1CdeB_rDvv"
   },
   "source": [
    "<font face=\"Times New Roman\"><div id=\"6-2\">\n",
    "## <font color=\"#800080\" size=6>**6-2. Gradient Boost**</font>\n",
    "</div>"
   ]
  },
  {
   "cell_type": "markdown",
   "metadata": {
    "id": "HBT59RLpIyUY"
   },
   "source": [
    "<font face=\"Times New Roman\"><div id=\"6-2-1\">\n",
    "### <font color=\"#800080\" size=5>**6-2-1. Without Scikit-Learn**</font>\n",
    "</div>"
   ]
  },
  {
   "cell_type": "markdown",
   "metadata": {
    "id": "YK6GSHx0rDvx"
   },
   "source": [
    "#### <font color=\"#008080\" face=\"Times New Roman\" size=4>**Model**</font>"
   ]
  },
  {
   "cell_type": "code",
   "execution_count": null,
   "metadata": {
    "colab": {
     "base_uri": "https://localhost:8080/",
     "height": 95
    },
    "id": "TS8rznn5rDvy",
    "outputId": "f26c8329-a993-441b-f002-d489c742d07b"
   },
   "outputs": [],
   "source": [
    "tree_cl1 = DecisionTreeClassifier(max_depth=2, random_state=42)\n",
    "tree_cl1.fit(x_train, y_train)\n",
    "\n",
    "y2 = y_train - tree_cl1.predict(x_train)\n",
    "tree_cl2 = DecisionTreeClassifier(max_depth=2, random_state=42)\n",
    "tree_cl2.fit(x_train, y2)\n",
    "\n",
    "y3 = y2 - tree_cl2.predict(x_train)\n",
    "tree_cl3 = DecisionTreeClassifier(max_depth=2, random_state=42)\n",
    "tree_cl3.fit(x_train, y3)"
   ]
  },
  {
   "cell_type": "markdown",
   "metadata": {
    "id": "B2iWsmxtrDv0"
   },
   "source": [
    "#### <font color=\"#008080\" face=\"Times New Roman\" size=4>**Evaluation**</font>"
   ]
  },
  {
   "cell_type": "markdown",
   "metadata": {
    "id": "qdNqCaagrDv1"
   },
   "source": [
    "##### <font color=\"#008080\" face=\"Times New Roman\" size=4> - Predictoin </font>"
   ]
  },
  {
   "cell_type": "code",
   "execution_count": null,
   "metadata": {
    "id": "csubNK8IrDv4"
   },
   "outputs": [],
   "source": [
    "y_pred = sum(tree.predict(x_test) for tree in (tree_cl1, tree_cl2, tree_cl3))"
   ]
  },
  {
   "cell_type": "markdown",
   "metadata": {
    "id": "As5ULNfmrDv5"
   },
   "source": [
    "##### <font color=\"#008080\" face=\"Times New Roman\" size=4> - Accuracy </font>"
   ]
  },
  {
   "cell_type": "code",
   "execution_count": null,
   "metadata": {
    "colab": {
     "base_uri": "https://localhost:8080/"
    },
    "id": "Qc3pfjbdrDv7",
    "outputId": "255ef0c8-46f7-4a01-b834-389806df7215"
   },
   "outputs": [],
   "source": [
    "accuracy_score(y_test, y_pred)"
   ]
  },
  {
   "cell_type": "markdown",
   "metadata": {
    "id": "pEUKOtD4rDv8"
   },
   "source": [
    "<font face=\"Times New Roman\"><div id=\"6-2-2\">\n",
    "### <font color=\"#800080\" size=5>**6-2-2. with Scikit-Learn**</font>\n",
    "</div>"
   ]
  },
  {
   "cell_type": "markdown",
   "metadata": {
    "id": "KXTyGvRErDv9"
   },
   "source": [
    "#### <font color=\"#008080\" face=\"Times New Roman\" size=4>**Model**</font>"
   ]
  },
  {
   "cell_type": "code",
   "execution_count": null,
   "metadata": {
    "id": "UQ5eY4bBrDv9"
   },
   "outputs": [],
   "source": [
    "from sklearn.ensemble import GradientBoostingClassifier\n",
    "\n",
    "gbc = GradientBoostingClassifier(max_depth=2, n_estimators=5, random_state=42, learning_rate=1.0)"
   ]
  },
  {
   "cell_type": "markdown",
   "metadata": {
    "id": "QS3D5gk4rDv-"
   },
   "source": [
    "#### <font color=\"#008080\" face=\"Times New Roman\" size=4>**Train**</font>"
   ]
  },
  {
   "cell_type": "code",
   "execution_count": null,
   "metadata": {
    "colab": {
     "base_uri": "https://localhost:8080/",
     "height": 92
    },
    "id": "ojrKFMh1rDv_",
    "outputId": "12f2ef85-9d02-4f40-ca24-6d46505b13a1"
   },
   "outputs": [],
   "source": [
    "gbc.fit(x_train, y_train)"
   ]
  },
  {
   "cell_type": "markdown",
   "metadata": {
    "id": "YlV29n5UrDwA"
   },
   "source": [
    "#### <font color=\"#008080\" face=\"Times New Roman\" size=4>**Evaluation**</font>"
   ]
  },
  {
   "cell_type": "markdown",
   "metadata": {
    "id": "fhIaNVE3rDwB"
   },
   "source": [
    "##### <font color=\"#008080\" face=\"Times New Roman\" size=4> - Predictoin </font>"
   ]
  },
  {
   "cell_type": "code",
   "execution_count": null,
   "metadata": {
    "id": "MN5F4MEirDwC"
   },
   "outputs": [],
   "source": [
    "y_pred = gbc.predict(x_test)"
   ]
  },
  {
   "cell_type": "markdown",
   "metadata": {
    "id": "rZkSEynCrDwD"
   },
   "source": [
    "##### <font color=\"#008080\" face=\"Times New Roman\" size=4> - Accuracy </font>"
   ]
  },
  {
   "cell_type": "code",
   "execution_count": null,
   "metadata": {
    "colab": {
     "base_uri": "https://localhost:8080/"
    },
    "id": "1IBrtA2erDwF",
    "outputId": "157ef105-ab89-4e60-e759-72bc31aa57f0"
   },
   "outputs": [],
   "source": [
    "accuracy_score(y_test, y_pred)"
   ]
  },
  {
   "cell_type": "markdown",
   "metadata": {
    "id": "1TgrioWuqBHB"
   },
   "source": [
    "<font face=\"Times New Roman\"><div id=\"6-3\">\n",
    "## <font color=\"#800080\" size=6>**6-3. Early Stopping**</font>\n",
    "</div>"
   ]
  },
  {
   "cell_type": "markdown",
   "metadata": {
    "id": "DRvYLaqwrDwG"
   },
   "source": [
    "<font face=\"Times New Roman\"><div id=\"6-3-1\">\n",
    "### <font color=\"#800080\" size=5>**6-3-1. Method**</font>\n",
    "</div>"
   ]
  },
  {
   "cell_type": "markdown",
   "metadata": {
    "id": "DXDtIWVI8y1_"
   },
   "source": [
    "#### <font color=\"#008080\" face=\"Times New Roman\" size=4>**Methodology**</font>"
   ]
  },
  {
   "cell_type": "markdown",
   "metadata": {
    "id": "DE3-Zg6i9L-E"
   },
   "source": [
    "##### <font color=\"#008080\" face=\"Times New Roman\" size=4> - Implementation </font>"
   ]
  },
  {
   "cell_type": "code",
   "execution_count": null,
   "metadata": {
    "id": "8WOdD8wi8y2B"
   },
   "outputs": [],
   "source": [
    "from sklearn.metrics import mean_squared_error\n",
    "from sklearn.ensemble import GradientBoostingClassifier\n",
    "\n",
    "result={}\n",
    "for count_of_estimators in range(1, 70):\n",
    "  gbc = GradientBoostingClassifier(max_depth=2, n_estimators=count_of_estimators, random_state=42, learning_rate=1.0)\n",
    "  gbc.fit(x_train, y_train)\n",
    "  y_pred = gbc.predict(x_test)\n",
    "  val_error = mean_squared_error(y_test, y_pred)\n",
    "  result[count_of_estimators]=val_error"
   ]
  },
  {
   "cell_type": "markdown",
   "metadata": {
    "id": "FE70nOX58y2C"
   },
   "source": [
    "##### <font color=\"#008080\" face=\"Times New Roman\" size=4> - Visualization </font>"
   ]
  },
  {
   "cell_type": "code",
   "execution_count": null,
   "metadata": {
    "colab": {
     "base_uri": "https://localhost:8080/",
     "height": 627
    },
    "id": "fmoX4Tf5qiIp",
    "outputId": "5485c474-967d-4556-e6fb-fc9d59f8459b"
   },
   "outputs": [],
   "source": [
    "plt.figure(figsize=(16, 7))\n",
    "sns.set(style='dark',)\n",
    "ax = sns.lineplot(x=list(result.keys()), y=list(result.values()))\n",
    "plt.xlabel(\"Number of estimators\")\n",
    "plt.ylabel(\"Validation error\")\n",
    "ax.set_xlim([1, max(list(result.keys()))])\n",
    "plt.show()"
   ]
  },
  {
   "cell_type": "markdown",
   "metadata": {
    "id": "6mjmvf10rDwK"
   },
   "source": [
    "##### <font color=\"#008080\" face=\"Times New Roman\" size=4> - Result </font>"
   ]
  },
  {
   "cell_type": "code",
   "execution_count": null,
   "metadata": {
    "colab": {
     "base_uri": "https://localhost:8080/"
    },
    "id": "goBVvXwbrDwL",
    "outputId": "29f070de-ab27-4f87-fa12-6880fbba7974"
   },
   "outputs": [],
   "source": [
    "print(\"The best number for estimators is: \"+ str(list(result.values()).index(min(list(result.values())))+1))\n",
    "print(\"The minimum value for validation error is: \"+ str(min(list(result.values()))))"
   ]
  },
  {
   "cell_type": "markdown",
   "metadata": {
    "id": "WR4L3aExrDwM"
   },
   "source": [
    "<font face=\"Times New Roman\"><div id=\"6-3-2\">\n",
    "### <font color=\"#800080\" size=5>**6-3-2. Find Min Validation Error**</font>\n",
    "</div>"
   ]
  },
  {
   "cell_type": "code",
   "execution_count": null,
   "metadata": {
    "colab": {
     "base_uri": "https://localhost:8080/"
    },
    "id": "DiHjLHa0rDwN",
    "outputId": "6d37bbcf-7ad5-47c9-f552-30e1cdf7e214"
   },
   "outputs": [],
   "source": [
    "gbc = GradientBoostingClassifier(max_depth=2, warm_start = True, random_state=42, learning_rate=1.0)\n",
    "min_val_error = float(\"inf\")\n",
    "error_going_up = 0\n",
    "number_of_steps_to_checks=5\n",
    "for n_estimators in range(1, 70):\n",
    "    gbc.n_estimators = n_estimators\n",
    "    gbc.fit(x_train, y_train)\n",
    "    y_pred = gbc.predict(x_test)\n",
    "    val_error = mean_squared_error(y_test, y_pred)\n",
    "    if val_error < min_val_error:\n",
    "        min_val_error = val_error\n",
    "        error_going_up = 0\n",
    "    else:\n",
    "        error_going_up += 1\n",
    "        if error_going_up == 5:\n",
    "            break\n",
    "gbc.n_estimators = gbc.n_estimators - number_of_steps_to_checks\n",
    "print(\"The best n_stimators value is: \" + str(gbc.n_estimators))"
   ]
  },
  {
   "cell_type": "code",
   "execution_count": null,
   "metadata": {
    "colab": {
     "base_uri": "https://localhost:8080/"
    },
    "id": "wINoG1o6rDwO",
    "outputId": "c03a7795-29e1-4b15-fec1-dd9a634d9dc9"
   },
   "outputs": [],
   "source": [
    "gbc = GradientBoostingClassifier(max_depth=2, random_state=42, learning_rate=1.0)\n",
    "gbc.fit(x_train, y_train)\n",
    "y_pred = gbc.predict(x_test)\n",
    "val_error = mean_squared_error(y_test, y_pred)\n",
    "print(\"The minimum value for validation error according the above algorithm is: \" + str(val_error))"
   ]
  },
  {
   "cell_type": "markdown",
   "metadata": {
    "id": "HgKzXBD1rDwP"
   },
   "source": [
    "<font face=\"Times New Roman\"><div id=\"6-4\">\n",
    "## <font color=\"#800080\" size=6>**6-4. XGBoost**</font>\n",
    "</div>"
   ]
  },
  {
   "cell_type": "code",
   "execution_count": null,
   "metadata": {
    "colab": {
     "base_uri": "https://localhost:8080/"
    },
    "id": "JjFaEHf7rDwQ",
    "outputId": "5d8aa4d6-cd3d-460e-fb8a-99e5584f23bb"
   },
   "outputs": [],
   "source": [
    "!pip install xgboost"
   ]
  },
  {
   "cell_type": "markdown",
   "metadata": {
    "id": "fnaXSgAZ-RoF"
   },
   "source": [
    "#### <font color=\"#008080\" face=\"Times New Roman\" size=4>**Model**</font>"
   ]
  },
  {
   "cell_type": "code",
   "execution_count": null,
   "metadata": {
    "id": "DOpq2MU2rDwS"
   },
   "outputs": [],
   "source": [
    "from xgboost import XGBClassifier\n",
    "XG_classifier = XGBClassifier(random_state = 42)"
   ]
  },
  {
   "cell_type": "markdown",
   "metadata": {
    "id": "xrLf6QyUrDwS"
   },
   "source": [
    "#### <font color=\"#008080\" face=\"Times New Roman\" size=4>**Train**</font>"
   ]
  },
  {
   "cell_type": "code",
   "execution_count": null,
   "metadata": {
    "colab": {
     "base_uri": "https://localhost:8080/",
     "height": 248
    },
    "id": "7p283CvArDwT",
    "outputId": "16ee47c1-f093-45e9-e6bc-ae5d573d82fd"
   },
   "outputs": [],
   "source": [
    "XG_classifier.fit(x_train, y_train)"
   ]
  },
  {
   "cell_type": "markdown",
   "metadata": {
    "id": "XEjr7eSZrDwV"
   },
   "source": [
    "#### <font color=\"#008080\" face=\"Times New Roman\" size=4>**Evaluation**</font>"
   ]
  },
  {
   "cell_type": "code",
   "execution_count": null,
   "metadata": {
    "id": "ubKA5NN1rDwW"
   },
   "outputs": [],
   "source": [
    "y_pred = XG_classifier.predict(x_test)"
   ]
  },
  {
   "cell_type": "code",
   "execution_count": null,
   "metadata": {
    "colab": {
     "base_uri": "https://localhost:8080/"
    },
    "id": "SESrkP7WrDwX",
    "outputId": "a2f6f120-abae-4dbe-b16d-3c82ef2aac1d"
   },
   "outputs": [],
   "source": [
    "accuracy_score(y_test, y_pred)"
   ]
  },
  {
   "cell_type": "markdown",
   "metadata": {
    "id": "FfiTeR9DrDwY"
   },
   "source": [
    "#### <font color=\"#008080\" face=\"Times New Roman\" size=4>**Visualization**</font>"
   ]
  },
  {
   "cell_type": "code",
   "execution_count": null,
   "metadata": {
    "colab": {
     "base_uri": "https://localhost:8080/",
     "height": 458
    },
    "id": "dhbzsJ-XrDwZ",
    "outputId": "48bbfdd6-a5fd-4340-cb2f-2bbb8a9a08da"
   },
   "outputs": [],
   "source": [
    "show_confusion_matrix(y_test, y_pred)"
   ]
  },
  {
   "cell_type": "markdown",
   "metadata": {
    "id": "tcKluxdprDwZ"
   },
   "source": [
    "<font face=\"Times New Roman\"><div id=\"6-5\">\n",
    "## <font color=\"#800080\" size=6>**6-5. CatBoost**</font>\n",
    "</div>"
   ]
  },
  {
   "cell_type": "code",
   "execution_count": null,
   "metadata": {
    "colab": {
     "base_uri": "https://localhost:8080/"
    },
    "id": "x666lkBprDwa",
    "outputId": "deb51ab5-9acd-4b19-909d-f40d4daa4697"
   },
   "outputs": [],
   "source": [
    "!pip install catboost"
   ]
  },
  {
   "cell_type": "markdown",
   "metadata": {
    "id": "jP2M6fI6rDwb"
   },
   "source": [
    "<font face=\"Times New Roman\"><div id=\"6-5-1\">\n",
    "### <font color=\"#800080\" size=5>**6-5-1. Categorical Features**</font>\n",
    "</div>"
   ]
  },
  {
   "cell_type": "markdown",
   "metadata": {
    "id": "_0fyugTArDwc"
   },
   "source": [
    "#### <font color=\"#008080\" face=\"Times New Roman\" size=4>**Dataset**</font>"
   ]
  },
  {
   "cell_type": "markdown",
   "metadata": {
    "id": "5IGZwfLK1cOi"
   },
   "source": [
    "##### <font color=\"#008080\" face=\"Times New Roman\" size=4> - Load Dataset </font>"
   ]
  },
  {
   "cell_type": "code",
   "execution_count": null,
   "metadata": {
    "id": "tQUhwqgUrDwd"
   },
   "outputs": [],
   "source": [
    "df = pd.read_csv('../Files/bank-full.csv')"
   ]
  },
  {
   "cell_type": "markdown",
   "metadata": {
    "id": "Qn63yKvCrDwe"
   },
   "source": [
    "##### <font color=\"#008080\" face=\"Times New Roman\" size=4> - Preprocessing Dataset </font>"
   ]
  },
  {
   "cell_type": "code",
   "execution_count": null,
   "metadata": {
    "id": "zibGWNCprDwe"
   },
   "outputs": [],
   "source": [
    "colums_have_unknow=['job', 'marital', 'education', 'default', 'housing', 'loan']\n",
    "for colum_has_unknow in colums_have_unknow:\n",
    "    df.drop(df[df[colum_has_unknow] == 'unknow'].index, inplace = True)\n",
    "\n",
    "y = df[\"Target\"].copy()\n",
    "x = df.drop(\"Target\", axis=1)\n",
    "cat_features = list(range(0, x.shape[1]))"
   ]
  },
  {
   "cell_type": "markdown",
   "metadata": {
    "id": "OuleUT7a-aLd"
   },
   "source": [
    "#### <font color=\"#008080\" face=\"Times New Roman\" size=4>**Model**</font>"
   ]
  },
  {
   "cell_type": "code",
   "execution_count": null,
   "metadata": {
    "id": "u16ILCH8rDwg"
   },
   "outputs": [],
   "source": [
    "from catboost import CatBoostClassifier\n",
    "\n",
    "clf = CatBoostClassifier(iterations=5, learning_rate=0.1)"
   ]
  },
  {
   "cell_type": "markdown",
   "metadata": {
    "id": "aesC14KKrDwh"
   },
   "source": [
    "#### <font color=\"#008080\" face=\"Times New Roman\" size=4>**Train**</font>"
   ]
  },
  {
   "cell_type": "code",
   "execution_count": null,
   "metadata": {
    "colab": {
     "base_uri": "https://localhost:8080/"
    },
    "id": "Uaw8IViW-aLd",
    "outputId": "6dbc5959-05cb-424c-c4cc-f924c45e7fe3"
   },
   "outputs": [],
   "source": [
    "clf.fit(x_train, y_train, cat_features=cat_features,  verbose=False)"
   ]
  },
  {
   "cell_type": "markdown",
   "metadata": {
    "id": "ac27W-T_rDwi"
   },
   "source": [
    "#### <font color=\"#008080\" face=\"Times New Roman\" size=4>**Evaluation**</font>"
   ]
  },
  {
   "cell_type": "markdown",
   "metadata": {
    "id": "cSG12v8VrDwj"
   },
   "source": [
    "##### <font color=\"#008080\" face=\"Times New Roman\" size=4> - Prediction </font>"
   ]
  },
  {
   "cell_type": "code",
   "execution_count": null,
   "metadata": {
    "id": "1HV_CAMJrDwl"
   },
   "outputs": [],
   "source": [
    "y_pred = clf.predict(x_test)"
   ]
  },
  {
   "cell_type": "markdown",
   "metadata": {
    "id": "7zUWx99prDwl"
   },
   "source": [
    "##### <font color=\"#008080\" face=\"Times New Roman\" size=4> - Accuracy </font>"
   ]
  },
  {
   "cell_type": "code",
   "execution_count": null,
   "metadata": {
    "colab": {
     "base_uri": "https://localhost:8080/"
    },
    "id": "KoOSe-rJrDwm",
    "outputId": "17d8913c-55a6-423b-d6b4-0a3291d3f8d7"
   },
   "outputs": [],
   "source": [
    "accuracy_score(y_test, y_pred)"
   ]
  },
  {
   "cell_type": "markdown",
   "metadata": {
    "id": "v3vX2AMI-jCL"
   },
   "source": [
    "#### <font color=\"#008080\" face=\"Times New Roman\" size=4>**Visualization**</font>"
   ]
  },
  {
   "cell_type": "code",
   "execution_count": null,
   "metadata": {
    "colab": {
     "base_uri": "https://localhost:8080/",
     "height": 54
    },
    "id": "xQ8RwAJg-Nlp",
    "outputId": "048ee2a3-2872-47df-cc13-d6b374b449bc"
   },
   "outputs": [],
   "source": [
    "show_confusion_matrix(y_test, y_pred)"
   ]
  },
  {
   "cell_type": "markdown",
   "metadata": {
    "id": "NB7H40DRqdBB"
   },
   "source": [
    "<font face=\"Times New Roman\"><div id=\"7\">\n",
    "# <font color=\"#800080\" size=6>**7. Stacking**</font>\n",
    "</div>"
   ]
  },
  {
   "cell_type": "markdown",
   "metadata": {
    "id": "rsLZgPQUrDwp"
   },
   "source": [
    "#### <font color=\"#008080\" face=\"Times New Roman\" size=4>**Model**</font>"
   ]
  },
  {
   "cell_type": "code",
   "execution_count": null,
   "metadata": {
    "id": "4cP4MucdrDwq"
   },
   "outputs": [],
   "source": [
    "from sklearn.ensemble import StackingClassifier\n",
    "from sklearn.neighbors import KNeighborsClassifier\n",
    "\n",
    "rf_clf = RandomForestClassifier(n_estimators=10, random_state=42)\n",
    "svm_clf = SVC(random_state=42)\n",
    "knn_clf = KNeighborsClassifier(n_neighbors=3)\n",
    "stacking_clf = StackingClassifier(estimators=[('rf', rf_clf), ('svc', svm_clf), ('knn', knn_clf)], final_estimator=LogisticRegression())"
   ]
  },
  {
   "cell_type": "markdown",
   "metadata": {
    "id": "C3g1kcvYrDwr"
   },
   "source": [
    "#### <font color=\"#008080\" face=\"Times New Roman\" size=4>**Train**</font>"
   ]
  },
  {
   "cell_type": "code",
   "execution_count": null,
   "metadata": {
    "colab": {
     "base_uri": "https://localhost:8080/",
     "height": 163
    },
    "id": "2BzQXlqsrDws",
    "outputId": "108b12b0-0401-40c5-c194-ce821e6df6d8"
   },
   "outputs": [],
   "source": [
    "stacking_clf.fit(x_train, y_train)"
   ]
  },
  {
   "cell_type": "markdown",
   "metadata": {
    "id": "hg10RDZBrDwt"
   },
   "source": [
    "#### <font color=\"#008080\" face=\"Times New Roman\" size=4>**Evaluation**</font>"
   ]
  },
  {
   "cell_type": "markdown",
   "metadata": {
    "id": "nB-5lmDtrDwu"
   },
   "source": [
    "##### <font color=\"#008080\" face=\"Times New Roman\" size=4> - Prediction </font>"
   ]
  },
  {
   "cell_type": "code",
   "execution_count": null,
   "metadata": {
    "id": "j_E34jqurDwv"
   },
   "outputs": [],
   "source": [
    "y_pred = stacking_clf.predict(x_test)"
   ]
  },
  {
   "cell_type": "markdown",
   "metadata": {
    "id": "uZn2wYXlrDwv"
   },
   "source": [
    "##### <font color=\"#008080\" face=\"Times New Roman\" size=4> - Accuracy </font>"
   ]
  },
  {
   "cell_type": "code",
   "execution_count": null,
   "metadata": {
    "colab": {
     "base_uri": "https://localhost:8080/"
    },
    "id": "2iJWmiS4rDww",
    "outputId": "5a5c56bf-48d5-4da6-896a-ae650f84b283"
   },
   "outputs": [],
   "source": [
    "accuracy_score(y_test, y_pred)"
   ]
  },
  {
   "cell_type": "markdown",
   "metadata": {
    "id": "8Irp5LsrrDwx"
   },
   "source": [
    "#### <font color=\"#008080\" face=\"Times New Roman\" size=4>**Visualization**</font>"
   ]
  },
  {
   "cell_type": "code",
   "execution_count": null,
   "metadata": {
    "colab": {
     "base_uri": "https://localhost:8080/",
     "height": 458
    },
    "id": "iD3aphdurDwy",
    "outputId": "43ea2bb6-31f8-4b80-b0fa-a750df449bd5"
   },
   "outputs": [],
   "source": [
    "show_confusion_matrix(y_test, y_pred)"
   ]
  },
  {
   "cell_type": "markdown",
   "metadata": {
    "id": "Y9SBiD-1rDwz"
   },
   "source": [
    "<font face=\"Times New Roman\"><div id=\"7-1\">\n",
    "## <font color=\"#800080\" size=6>**7-1. Multi-layer Stacking**</font>\n",
    "</div>"
   ]
  },
  {
   "cell_type": "code",
   "execution_count": null,
   "metadata": {
    "id": "4G4XzXZUrDw0"
   },
   "outputs": [],
   "source": [
    "# Note: To be able to run the two last cells, the result should be stored in the `y_pred` variable\n"
   ]
  },
  {
   "cell_type": "code",
   "execution_count": null,
   "metadata": {
    "id": "QWbcJGdsrDw2"
   },
   "outputs": [],
   "source": [
    "accuracy_score(y_test, y_pred)"
   ]
  },
  {
   "cell_type": "code",
   "execution_count": null,
   "metadata": {
    "id": "d1RbGXGWrDw2"
   },
   "outputs": [],
   "source": [
    "show_confusion_matrix(y_test, y_pred)"
   ]
  }
 ],
 "metadata": {
  "colab": {
   "collapsed_sections": [
    "950JsRNjMAny",
    "iOPf8PsJMHZ4",
    "HBT59RLpIyUY",
    "fnaXSgAZ-RoF",
    "OuleUT7a-aLd",
    "v3vX2AMI-jCL"
   ],
   "provenance": []
  },
  "kernelspec": {
   "display_name": "local-venv",
   "language": "python",
   "name": "local-venv"
  },
  "language_info": {
   "codemirror_mode": {
    "name": "ipython",
    "version": 3
   },
   "file_extension": ".py",
   "mimetype": "text/x-python",
   "name": "python",
   "nbconvert_exporter": "python",
   "pygments_lexer": "ipython3",
   "version": "3.10.6"
  }
 },
 "nbformat": 4,
 "nbformat_minor": 4
}
