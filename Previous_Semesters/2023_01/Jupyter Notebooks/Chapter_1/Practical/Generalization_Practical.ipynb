{
 "cells": [
  {
   "cell_type": "markdown",
   "metadata": {
    "id": "BspwgQKL3Na8"
   },
   "source": [
    "<font face=\"Times New Roman\" size=5><div dir=rtl align=center>\n",
    "<font face=\"Times New Roman\" size=5>\n",
    "In The Name of God\n",
    "</font>\n",
    "<br> <br>\n",
    "<img src=\"https://logoyar.com/content/wp-content/uploads/2021/04/sharif-university-logo.png\" alt=\"University Logo\" width=\"150\" height=\"150\">\n",
    "<br>\n",
    "<font face=\"Times New Roman\" size=4 align=center>\n",
    "Sharif University of Technology - Department of Computer\n",
    "</font>\n",
    "<br> <br>\n",
    "<font color=\"#008080\" size=5>\n",
    "Introduction to Machine Learning\n",
    "</font>\n",
    "\n",
    "<hr/> <br>\n",
    "<font color=\"#800080\" size=6>\n",
    "Chapter 2: Generalization\n",
    "<br>\n",
    "</font>\n",
    "<br>\n",
    "<font face=\"Times New Roman\" size=4>\n",
    ":authors <br>\n",
    "<b>Hadis Ahmadian - Seyyed Alireza Ghazanfari</b>\n",
    "</font>\n",
    "<hr>\n",
    "</div></font>"
   ]
  },
  {
   "cell_type": "markdown",
   "metadata": {
    "id": "i6NrAXONPtcR"
   },
   "source": [
    "<font  size=5><div dir=ltr>\n",
    "<font face=\"Times New Roman\" color=\"#008080\" size=5>**Table of Contents**</font>\n",
    "<br>\n",
    "\n",
    "<font size=4>\n",
    "<ul>\n",
    "    <li>\n",
    "        <a href=\"#1\">\n",
    "            1. Generalization\n",
    "        </a>\n",
    "    </li>\n",
    "</ul>\n",
    "</div>"
   ]
  },
  {
   "cell_type": "markdown",
   "metadata": {
    "id": "sBzocXtIiTbu"
   },
   "source": [
    "<font face=\"Times New Roman\"><div id=\"1\">\n",
    "# <font color=\"#800080\" size=6>**1. Generaliztion**</font>\n",
    "</div>"
   ]
  },
  {
   "cell_type": "markdown",
   "metadata": {
    "id": "swwrxuSMAESj"
   },
   "source": [
    "#### <font color=\"#008080\" face=\"Times New Roman\" size=4>**Samples Preparation**</font>"
   ]
  },
  {
   "cell_type": "code",
   "execution_count": null,
   "metadata": {},
   "outputs": [],
   "source": [
    "# sample generation by sin distribution + uniform noise\n",
    "import random\n",
    "import matplotlib.pyplot as plt\n",
    "import numpy as np\n",
    "\n",
    "def function(x):\n",
    "    return np.sin(x)\n",
    "\n",
    "X_tr=random.sample(list(np.arange(0, 10, 0.1)), 30)\n",
    "Y_tr=[ function(x)+random.uniform(-0.3, 0.3) for x in X_tr]\n",
    "plt.scatter(X_tr,Y_tr,color=\"red\")\n",
    "X=np.arange(0, 10, 0.1)\n",
    "Y=[ function(x) for x in X]\n",
    "plt.plot(X,Y,color=\"green\")"
   ]
  },
  {
   "cell_type": "markdown",
   "metadata": {
    "id": "swwrxuSMAESj"
   },
   "source": [
    "#### <font color=\"#008080\" face=\"Times New Roman\" size=4>**Comparison**</font>"
   ]
  },
  {
   "cell_type": "code",
   "execution_count": null,
   "metadata": {},
   "outputs": [],
   "source": [
    "# Fit 3 different polynomials with different degrees to the samples and observe their behavior.\n",
    "plt.scatter(X_tr,Y_tr,color=\"yellow\")\n",
    "X=np.arange(0,9, 0.1)\n",
    "C=[\"blue\",\"red\",\"cyan\"]\n",
    "k=-1\n",
    "for deg in [3, 6, 17]:\n",
    "  k+=1\n",
    "  Y=[]\n",
    "  res=np.polyfit(X_tr, Y_tr, deg, rcond=None, full=False, w=None, cov=False)\n",
    "  for x in X:\n",
    "    y=0\n",
    "    for i in range(deg):\n",
    "      y+=(x**(deg-i)*res[i])\n",
    "    Y.append(y)\n",
    "  plt.plot(X,Y,color=C[k],label=\"deg=\"+str(deg))\n",
    "\n",
    "X=np.arange(0, 10, 0.1)\n",
    "Y=[ function(x) for x in X]\n",
    "plt.plot(X,Y,color=\"green\",label=\"real function\")\n",
    "plt.legend()\n",
    "plt.show()"
   ]
  }
 ],
 "metadata": {
  "colab": {
   "collapsed_sections": [
    "rYaiPL1plrDm",
    "swwrxuSMAESj",
    "gYuiA7fFAESk",
    "helJaWTOAESk",
    "0BrjWqO-AESk",
    "E5LZv8WxAESl",
    "gSvKw0pdAESm",
    "DCicBNv3AESm",
    "rpEZrgzGAESn",
    "68iIHGEgAl1w",
    "hXPBaNz8Al1x",
    "M0vNkt4dAl1x",
    "_8eHSEgJAl1x",
    "14oWGLnbAl1y",
    "osVXNTRxAl1y",
    "UNVQE4NhAl1z",
    "SULBwRA6Al10",
    "OZyxj4cjnzW_",
    "eVbZVyBbDA_0",
    "8Iel5jWADA_0",
    "sk45TUlPDA_1",
    "Jsg8bozFDA_1",
    "VQ5QM-42DA_1",
    "UYJC961EDA_2",
    "3pZCWtkeo2Q_",
    "BG6JDKXAKthv",
    "I3TA7qSXJJug",
    "vORapzaoJJug",
    "2JNOCPY3JJuh",
    "3bDvO3dZJXLK",
    "DdttC2gIJhFv",
    "d1zcyxjIJnxg",
    "PcxB-PgbJ1FT",
    "TOn8ae25J-Px",
    "RnJ3PbxLKkyu",
    "JGusVztLLKHA",
    "D2hHo3jxLKHA",
    "GYdgEkdDLKHB",
    "L-YMqtB5LKHB",
    "B-nGWBOrIrDe",
    "1kwiWMyhL0Cw",
    "EcUj0p-zL0Cw",
    "ZpIDH-M4L0Cx",
    "950JsRNjMAny",
    "iOPf8PsJMHZ4",
    "a6xyh9qQMNUh",
    "HBT59RLpIyUY",
    "XjRZm_smMaVe",
    "GjQTvUPCNGiw",
    "FnHgYu6jNcNn",
    "UuhpDpAfNhYJ",
    "sb5j_Pm8NrmT",
    "0fK-03_HNula",
    "sq_TTicpN0Rz",
    "1TgrioWuqBHB",
    "DXDtIWVI8y1_",
    "fnaXSgAZ-RoF",
    "OuleUT7a-aLd",
    "v3vX2AMI-jCL",
    "NB7H40DRqdBB",
    "0VlisYKK1BZ_",
    "lDvUSGJx15Dj",
    "PHHocSy32QI1",
    "Q7t6YQtj2Kgg",
    "n2JfuA9Wrqc4",
    "5mJ6zlBgsQVA",
    "TukJ4C4HsQVA",
    "f57VmUBasQVA",
    "HX4ZzxDNsQVB",
    "ze7ht2dosQVB",
    "vkmW7nLxtTbU",
    "VEqcnt5hwNdd",
    "fSjtED4lwXGX",
    "8p7waG2NwXN_",
    "0RYjgiwjzwKx",
    "LBfyqilLwXVo",
    "XDcH1G2wxDoG"
   ],
   "provenance": [],
   "toc_visible": true
  },
  "kernelspec": {
   "display_name": "local-venv",
   "language": "python",
   "name": "local-venv"
  },
  "language_info": {
   "codemirror_mode": {
    "name": "ipython",
    "version": 3
   },
   "file_extension": ".py",
   "mimetype": "text/x-python",
   "name": "python",
   "nbconvert_exporter": "python",
   "pygments_lexer": "ipython3",
   "version": "3.10.6"
  }
 },
 "nbformat": 4,
 "nbformat_minor": 4
}
