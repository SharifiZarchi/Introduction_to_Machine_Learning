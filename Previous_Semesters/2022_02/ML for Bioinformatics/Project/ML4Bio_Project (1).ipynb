{
 "cells": [
  {
   "cell_type": "markdown",
   "metadata": {
    "id": "4xkaQeqXKa2c"
   },
   "source": [
    "<img src='https://seeklogo.com/images/S/sharif-university-of-technology-logo-4647B7749E-seeklogo.com.png' alt=\"SUT logo\" width=200 height=200 align=left class=\"saturate\" >\n",
    "\n",
    "<br>\n",
    "<font face=\"Times New Roman\">\n",
    "<div dir=ltr align=center>\n",
    "<font color=0F5298 size=7>\n",
    "    ML for Bioinformatics <br>\n",
    "<font color=2565AE size=5>\n",
    "    Computer Engineering Department <br>\n",
    "<font color=3C99D size=5>\n",
    "    Project: Single-Cell RNA Sequencing Analysis <br>\n",
    "\n",
    ">\n",
    "\n",
    "    Arian Amani (arianamaani@gmail.com)\n",
    "    Amir Mohammad Isazadeh (amirmohammadisazadeh@gmail.com)\n",
    "    Alireza Gargoori Motlagh (alireza.agm@gmail.com)\n",
    "\n",
    "    "
   ]
  },
  {
   "cell_type": "markdown",
   "metadata": {
    "id": "v1auf3AekgqX"
   },
   "source": [
    "Please take note of the important deadlines. The deadline for submitting your proposed title for the project is set for **10 Mordad**. Make sure to have your title ready and submitted by this date for consideration. As for the completion of the entire project, including both phases, the final deadline is scheduled for **22 Mordad**. This gives you ample time to work through each phase thoroughly and deliver a comprehensive and well-executed project. Please adhere to these deadlines diligently to ensure a successful and timely completion of the project.\n",
    "\n",
    "The first and second phases of the project will each be graded on a total of 2 points, along with an additional bonus point that can be earned based on the quality and effectiveness of your results and answers. This means that in addition to the regular evaluation, you have the opportunity to gain extra credit for exceptional work and insightful responses.\n",
    "\n",
    "Best of luck, and we look forward to your excellent work!"
   ]
  },
  {
   "cell_type": "markdown",
   "metadata": {
    "id": "rSAt60Wj7pWJ"
   },
   "source": [
    "# Single-Cell RNA Sequencing"
   ]
  },
  {
   "cell_type": "markdown",
   "metadata": {
    "id": "fjcU2u3s7xzf"
   },
   "source": [
    "Single-cell RNA sequencing (scRNA-seq) is a powerful technique used in molecular biology to study gene expression at the single-cell level. It allows researchers to profile the transcriptome of individual cells, providing insights into cellular heterogeneity and identifying distinct cell types within a tissue or sample.\n",
    "\n",
    "By analyzing gene expression at the single-cell level, scRNA-seq enables researchers to gain insights into the diversity of cell types, identify rare cell populations, characterize cell states, and study cellular dynamics in various biological processes, such as development, disease progression, or response to treatments.\n",
    "\n",
    "It's important to note that scRNA-seq is a rapidly evolving field, and new methods and technologies are continuously being developed to improve sensitivity, throughput, and the ability to capture additional molecular features beyond gene expression, such as chromatin accessibility or protein levels.\n",
    "\n",
    "In this project, first you are going to get familiar with the general steps of analyzing scRNA-seq data, through different steps of preprocessing and clustering. After that, you should propose a topic to work on individually as the main part of your project. Some options are provided and discussed in the end of this notebook."
   ]
  },
  {
   "cell_type": "markdown",
   "metadata": {
    "id": "vsW2Q0hrKLtG"
   },
   "source": [
    "To get yourself introduced with scRNA-seq data analysis, we highly recommend you to read the following paper:\n",
    "\n",
    "***Current best practices in single-cell RNA-seq analysis: a tutorial\n",
    "(Malte D Luecken & Fabian J Theis, 2019)***"
   ]
  },
  {
   "cell_type": "markdown",
   "metadata": {
    "id": "w5yxvq9s9BzG"
   },
   "source": [
    "# Short Questions\n",
    "\n",
    "Answer the following questions:"
   ]
  },
  {
   "cell_type": "markdown",
   "metadata": {
    "id": "PnKFjzXC9GCN"
   },
   "source": [
    "---\n",
    "\n",
    "\n",
    "*   Compare the typical bulk RNA-seq vs scRNA-seq and state what advantages scRNA-seq data could provide to analyse.\n",
    "\n",
    "    <code> Your Answer </code>"
   ]
  },
  {
   "cell_type": "markdown",
   "metadata": {
    "id": "lJUbc5KyCb_v"
   },
   "source": [
    "---\n",
    "*   What are the key steps involved in performing a scRNA-seq experiment?\n",
    "\n",
    "    <code> Your Answer </code>"
   ]
  },
  {
   "cell_type": "markdown",
   "metadata": {
    "id": "shFBed28A9nZ"
   },
   "source": [
    "---\n",
    "*   Explain the difficulties with scRNA-seq data acquisition. Specifically, explain what are doublets and dropouts.\n",
    "\n",
    "    <code> Your Answer </code>"
   ]
  },
  {
   "cell_type": "markdown",
   "metadata": {
    "id": "Z4Rqn7MxCsRR"
   },
   "source": [
    "---\n",
    "*   Can scRNA-seq capture other molecular features beyond gene expression, such as chromatin accessibility or protein levels?\n",
    "\n",
    "  <code> Your Answer </code>"
   ]
  },
  {
   "cell_type": "code",
   "execution_count": null,
   "metadata": {
    "id": "kVAlEqlq2nu0"
   },
   "outputs": [],
   "source": [
    "!pip install scanpy"
   ]
  },
  {
   "cell_type": "code",
   "execution_count": null,
   "metadata": {
    "id": "9T394Ks-2jZA"
   },
   "outputs": [],
   "source": [
    "import scanpy as sc\n",
    "import anndata as ad\n",
    "import numpy as np\n",
    "import pandas as pd\n",
    "import matplotlib.pyplot as plt\n",
    "import seaborn as sns\n",
    "import scipy.io as sio\n",
    "import gc"
   ]
  },
  {
   "cell_type": "code",
   "execution_count": null,
   "metadata": {
    "id": "C2lU3YZr2jZE"
   },
   "outputs": [],
   "source": [
    "%reload_ext autoreload\n",
    "%autoreload 2"
   ]
  },
  {
   "cell_type": "code",
   "execution_count": null,
   "metadata": {
    "id": "r34fNaom2jZU"
   },
   "outputs": [],
   "source": [
    "plt.rcParams['figure.figsize']=(8,8) #rescale figures\n",
    "sc.settings.verbosity = 3"
   ]
  },
  {
   "cell_type": "markdown",
   "metadata": {
    "id": "TY65ckmj2jZM"
   },
   "source": [
    "# Pre-processing"
   ]
  },
  {
   "cell_type": "markdown",
   "metadata": {
    "id": "C6VGfsLlE9wo"
   },
   "source": [
    "Preprocessing plays a crucial role in single-cell RNA sequencing (scRNA-seq) data analysis. It involves a series of computational steps aimed at transforming raw sequencing data into a format suitable for downstream analysis. Preprocessing tasks include quality control, filtering, normalization, gene expression estimation, and handling technical artifacts. Proper preprocessing is vital because scRNA-seq data often suffer from technical noise, dropout events, and batch effects, which can obscure the true biological signal. By carefully preprocessing the data, researchers can improve the accuracy, reliability, and interpretability of scRNA-seq results, enabling the identification of meaningful biological patterns, cell types, and regulatory networks.\n",
    "\n",
    "The general pipeline for scRNA-seq data analysis could be summarized in the following figure:\n",
    "\n",
    "![](https://drive.google.com/uc?id=1qfTOH9ORfFX09kxSs3MqybMOdYxRVQbP)"
   ]
  },
  {
   "cell_type": "markdown",
   "metadata": {
    "id": "fF1xVE882jZN"
   },
   "source": [
    "For this section you can use the [scanpy](https://scanpy.readthedocs.io/en/stable/) package. Scanpy is a scalable toolkit for analyzing single-cell gene expression data. It includes preprocessing, visualization, clustering, trajectory inference and differential expression testing. The Python-based implementation efficiently deals with datasets of more than one million cells. The algorithms are implemented for the analysis via scanpy as described in [Wolf18].\n",
    "\n",
    "Here, we will use 2 different datasets for different parts. One for Quality Control and Normalization, and another one for Batch Correction. (The second dataset is already normalized)"
   ]
  },
  {
   "cell_type": "markdown",
   "metadata": {
    "id": "QNODwUeofQPW"
   },
   "source": [
    "`Scanpy` works with data types called [`AnnData`](https://anndata.readthedocs.io/en/stable/generated/anndata.AnnData.html#anndata.AnnData).\n",
    "\n",
    "So we are going to load our datasets into `AnnData` objects. [`anndata`](https://anndata.readthedocs.io/) is a Python package for handling annotated data matrices in memory and on disk, positioned between pandas and xarray. anndata offers a broad range of computationally efficient features including, among others, sparse data support, lazy operations, and a PyTorch interface.\n",
    "\n",
    "The gene expression is saved under `adata.X` as a matrix `(n_cells, n_genes)`.\n",
    "\n",
    "`adata.var` holds information about each of the genes `(n_genes, m)` and `adata.obs` holds information like the cell line, disease, and etc. about each of the cells (observations) in our dataset as a `Pandas DataFrame` `(n_cells, k)`.\n",
    "\n",
    "You can save other forms of data like `UMAP` and `PCA` representations, for each cell, just like `obs` in `obsm`.\n",
    "\n",
    "You can also save any other kind of information and variable (disregarding to the shape) in `adata.uns`\n",
    "\n",
    "![](https://raw.githubusercontent.com/scverse/anndata/main/docs/_static/img/anndata_schema.svg)"
   ]
  },
  {
   "cell_type": "markdown",
   "metadata": {
    "id": "xa0MYiHQVcsq"
   },
   "source": [
    "### First Dataset"
   ]
  },
  {
   "cell_type": "code",
   "execution_count": null,
   "metadata": {
    "id": "QVQt-FkFVe-C"
   },
   "outputs": [],
   "source": [
    "!wget https://ftp.ncbi.nlm.nih.gov/geo/samples/GSM3017nnn/GSM3017261/suppl/GSM3017261_150000_CNS_nuclei.mat.gz\n",
    "!gunzip *.gz"
   ]
  },
  {
   "cell_type": "code",
   "execution_count": null,
   "metadata": {
    "id": "j8uKMZpeV--F"
   },
   "outputs": [],
   "source": [
    "#Load Data\n",
    "data = sio.loadmat('GSM3017261_150000_CNS_nuclei.mat')"
   ]
  },
  {
   "cell_type": "code",
   "execution_count": null,
   "metadata": {
    "id": "IjxO5wyBWA-t"
   },
   "outputs": [],
   "source": [
    "adata1 = ad.AnnData(data['DGE'])\n",
    "\n",
    "adata1.var.index = data['genes']\n",
    "\n",
    "adata1.obs['sample_type'] = data['sample_type']\n",
    "adata1.obs['cluster_assignment'] = data['cluster_assignment']\n",
    "adata1.obs['barcodes'] = data['barcodes'][0]\n",
    "\n",
    "adata1.obs['cell_type'] = None\n",
    "\n",
    "for cluster in adata1.obs['cluster_assignment'].unique():\n",
    "    if cluster.startswith('55 ') or cluster.startswith('56 ') or \\\n",
    "        cluster.startswith('57 ') or cluster.startswith('58 ') or \\\n",
    "        cluster.startswith('59 ') or cluster.startswith('60 '):\n",
    "\n",
    "        adata1.obs.loc[adata1.obs['cluster_assignment'] == cluster, 'cell_type'] = \"Oligodendrocytes\"\n",
    "\n",
    "    elif cluster.startswith('61 '):\n",
    "        adata1.obs.loc[adata1.obs['cluster_assignment'] == cluster, 'cell_type'] = \"Polydendrocytes\"\n",
    "    elif cluster.startswith('62 '):\n",
    "        adata1.obs.loc[adata1.obs['cluster_assignment'] == cluster, 'cell_type'] = \"Macrophage\"\n",
    "    elif cluster.startswith('63 '):\n",
    "        adata1.obs.loc[adata1.obs['cluster_assignment'] == cluster, 'cell_type'] = \"Microglia\"\n",
    "    elif cluster.startswith('64 '):\n",
    "        adata1.obs.loc[adata1.obs['cluster_assignment'] == cluster, 'cell_type'] = \"Endothelial\"\n",
    "    elif cluster.startswith('65 '):\n",
    "        adata1.obs.loc[adata1.obs['cluster_assignment'] == cluster, 'cell_type'] = \"Mural\"\n",
    "    elif cluster.startswith('66 ') or cluster.startswith('67 '):\n",
    "        adata1.obs.loc[adata1.obs['cluster_assignment'] == cluster, 'cell_type'] = \"Vascular and leptomeningeal cells\"\n",
    "    elif cluster.startswith('68 ') or cluster.startswith('69 ') or cluster.startswith('70 ') or cluster.startswith('71 '):\n",
    "        adata1.obs.loc[adata1.obs['cluster_assignment'] == cluster, 'cell_type'] = \"Astrocyte\"\n",
    "    elif cluster.startswith('72 '):\n",
    "        adata1.obs.loc[adata1.obs['cluster_assignment'] == cluster, 'cell_type'] = \"Ependymal\"\n",
    "    elif cluster.startswith('73 '):\n",
    "        adata1.obs.loc[adata1.obs['cluster_assignment'] == cluster, 'cell_type'] = \"Olfactory ensheathing cells\"\n",
    "    else:\n",
    "        adata1.obs.loc[adata1.obs['cluster_assignment'] == cluster, 'cell_type'] = \"Neuron\""
   ]
  },
  {
   "cell_type": "code",
   "execution_count": null,
   "metadata": {
    "id": "-muKcCK8XOIK"
   },
   "outputs": [],
   "source": [
    "data = []\n",
    "del data\n",
    "gc.collect()"
   ]
  },
  {
   "cell_type": "markdown",
   "metadata": {
    "id": "yP1BZHtm2jZO"
   },
   "source": [
    "## Single Cell Quality Control"
   ]
  },
  {
   "cell_type": "markdown",
   "metadata": {
    "id": "inHwDjuE2jZO"
   },
   "source": [
    "To ensure that the data is of high quality, we need to perform quality control (QC) on the data. This is done to remove cells that are of low quality, such as cells with low number of genes detected, or cells with high mitochondrial gene (genes starting with `mt-`) content. We should also remove genes that are not expressed in any of the cells.\n",
    "\n",
    "You can start by calculating the number of genes detected per cell, their counts, and the percentage of mitochondrial genes per cell. You can then plot these two metrics against each other. Cells with low number of genes detected and high percentage of mitochondrial genes are likely to be of low quality and should be removed.\n",
    "\n",
    "Plots can help you decide on the thresholds to use for removing low quality cells:\n",
    " - You can plot the scatter plot of the number of genes detected per cell and the number of counts per cell.\n",
    " - You can also plot histograms to show the distributions of the number of genes detected per cell, and counts per cell.\n",
    "\n",
    "P.S. Some datasets might have already removed the mitochondrial genes."
   ]
  },
  {
   "cell_type": "markdown",
   "metadata": {
    "id": "yynVD4lB2jZR"
   },
   "source": [
    "By plotting a violin plot of the number of counts per cluster (class) you can get a sense of the quality of each cluster's samples.\n",
    "\n",
    "Finally, by removing genes that are almost not expressed in any of the cells, you can reduce the dimensionality of the data and speed up the downstream analysis. (Gene QC) And by removing cells that are of low quality, you can reduce the noise in the data and improve the clustering results. (Cell QC)\n",
    "\n",
    "You can use:\n",
    "\n",
    "```sc.pp.filter_genes```\n",
    "\n",
    "```sc.pp.filter_cells```"
   ]
  },
  {
   "cell_type": "code",
   "execution_count": null,
   "metadata": {
    "colab": {
     "base_uri": "https://localhost:8080/"
    },
    "id": "NP1WZk6vWX7J",
    "outputId": "4d06f87c-4bec-493d-aca7-274ce1cdda79"
   },
   "outputs": [],
   "source": [
    "adata1"
   ]
  },
  {
   "cell_type": "markdown",
   "metadata": {
    "id": "rqATioXfkfTH"
   },
   "source": [
    "---\n",
    "\n",
    "\n",
    "*   Please explain your process and steps for Gene and Cell Quality Control. Elaborate on your reasons for your chosen thresholds. You can also propose your ideas for QC that may not fit in this exercise but seem like a good practice.\n",
    "\n",
    "    <code> Your Answer </code>"
   ]
  },
  {
   "cell_type": "markdown",
   "metadata": {
    "id": "Uhhu3PdF2jZa"
   },
   "source": [
    "## Normalization\n",
    "\n",
    "Up to this point the data is only available as a count matrix. Counts are representative of molecules that were captured in the scRNA-seq experiment. As not all mRNA molecules in a cell are captured, there is a variability in the total number of counts detected between cells that results from both the number of molecules that were in the cells, and the sampling. As we cannot assume that all cells contain an equal number of molecules (cell sizes can differ substantially), we have to estimate the number of molecules that were initially in the cells. In fact, we don't estimate the exact number of molecules, but instead estimate cell-specific factors that should be proportional to the true number of molecules. These are called size factors. Normalized expression values are calculated by dividing the measured counts by the size factor for the cell. [1]\n",
    "\n",
    "Based on comparisons of normalization methods for differential testing (personal communication from Beathe Vieth), and batch correction [Buettner et al., 2019], the normalization method implemented in the scran package performs best. This method requires a coarse clustering input to improve size factor esimation performance. Thus, we need to use a simple preprocessing approach and cluster the data at a low resolution to get an input for the size factor estimation. The basic preprocessing includes assuming all size factors are equal (library size normalization to counts per million - CPM) and log-transforming the count data. [1] *\n",
    "\n",
    "*You may use this approach (which is of higher quality), or you can just simply use scanpy and normalize assuming all size factors are equal. e.g. ```sc.pp.normalize_total(adata, target_sum=1e6)```\n",
    "\n",
    "\n",
    "Before normalizing the data, always ensure that a copy of the raw count data is kept in a separate AnnData object. This allows us to use methods downstream that require this data as input. [1]\n",
    "\n",
    "The normalized count data must be log-transformed with an offset of 1. This is performed to normalize the data distributions. The offset of 1 ensures that zero counts map to zeros. [1]\n",
    "\n",
    "It is good practice to store a copy of the current state of your anndata in `.raw` part of your anndata object as log-normalised data for statistical testing: `adata.raw = adata`\n",
    "\n",
    "[1] `Luecken MD, Theis FJ. Current best practices in single-cell RNA-seq analysis: a tutorial. 2019`"
   ]
  },
  {
   "cell_type": "markdown",
   "metadata": {
    "id": "2qNRws16l9BH"
   },
   "source": [
    "---\n",
    "\n",
    "\n",
    "*   Just like the last part, please explain your chosen algorithms and parameters for Normalization in detail.\n",
    "\n",
    "    <code> Your Answer </code>"
   ]
  },
  {
   "cell_type": "markdown",
   "metadata": {
    "id": "zSO4QNotmdb1"
   },
   "source": [
    "---\n",
    "\n",
    "\n",
    "*   Can you tell us about the problems that could occur, if we do not Normalize, or log-transform our data?\n",
    "\n",
    "    <code> Your Answer </code>"
   ]
  },
  {
   "cell_type": "markdown",
   "metadata": {
    "id": "yfIRu1DWaaQh"
   },
   "source": [
    "## Data Correction\n",
    "\n",
    "For this section, we're going to use another dataset which can perfectly demonstrate the problem of Batch Effect."
   ]
  },
  {
   "cell_type": "code",
   "execution_count": null,
   "metadata": {
    "id": "KN6K25NAasm5"
   },
   "outputs": [],
   "source": [
    "!wget --content-disposition https://figshare.com/ndownloader/files/25717328"
   ]
  },
  {
   "cell_type": "code",
   "execution_count": null,
   "metadata": {
    "colab": {
     "base_uri": "https://localhost:8080/"
    },
    "id": "F6nYZdH3awcG",
    "outputId": "ab661ad0-e555-4d4f-818f-df659899ee77"
   },
   "outputs": [],
   "source": [
    "adata2 = sc.read('Immune_ALL_human.h5ad')\n",
    "adata2.obs['cell_type'] = adata2.obs['final_annotation']\n",
    "del adata2.obs['final_annotation']\n",
    "adata2.raw = adata2\n",
    "adata2"
   ]
  },
  {
   "cell_type": "markdown",
   "metadata": {
    "id": "8xVSwYAHa2tH"
   },
   "source": [
    "In this part, we will correct the data for batch effects. Batch effects are technical artifacts that can arise during sample preparation and sequencing. They can be caused by differences in the experimental protocol, reagent lots, or operators. Batch effects can be a major confounding factor in scRNA-seq experiments."
   ]
  },
  {
   "cell_type": "code",
   "execution_count": null,
   "metadata": {
    "colab": {
     "base_uri": "https://localhost:8080/",
     "height": 968
    },
    "id": "UWZwNGqi2jZd",
    "outputId": "bb796f92-a074-4092-e772-62d421fcedc9"
   },
   "outputs": [],
   "source": [
    "sc.pp.neighbors(adata2) # Running this might take a while each time, be patient as you need to compute the neighborhood to plot the UMAP\n",
    "sc.tl.umap(adata2)\n",
    "sc.pl.umap(adata2, color=['batch'], use_raw=False)\n",
    "sc.pl.umap(adata2, color=['cell_type'], use_raw=False)"
   ]
  },
  {
   "cell_type": "markdown",
   "metadata": {
    "id": "UleakmSMbU-8"
   },
   "source": [
    "As you can see, cells with the same type, are being plotted in different parts of our UMAP (bottom plot) and you can see in the top plot that it is because of their batch effect. They could have been gathered and reported in different laboratories, conditions, and using different technologies.\n",
    "\n",
    "This brings instability and bias to our analysis. We want to be able to show that cells from the same type are similar to each other.\n",
    "\n",
    "To address this issue, we need to perform `Batch Correction`."
   ]
  },
  {
   "cell_type": "markdown",
   "metadata": {
    "id": "B7ICSmKHbT0t"
   },
   "source": [
    "For this section, we are mentioning 6 methods that could be used to correct the batch effects. You may choose 3 of them to use in your analysis.\n",
    "- ComBat [[Johnson et al.]](https://academic.oup.com/biostatistics/article/8/1/118/252073)\n",
    "- limma [[Ritchie et al.]](https://academic.oup.com/nar/article/43/7/e47/2414268)\n",
    "- Scanorama [[Hie et al.]](https://www.nature.com/articles/s41587-019-0113-3)\n",
    "- MNN Correct [[Haghverdi et al.]](https://www.nature.com/articles/nbt.4091)\n",
    "- fastMNN [[Aaron Lun]](https://marionilab.github.io/FurtherMNN2018/theory/description.html)\n",
    "- BBKNN [[Polański et. al]](https://academic.oup.com/bioinformatics/article/36/3/964/5545955?login=false)\n",
    "\n",
    "Finally, compare your results from using these different techniques in detail. Please use a lot of plots :))"
   ]
  },
  {
   "cell_type": "markdown",
   "metadata": {
    "id": "W3u8nyX8n8Zm"
   },
   "source": [
    "---\n",
    "\n",
    "\n",
    "*   Please explain one of your chosen algorithms in detail.\n",
    "\n",
    "    <code> Your Answer </code>"
   ]
  },
  {
   "cell_type": "markdown",
   "metadata": {
    "id": "mYjKeBSQoRw2"
   },
   "source": [
    "---\n",
    "\n",
    "\n",
    "*   Please mention your reasons for choosing the 3 algorithms you chose, among the proposed 6.\n",
    "\n",
    "    <code> Your Answer </code>"
   ]
  },
  {
   "cell_type": "markdown",
   "metadata": {
    "id": "oCftXwmtsDdf"
   },
   "source": [
    "---\n",
    "\n",
    "\n",
    "*   Please mention some of the problems that could occur in further analysis and work, if batch correction is not performed\n",
    "\n",
    "    <code> Your Answer </code>"
   ]
  },
  {
   "cell_type": "markdown",
   "metadata": {
    "id": "wCV9AbMBkKwF"
   },
   "source": [
    "## Feature Selection (Highly Variable Genes)"
   ]
  },
  {
   "cell_type": "markdown",
   "metadata": {
    "id": "3NXMUf4bkaai"
   },
   "source": [
    "We extract highly variable genes (HVGs) to further reduce the dimensionality of the dataset and include only the most informative genes. Genes that vary substantially across the dataset are informative of the underlying biological variation in the data. As we only want to capture biological variation in these genes, we select highly variable genes after normalization and batch correction. HVGs are used for clustering, trajectory inference, and dimensionality reduction/visualization, while the full data set is used for computing marker genes, differential testing, cell cycle scoring, and visualizing expression values on the data. [1]\n",
    "\n",
    "Typically between 1000 and 5000 genes are selected. If particular genes of importance are known, one could assess how many highly variable genes are necessary to include all, or the majority, of these. [1]\n",
    "\n",
    "You can use:\n",
    "\n",
    "`sc.pp.highly_variable_genes`\n",
    "\n",
    "[1] `Luecken MD, Theis FJ. Current best practices in single-cell RNA-seq analysis: a tutorial. 2019`"
   ]
  },
  {
   "cell_type": "markdown",
   "metadata": {
    "id": "kpHrAX_IsTx2"
   },
   "source": [
    "---\n",
    "\n",
    "\n",
    "*   Please explain, how the algorithm you used, is choosing the Highly Variable Genes.\n",
    "\n",
    "    <code> Your Answer </code>"
   ]
  },
  {
   "cell_type": "markdown",
   "metadata": {
    "id": "qcXS0E4RsbN-"
   },
   "source": [
    "---\n",
    "\n",
    "\n",
    "*   Why is using HVGs important while doing inference and learning on the data? Why not use the whole set of genes?\n",
    "\n",
    "    <code> Your Answer </code>"
   ]
  },
  {
   "cell_type": "markdown",
   "metadata": {
    "id": "EjEIPR3Y81V5"
   },
   "source": [
    "# Clustering"
   ]
  },
  {
   "cell_type": "markdown",
   "metadata": {
    "id": "pFO8bF9M86pW"
   },
   "source": [
    "Clustering is a key step in scRNA-seq analysis since it can give us insights to better understant our data, find relations between different conditions in cells, identify the cell types and the state of the cell.\n",
    "\n",
    "Among different algorithms available to perform clustering, `Louvain` algorithm is a common algorithm in single cell analysis. (The Louvain algorithm has been proposed for single-cell analysis by [[Levine15]](https://scanpy.readthedocs.io/en/stable/references.html#levine15).)\n",
    "\n",
    "In `scanpy`, louvain is performed on the highly variable gene data, dimensionality reduced by PCA, and embedded into a KNN graph by default. So make sure to run `pca`, `neighbors`, and `umap (to visualize)` after computing the HVGs and before running `louvain`. (see `sc.pp.pca()` and `sc.pp.neighbors()`)\n",
    "\n",
    "You can try different `resolutions` for `louvain` to find a fit clustering. (Visualize each clustering regarding to each resolution)"
   ]
  },
  {
   "cell_type": "code",
   "execution_count": null,
   "metadata": {
    "id": "55n9ZXom_jPG"
   },
   "outputs": [],
   "source": []
  },
  {
   "cell_type": "markdown",
   "metadata": {
    "id": "aHUPVlUN_hRU"
   },
   "source": [
    "## Marker Genes Identification"
   ]
  },
  {
   "cell_type": "markdown",
   "metadata": {
    "id": "rAWBZgYQ_pAn"
   },
   "source": [
    "To gain informative data from our clustering, we can identify the marker genes in each cluster. We expect each cluster to be able to contain a group of specific cells (e.g. based on cell types, drugs, other perturbations).\n",
    "\n",
    "Therefore, we can also expect to find a number of genes in each cluster that are up-regulated compared to all other clusters. This is performed by computing a ranking for the highly differential genes in each cluster and comparing them to each other.\n",
    "\n",
    "This task can be done using the `sc.tl.rank_genes_groups` function of `scanpy` which uses `t-test` by default and is performed on the `.raw` dataset which is uncorrected and contains all genes. All genes are taken into account, as any gene may be an informative marker.\n",
    "\n",
    "You need to specify your clustering's name from `obsm` so scanpy can rank the marker genes with regarding to those clusters (`groupby`).\n",
    "\n",
    "You can then plot the result of the marker gene analysis using `sc.pl.rank_genes_groups`"
   ]
  },
  {
   "cell_type": "code",
   "execution_count": null,
   "metadata": {
    "id": "NL0mKfyHDS0i"
   },
   "outputs": [],
   "source": []
  },
  {
   "cell_type": "markdown",
   "metadata": {
    "id": "ikY3dEFvDSEW"
   },
   "source": [
    "## Cluster Annotation"
   ]
  },
  {
   "cell_type": "markdown",
   "metadata": {
    "id": "EPs4-iUUDW4P"
   },
   "source": [
    "A lot of research and work has been done on understaning the functionality and behaviour of different genes. A very interesting aspect of this part of the literature, is that various databases has been created using prior knowledge and large-scale analysis, to capture information about cells, based on their expressed genes."
   ]
  },
  {
   "cell_type": "markdown",
   "metadata": {
    "id": "8gLudj0eE3yj"
   },
   "source": [
    "For example, you can use [PanglaoDB](https://panglaodb.se/search.html)'s search function which uses data from 1368 scRNA-seq datasets to find cell types where a certain set of gene(s) are expressed.\n",
    "\n",
    "Using the Marker Genes you found for each cluster, create a list of most possible cell types for each cluster using `PanglaoDB` mentioned above and annotate your clusters with the cell types you abtained. You can use the overlap of top-n probable cell line of the top-m marker genes for each cluster. Or any other approach that you can think of."
   ]
  },
  {
   "cell_type": "code",
   "execution_count": null,
   "metadata": {
    "id": "DxkYROPbIegz"
   },
   "outputs": [],
   "source": []
  },
  {
   "cell_type": "markdown",
   "metadata": {
    "id": "Llwmy41aHskn"
   },
   "source": [
    "Now to see how cool this is :)), plot your annotated clusters alongside with the original cell type information in your dataset, and see if you have found good clusters with correct annotations. (Your clusters are expected to represent cell types and the cell types you obtain from the Marker Genes are expected to be the same as the true cell types)\n",
    "\n",
    "You can try different settings for `neighboring`, `clustering`, and choosing the `cell type` based on the `marker genes` to find the most informative and correct results."
   ]
  },
  {
   "cell_type": "code",
   "execution_count": null,
   "metadata": {
    "id": "zZv22pBQIh7l"
   },
   "outputs": [],
   "source": []
  },
  {
   "cell_type": "markdown",
   "metadata": {
    "id": "quZnAEQ7InIj"
   },
   "source": [
    "---\n",
    "\n",
    "\n",
    "*   How are the most highly differential genes in each cluster, valid representatives of the cell line of the cells in that cluster? Please try to read some of the works done in this area and explain as much as you can.\n",
    "\n",
    "    <code> Your Answer </code>"
   ]
  },
  {
   "cell_type": "markdown",
   "metadata": {
    "id": "FtRCYazVNbtu"
   },
   "source": [
    "# Proposed Topics for Phase 2\n",
    "\n",
    "\n",
    "\n",
    "*   RNA Velocity\n",
    "*   Batch Correction using ML-based Models\n",
    " *  Using Variational Autoencoders\n",
    " * Normalizing Flows for Distribution Matching\n",
    " * Graph-based Approaches\n",
    "\n",
    "*   scGPT: Fine-tuning organ-specific models for downstream tasks (new and hot!)\n",
    "*   Any Differential Expression analysis with corresponding results\n",
    "* Trajectory Inference models\n",
    "* Drug/Genetic perturbation response prediction on cells\n",
    "* Multi-Modal Single-cell: Integrating different modalities of single-cell datasets\n",
    "\n",
    "\n"
   ]
  }
 ],
 "metadata": {
  "colab": {
   "provenance": [],
   "toc_visible": true
  },
  "kernelspec": {
   "display_name": "base",
   "language": "python",
   "name": "python3"
  },
  "language_info": {
   "codemirror_mode": {
    "name": "ipython",
    "version": 3
   },
   "file_extension": ".py",
   "mimetype": "text/x-python",
   "name": "python",
   "nbconvert_exporter": "python",
   "pygments_lexer": "ipython3",
   "version": "3.8.5"
  }
 },
 "nbformat": 4,
 "nbformat_minor": 0
}
