{
 "cells": [
  {
   "cell_type": "code",
   "execution_count": null,
   "id": "3d2ce9fa-01a1-4ae3-b047-2fbe3480af89",
   "metadata": {},
   "outputs": [],
   "source": [
    "import numpy as np\n",
    "import matplotlib.pyplot as plt\n",
    "from sklearn import datasets\n",
    "\n",
    "iris = datasets.load_iris()\n",
    "X = iris.data[:,:2]\n",
    "\n",
    "def Visualize(X, centroids, labels):\n",
    "    plt.scatter(X[:, 0], X[:, 1], c=labels, cmap='viridis', s=50)\n",
    "    plt.scatter(centroids[:, 0], centroids[:, 1], c='red', s=200, marker='x')\n",
    "    plt.show()\n",
    "    \n",
    "def kmeans(X, k, iterations=100):\n",
    "    centroids = X[np.random.choice(X.shape[0], k, replace=False)]\n",
    "    for _ in range(iterations):\n",
    "        labels = np.argmin(np.linalg.norm(X[:, np.newaxis] - centroids, axis=2), axis=1)\n",
    "        Visualize(X, centroids, labels)\n",
    "        new_centroids = np.array([X[labels == i].mean(axis=0) for i in range(k)])\n",
    "        if np.all(centroids == new_centroids):\n",
    "            break\n",
    "        centroids = new_centroids\n",
    "    return centroids, labels\n",
    "\n",
    "k = 3\n",
    "centroids, labels = kmeans(X, k)"
   ]
  }
 ],
 "metadata": {
  "kernelspec": {
   "display_name": "Python 3 (ipykernel)",
   "language": "python",
   "name": "python3"
  },
  "language_info": {
   "codemirror_mode": {
    "name": "ipython",
    "version": 3
   },
   "file_extension": ".py",
   "mimetype": "text/x-python",
   "name": "python",
   "nbconvert_exporter": "python",
   "pygments_lexer": "ipython3",
   "version": "3.12.6"
  }
 },
 "nbformat": 4,
 "nbformat_minor": 5
}
