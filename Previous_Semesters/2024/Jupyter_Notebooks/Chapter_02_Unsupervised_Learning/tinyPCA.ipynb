{
 "cells": [
  {
   "cell_type": "code",
   "execution_count": null,
   "metadata": {
    "colab": {
     "base_uri": "https://localhost:8080/",
     "height": 547
    },
    "id": "rIT53NhuO3yh",
    "outputId": "4e5909e7-8109-4330-d4b6-8e8c324ef67d"
   },
   "outputs": [],
   "source": [
    "import numpy as np\n",
    "import matplotlib.pyplot as plt\n",
    "from sklearn.datasets import fetch_openml\n",
    "\n",
    "mnist, labels = fetch_openml('mnist_784', version=1, return_X_y=True, as_frame=False)\n",
    "mnist = mnist.astype('float32') / 255.0\n",
    "labels = labels.astype(int)\n",
    "num_pcs = 20\n",
    "\n",
    "def pca(X, num_components):\n",
    "    X_meaned = X - np.mean(X, axis=0)\n",
    "    covariance_matrix = np.cov(X_meaned, rowvar=False)\n",
    "    eigenvalues, eigenvectors = np.linalg.eigh(covariance_matrix)\n",
    "    sorted_index = np.argsort(eigenvalues)[::-1]\n",
    "    sorted_eigenvectors = eigenvectors[:, sorted_index]\n",
    "    eigenvector_subset = sorted_eigenvectors[:, :num_components]\n",
    "    X_reduced = np.dot(X_meaned, eigenvector_subset)\n",
    "    return X_reduced, eigenvector_subset\n",
    "\n",
    "mnist_reduced, eigenvector_subset = pca(mnist, num_pcs)\n",
    "plt.figure(figsize=(8, 6))\n",
    "scatter = plt.scatter(mnist_reduced[:, 0], mnist_reduced[:, 1], c=labels, cmap='tab10', alpha=0.7)\n",
    "plt.colorbar(scatter)\n",
    "plt.xlabel('PC1')\n",
    "plt.ylabel('PC2')\n",
    "plt.show()"
   ]
  },
  {
   "cell_type": "code",
   "execution_count": null,
   "metadata": {
    "colab": {
     "base_uri": "https://localhost:8080/",
     "height": 407
    },
    "id": "2LYK9zxRTwGq",
    "outputId": "f5d001d1-0b46-4bc2-8a55-31317b69723f"
   },
   "outputs": [],
   "source": [
    "\n",
    "mnist_decompressed = np.dot(mnist_reduced, eigenvector_subset.T) + np.mean(mnist, axis=0)\n",
    "\n",
    "def visualize_decompression(original, decompressed, img_shape, num_images=5, title=\"\"):\n",
    "    original = original.reshape(-1, *img_shape)\n",
    "    decompressed = decompressed.reshape(-1, *img_shape)\n",
    "\n",
    "    plt.figure(figsize=(10, 4))\n",
    "\n",
    "    for i in range(num_images):\n",
    "        plt.subplot(2, num_images, i + 1)\n",
    "        plt.imshow(original[i])\n",
    "        plt.axis('off')\n",
    "\n",
    "        plt.subplot(2, num_images, num_images + i + 1)\n",
    "        plt.imshow(decompressed[i])\n",
    "        plt.axis('off')\n",
    "\n",
    "    plt.tight_layout()\n",
    "    plt.show()\n",
    "\n",
    "\n",
    "visualize_decompression(mnist[:5], mnist_decompressed[:5], img_shape=(28, 28), title=\"MNIST\")"
   ]
  }
 ],
 "metadata": {
  "colab": {
   "provenance": []
  },
  "kernelspec": {
   "display_name": "Python 3",
   "name": "python3"
  },
  "language_info": {
   "name": "python"
  }
 },
 "nbformat": 4,
 "nbformat_minor": 0
}
