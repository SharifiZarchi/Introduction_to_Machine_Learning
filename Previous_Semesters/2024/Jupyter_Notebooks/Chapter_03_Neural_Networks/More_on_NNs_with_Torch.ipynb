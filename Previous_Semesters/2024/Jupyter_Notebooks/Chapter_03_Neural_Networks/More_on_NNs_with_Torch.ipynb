{
 "cells": [
  {
   "cell_type": "markdown",
   "metadata": {
    "id": "N3q3WK-FCcNJ"
   },
   "source": [
    "# More on Neural Networks with PyTorch\n",
    "\n",
    "**CE477: Machine Learning**\n",
    "\n",
    "__Instructor:__ Dr. Ali Sharifi-Zarchi\n",
    "\n",
    "__Authors:__ Ramtin Moslemi\n",
    "\n",
    "[![Open In Colab](https://colab.research.google.com/assets/colab-badge.svg)](https://colab.research.google.com/github/SharifiZarchi/Introduction_to_Machine_Learning/blob/main/Jupyter_Notebooks/Chapter_03_Neural_Networks/More_on_NNs_with_Torch.ipynb)\n",
    "[![Open In kaggle](https://kaggle.com/static/images/open-in-kaggle.svg)](https://kaggle.com/kernels/welcome?src=https://raw.githubusercontent.com/SharifiZarchi/Introduction_to_Machine_Learning/main/Jupyter_Notebooks/Chapter_03_Neural_Networks/More_on_NNs_with_Torch.ipynb)\n",
    "\n",
    "\n",
    "\n",
    "---\n",
    "\n",
    "## Notebook Objectives\n",
    "\n",
    "In this notebook we are going to explore some of the more advanced features of PyTorch.\n"
   ]
  },
  {
   "cell_type": "markdown",
   "metadata": {
    "id": "fp-rOMnHi505"
   },
   "source": [
    "## Imports and Setup"
   ]
  },
  {
   "cell_type": "markdown",
   "metadata": {
    "id": "7zbVxFHgi7we"
   },
   "source": [
    "In this notebook we are going to work with the [MedMNIST](https://medmnist.com/) dataset. For simplicity, we are going to install medmnist so that it would be easier to work with it."
   ]
  },
  {
   "cell_type": "code",
   "execution_count": null,
   "metadata": {
    "id": "EM0AZZ_pMDtA"
   },
   "outputs": [],
   "source": [
    "! pip install medmnist"
   ]
  },
  {
   "cell_type": "markdown",
   "metadata": {
    "id": "OscA3tKGjW7b"
   },
   "source": [
    "Once again we must import our libraries. Notice that we are going to use `ChestMNIST` which is a dataset of *Chest X-Rays*."
   ]
  },
  {
   "cell_type": "code",
   "execution_count": null,
   "metadata": {
    "id": "-fRNfLoRQ2UW"
   },
   "outputs": [],
   "source": [
    "import torch\n",
    "import torch.nn as nn\n",
    "import torch.optim as optim\n",
    "from torchvision import transforms, utils\n",
    "from torch.utils.data import Dataset, DataLoader, random_split\n",
    "\n",
    "import numpy as np\n",
    "from tqdm import trange\n",
    "from medmnist import ChestMNIST\n",
    "from matplotlib import pyplot as plt\n",
    "from sklearn.metrics import hamming_loss, accuracy_score, precision_recall_fscore_support, average_precision_score"
   ]
  },
  {
   "cell_type": "code",
   "execution_count": null,
   "metadata": {
    "cellView": "form",
    "id": "2-SxYbOjsfwg"
   },
   "outputs": [],
   "source": [
    "# @title plotting helper function\n",
    "def plot_results(train_losses, val_losses):\n",
    "    plt.figure(figsize=(10, 5))\n",
    "    plt.plot(train_losses, label='Train Loss')\n",
    "    plt.plot(val_losses, label='Val Loss')\n",
    "    plt.xlabel('Epoch')\n",
    "    plt.ylabel('Loss')\n",
    "    plt.legend()\n",
    "    plt.show()"
   ]
  },
  {
   "cell_type": "markdown",
   "metadata": {
    "id": "0eRYCERtkv0x"
   },
   "source": [
    "To accelerate operations in the neural network, we move it to the GPU or MPS (for Apple silicon) if available."
   ]
  },
  {
   "cell_type": "code",
   "execution_count": null,
   "metadata": {
    "colab": {
     "base_uri": "https://localhost:8080/"
    },
    "id": "RItckQLYktwY",
    "outputId": "cc0c21d9-cbcd-4318-dbf8-1d603e0aaf0a"
   },
   "outputs": [],
   "source": [
    "# Get cpu, gpu or mps device for training.\n",
    "device = (\n",
    "    \"cuda\"\n",
    "    if torch.cuda.is_available()\n",
    "    else \"mps\"\n",
    "    if torch.backends.mps.is_available()\n",
    "    else \"cpu\"\n",
    ")\n",
    "print(f\"Using {device} device\")"
   ]
  },
  {
   "cell_type": "markdown",
   "metadata": {
    "id": "yHoUcJA5jxaH"
   },
   "source": [
    "# Loading the Data"
   ]
  },
  {
   "cell_type": "markdown",
   "metadata": {
    "id": "tu5TKCGEjwVp"
   },
   "source": [
    "To work with the data we must first download the dataset using `ChestMNIST`. We will normalize our data as well to get better results during training."
   ]
  },
  {
   "cell_type": "code",
   "execution_count": null,
   "metadata": {
    "colab": {
     "base_uri": "https://localhost:8080/"
    },
    "id": "BBPItL0-O08w",
    "outputId": "92078894-16d5-496a-c494-61c8231f8a8e"
   },
   "outputs": [],
   "source": [
    "transform = transforms.Compose([transforms.ToTensor(),\n",
    "                                transforms.Normalize((0.5,), (0.5,))])\n",
    "\n",
    "train_dataset = ChestMNIST(split='train', transform=transform, download=True)\n",
    "test_dataset = ChestMNIST(split='test', transform=transform, download=True)\n",
    "\n",
    "print(f'Train dataset size: {len(train_dataset)}')\n",
    "print(f'Test dataset size: {len(test_dataset)}')"
   ]
  },
  {
   "cell_type": "markdown",
   "metadata": {
    "id": "y4yd5ZrIkHtj"
   },
   "source": [
    "Next we must get the dataloaders. Perhaps you recall from our [previous notebook](https://colab.research.google.com/github/SharifiZarchi/Introduction_to_Machine_Learning/blob/main/Jupyter_Notebooks/Chapter_03_Neural_Networks/NNs_with_torch.ipynb), we didn't use validation sets. However in this notebook we are going to learn how we can use validation sets in PyTorch using `random_split` from `torch.utils.data`. In order to keep the rest of the notebooks shorter and to the point, we will not use validation sets in later notebooks."
   ]
  },
  {
   "cell_type": "code",
   "execution_count": null,
   "metadata": {
    "colab": {
     "base_uri": "https://localhost:8080/"
    },
    "id": "gzSI2EUEk9W0",
    "outputId": "3c1d56b9-c72e-4704-db77-14e7c57785e8"
   },
   "outputs": [],
   "source": [
    "# Split the dataset into training and validation sets\n",
    "train_size = int(0.8 * len(train_dataset))\n",
    "val_size = len(train_dataset) - train_size\n",
    "train_dataset, val_dataset = random_split(train_dataset, [train_size, val_size])\n",
    "\n",
    "print(f'Train dataset size: {len(train_dataset)}')\n",
    "print(f'Validation dataset size: {len(val_dataset)}')\n",
    "print(f'Test dataset size: {len(test_dataset)}')"
   ]
  },
  {
   "cell_type": "markdown",
   "metadata": {
    "id": "0xR3EogKnwUe"
   },
   "source": [
    "While we could now proceed with our datasets, since the [MedMNIST](https://medmnist.com/) dataset provides validation sets itself, we are going to use its data."
   ]
  },
  {
   "cell_type": "code",
   "execution_count": null,
   "metadata": {
    "colab": {
     "base_uri": "https://localhost:8080/"
    },
    "id": "WhxNFkdFoBSh",
    "outputId": "adf6e3e9-4afb-44ea-c0d1-03d578c91387"
   },
   "outputs": [],
   "source": [
    "train_dataset = ChestMNIST(split='train', transform=transform, download=False)\n",
    "val_dataset = ChestMNIST(split='val', transform=transform, download=True)\n",
    "test_dataset = ChestMNIST(split='test', transform=transform, download=False)\n",
    "\n",
    "print(f'Training dataset size: {len(train_dataset)}')\n",
    "print(f'Validation dataset size: {len(val_dataset)}')\n",
    "print(f'Testing dataset size: {len(test_dataset)}')"
   ]
  },
  {
   "cell_type": "markdown",
   "metadata": {
    "id": "J4xes8IxnJIX"
   },
   "source": [
    "Same as before, we can make the dataloaders. Notice that we don't shuffle our validation and test sets but we do shuffle the training set."
   ]
  },
  {
   "cell_type": "code",
   "execution_count": null,
   "metadata": {
    "id": "CimDJfYIm_Zv"
   },
   "outputs": [],
   "source": [
    "# Create the dataloaders\n",
    "train_loader = DataLoader(dataset=train_dataset, batch_size=64, shuffle=True)\n",
    "val_loader = DataLoader(dataset=val_dataset, batch_size=64, shuffle=False)\n",
    "test_loader = DataLoader(dataset=test_dataset, batch_size=64, shuffle=False)"
   ]
  },
  {
   "cell_type": "markdown",
   "metadata": {
    "id": "gGHRlxnympD1"
   },
   "source": [
    "Now lets see the dimensions of the data."
   ]
  },
  {
   "cell_type": "code",
   "execution_count": null,
   "metadata": {
    "colab": {
     "base_uri": "https://localhost:8080/"
    },
    "id": "x-s-efVPmr11",
    "outputId": "18084c7d-89fe-4f9a-d19a-334cd3b1c570"
   },
   "outputs": [],
   "source": [
    "# Iterate over the data\n",
    "for x, y in test_loader:\n",
    "    print(f\"Shape of X [N, C, H, W]: {x.shape}\")\n",
    "    print(f\"Shape of y: {y.shape} {y.dtype}\")\n",
    "    break"
   ]
  },
  {
   "cell_type": "markdown",
   "metadata": {
    "id": "AmGvl7Q_yrhR"
   },
   "source": [
    "Let's look at some of the data to see what we are dealing with!"
   ]
  },
  {
   "cell_type": "code",
   "execution_count": null,
   "metadata": {
    "colab": {
     "base_uri": "https://localhost:8080/",
     "height": 402
    },
    "id": "hedxALsvyrOa",
    "outputId": "8848f702-bb3a-46f9-da6a-f47c3593818e"
   },
   "outputs": [],
   "source": [
    "# Show First 10 Images\n",
    "\n",
    "plt.figure(figsize=(10, 5))\n",
    "for i in range(10):\n",
    "    plt.subplot(2, 5, i + 1)\n",
    "    plt.imshow(train_dataset[i][0].squeeze())\n",
    "    plt.title(f\"Label: {np.argmax(train_dataset[i][1])}\")\n",
    "    plt.axis('off')\n",
    "plt.show()"
   ]
  },
  {
   "cell_type": "markdown",
   "metadata": {
    "id": "R606nUhtkOZB"
   },
   "source": [
    "# Neural Network"
   ]
  },
  {
   "cell_type": "markdown",
   "metadata": {
    "id": "5GgfWlhskQjq"
   },
   "source": [
    "This time we are going to use batch normalization layers and leaky relu activation functions."
   ]
  },
  {
   "cell_type": "code",
   "execution_count": null,
   "metadata": {
    "id": "ayJR3yClFdto"
   },
   "outputs": [],
   "source": [
    "class SimpleNN(nn.Module):\n",
    "    def __init__(self, input_size, num_classes):\n",
    "        super(SimpleNN, self).__init__()\n",
    "        self.network = nn.Sequential(\n",
    "            nn.Flatten(),\n",
    "            nn.Linear(input_size, 128),\n",
    "            nn.LeakyReLU(0.2),\n",
    "            nn.BatchNorm1d(128),\n",
    "            nn.Linear(128, 128),\n",
    "            nn.LeakyReLU(0.2),\n",
    "            nn.BatchNorm1d(128),\n",
    "            nn.Linear(128, 64),\n",
    "            nn.LeakyReLU(0.2),\n",
    "            nn.BatchNorm1d(64),\n",
    "            nn.Linear(64, 64),\n",
    "            nn.LeakyReLU(0.2),\n",
    "            nn.BatchNorm1d(64),\n",
    "            nn.Linear(64, num_classes)\n",
    "        )\n",
    "\n",
    "    def forward(self, x):\n",
    "        return self.network(x)\n"
   ]
  },
  {
   "cell_type": "markdown",
   "metadata": {
    "id": "uVjWx6mHooTA"
   },
   "source": [
    "# Training"
   ]
  },
  {
   "cell_type": "markdown",
   "metadata": {
    "id": "NTzG0MnQopyr"
   },
   "source": [
    "To implement our training code more clearly, we are going to implement the following functions:\n",
    "\n",
    "\n",
    "*   `train_step`: By running this function we train the model for a single epoch.\n",
    "*   `test_step`: By running this function we will evaluate the models performance on the given dataloader without training the model.\n",
    "*   `train_model`: This function will use the aforementioned functions to fully train the model and evaluate the results.\n",
    "\n",
    "\n",
    "\n",
    "\n"
   ]
  },
  {
   "cell_type": "code",
   "execution_count": null,
   "metadata": {
    "id": "afi5A_x2pe5C"
   },
   "outputs": [],
   "source": [
    "def train_step(model, criterion, optimizer, dataloader=train_loader, device=device):\n",
    "    running_loss = 0\n",
    "    # Move the model to training mode\n",
    "    model.train()\n",
    "    # Iterate over the dataloader\n",
    "    for x, y in dataloader:\n",
    "        # Move the datapoints to same device as the model\n",
    "        x, y = x.to(device), y.to(device)\n",
    "        # Clear the gradients\n",
    "        optimizer.zero_grad()\n",
    "        # Predict the output and perform the forward pass\n",
    "        pred = model(x)\n",
    "        # Compute prediction error\n",
    "        loss = criterion(pred, y.float())\n",
    "        # Backpropagation\n",
    "        loss.backward()\n",
    "        # Update the model weights\n",
    "        optimizer.step()\n",
    "        # Update the running loss\n",
    "        running_loss += loss.item()\n",
    "    # Calculate and return the average loss\n",
    "    return running_loss / len(dataloader)\n",
    "\n",
    "\n",
    "def test_step(model, criterion, dataloader=val_loader, device=device):\n",
    "    running_loss = 0\n",
    "    # Move the model to training mode\n",
    "    model.eval()\n",
    "    # Disable gradient calculation\n",
    "    with torch.no_grad():\n",
    "      # Iterate over the dataloader\n",
    "      for x, y in dataloader:\n",
    "          # Move the datapoints to same device as the model\n",
    "          x, y = x.to(device), y.to(device)\n",
    "          # Predict the output and perform the forward pass\n",
    "          pred = model(x)\n",
    "          # Compute prediction error\n",
    "          loss = criterion(pred, y.float())\n",
    "          # Update the running loss\n",
    "          running_loss += loss.item()\n",
    "    # Calculate and return the average loss\n",
    "    return running_loss / len(dataloader)"
   ]
  },
  {
   "cell_type": "markdown",
   "metadata": {
    "id": "9pb0W8hWrMOy"
   },
   "source": [
    "Now we have to implement the `train_model` function."
   ]
  },
  {
   "cell_type": "code",
   "execution_count": null,
   "metadata": {
    "id": "OO97wsHmrRnZ"
   },
   "outputs": [],
   "source": [
    "def train_model(model, n_epochs, optimizer, criterion, train_loader, val_loader, device=device):\n",
    "    train_losses, val_losses = [], []\n",
    "    for epoch in (pbar := trange(n_epochs)):\n",
    "        # Train the model\n",
    "        train_loss = train_step(model, criterion, optimizer, train_loader, device)\n",
    "        # Evaluate the model\n",
    "        val_loss = test_step(model, criterion, val_loader, device)\n",
    "        # Display the results\n",
    "        pbar.set_description(f'Train Loss = {train_loss:.3f} | Val Loss = {val_loss:.3f} ')\n",
    "        # Store the results\n",
    "        train_losses.append(train_loss), val_losses.append(val_loss)\n",
    "    # Plot the results\n",
    "    plot_results(train_losses, val_losses)\n",
    "    return train_losses, val_losses"
   ]
  },
  {
   "cell_type": "markdown",
   "metadata": {
    "id": "YixnEXxjsy1F"
   },
   "source": [
    "All that remains for us to do is to define the loss metric and the optimizer to train the model."
   ]
  },
  {
   "cell_type": "code",
   "execution_count": null,
   "metadata": {
    "id": "S3xmAQkHsw2d"
   },
   "outputs": [],
   "source": [
    "model = SimpleNN(input_size=28*28, num_classes=14).to(device)\n",
    "criterion = nn.BCEWithLogitsLoss()\n",
    "optimizer = optim.Adam(model.parameters(), lr=0.001)"
   ]
  },
  {
   "cell_type": "code",
   "execution_count": null,
   "metadata": {
    "colab": {
     "base_uri": "https://localhost:8080/",
     "height": 482
    },
    "id": "ZGfzpDnXtKZ9",
    "outputId": "5f69a8c0-0303-4445-bb6d-1602b5f1443f"
   },
   "outputs": [],
   "source": [
    "results = train_model(model, 20, optimizer, criterion, train_loader, val_loader)"
   ]
  },
  {
   "cell_type": "markdown",
   "metadata": {
    "id": "EG4uumBCxy-d"
   },
   "source": [
    "# Evaluation"
   ]
  },
  {
   "cell_type": "code",
   "execution_count": null,
   "metadata": {
    "id": "XIGg0VB6x0Qm"
   },
   "outputs": [],
   "source": [
    "def evaluate_model(model, data_loader, device=device):\n",
    "    model.eval()\n",
    "    all_labels = []\n",
    "    all_preds = []\n",
    "\n",
    "    with torch.no_grad():\n",
    "        for images, labels in data_loader:\n",
    "            images, labels = images.to(device), labels.to(device)\n",
    "            outputs = model(images)\n",
    "            preds = torch.sigmoid(outputs).cpu().numpy()\n",
    "            all_labels.extend(labels.cpu().numpy())\n",
    "            all_preds.extend(preds)\n",
    "\n",
    "    all_labels = np.array(all_labels)\n",
    "    all_preds = np.array(all_preds)\n",
    "\n",
    "    hamming = hamming_loss(all_labels, all_preds > 0.5)\n",
    "    subset_acc = accuracy_score(all_labels, all_preds > 0.5)\n",
    "    precision, recall, f1, _ = precision_recall_fscore_support(all_labels, all_preds > 0.5, average='macro')\n",
    "    avg_precision = average_precision_score(all_labels, all_preds, average='macro')\n",
    "\n",
    "    print(f'Hamming Loss: {hamming}')\n",
    "    print(f'Subset Accuracy: {subset_acc}')\n",
    "    print(f'Precision: {precision}')\n",
    "    print(f'Recall: {recall}')\n",
    "    print(f'F1-Score: {f1}')\n",
    "    print(f'Average Precision: {avg_precision}')\n",
    "\n",
    "    return {\n",
    "        'Hamming Loss': hamming,\n",
    "        'Subset Accuracy': subset_acc,\n",
    "        'Precision': precision,\n",
    "        'Recall': recall,\n",
    "        'F1-Score': f1,\n",
    "        'Average Precision': avg_precision\n",
    "    }"
   ]
  },
  {
   "cell_type": "code",
   "execution_count": null,
   "metadata": {
    "colab": {
     "base_uri": "https://localhost:8080/"
    },
    "id": "hw7difFhx5rD",
    "outputId": "02ee4c52-4a8b-4ba7-afb9-5f14252fb45c"
   },
   "outputs": [],
   "source": [
    "metrics = evaluate_model(model, test_loader)"
   ]
  },
  {
   "cell_type": "markdown",
   "metadata": {
    "id": "0l76fd_GtSzP"
   },
   "source": [
    "# Saving and Loading Models"
   ]
  },
  {
   "cell_type": "markdown",
   "metadata": {
    "id": "DN-op_67wNpO"
   },
   "source": [
    "Now we turn our attention to saving and loading models. First we will save the model we just trained."
   ]
  },
  {
   "cell_type": "code",
   "execution_count": null,
   "metadata": {
    "id": "36itXBG8tUzt"
   },
   "outputs": [],
   "source": [
    "# Save the model\n",
    "torch.save(model.state_dict(), 'chestmnist_model.pth')"
   ]
  },
  {
   "cell_type": "markdown",
   "metadata": {
    "id": "Yg3ouWyuwU_g"
   },
   "source": [
    "We can then load the model once again."
   ]
  },
  {
   "cell_type": "code",
   "execution_count": null,
   "metadata": {
    "colab": {
     "base_uri": "https://localhost:8080/"
    },
    "id": "BCVhTFA_wZEk",
    "outputId": "19c078db-14e2-402e-8c2c-8dd6e06162ea"
   },
   "outputs": [],
   "source": [
    "# Load the model\n",
    "net = SimpleNN(input_size=28*28, num_classes=14).to(device)\n",
    "net.load_state_dict(torch.load('chestmnist_model.pth'))"
   ]
  },
  {
   "cell_type": "markdown",
   "metadata": {
    "id": "mkreDIT0yLtc"
   },
   "source": [
    "If we evalute the loaded model once more, you will see that they have similar results."
   ]
  },
  {
   "cell_type": "code",
   "execution_count": null,
   "metadata": {
    "colab": {
     "base_uri": "https://localhost:8080/"
    },
    "id": "h5CosJsxyLPB",
    "outputId": "9673eb5c-cfc8-4756-99ae-004df940d6c1"
   },
   "outputs": [],
   "source": [
    "metrics = evaluate_model(net, test_loader, device)"
   ]
  }
 ],
 "metadata": {
  "accelerator": "GPU",
  "colab": {
   "gpuType": "T4",
   "provenance": []
  },
  "kernelspec": {
   "display_name": "Python 3 (ipykernel)",
   "language": "python",
   "name": "python3"
  },
  "language_info": {
   "codemirror_mode": {
    "name": "ipython",
    "version": 3
   },
   "file_extension": ".py",
   "mimetype": "text/x-python",
   "name": "python",
   "nbconvert_exporter": "python",
   "pygments_lexer": "ipython3",
   "version": "3.12.6"
  }
 },
 "nbformat": 4,
 "nbformat_minor": 0
}
