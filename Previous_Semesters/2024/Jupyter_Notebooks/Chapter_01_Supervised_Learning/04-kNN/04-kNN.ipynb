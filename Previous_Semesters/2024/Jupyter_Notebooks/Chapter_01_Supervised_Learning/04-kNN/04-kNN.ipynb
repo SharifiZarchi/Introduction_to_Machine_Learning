{
 "cells": [
  {
   "cell_type": "markdown",
   "metadata": {
    "id": "9-5mmvuDikwE"
   },
   "source": [
    "<br>\n",
    "<font>\n",
    "<!-- <img src=\"https://cdn.freebiesupply.com/logos/large/2x/sharif-logo-png-transparent.png\" alt=\"SUT logo\" width=300 height=300 align=left class=\"saturate\"> -->\n",
    "<div dir=ltr align=center>\n",
    "<img src=\"https://cdn.freebiesupply.com/logos/large/2x/sharif-logo-png-transparent.png\" width=200 height=200>\n",
    "<br>\n",
    "<font color=0F5298 size=8>\n",
    "Introduction to Machine Learning <br>\n",
    "<font color=696880 size=5>\n",
    "<!-- <br> -->\n",
    "Computer Engineering Department\n",
    "<br>\n",
    "Sharif University of Technology\n",
    "\n",
    "<font color=696880 size=5>\n",
    "<br>\n",
    "CE 40477 - Fall 2024\n",
    "\n",
    "<font color=GREEN size=5>\n",
    "<br>\n",
    "Mahan Bayhaghi & Danial Gharib\n",
    "<!-- <br> -->\n",
    "\n",
    "____\n",
    "\n"
   ]
  },
  {
   "cell_type": "code",
   "execution_count": null,
   "metadata": {
    "id": "Zpv0HQ7eiE8X"
   },
   "outputs": [],
   "source": [
    "!pip install ipywidgets\n",
    "!jupyter nbextension enable --py widgetsnbextension"
   ]
  },
  {
   "cell_type": "code",
   "execution_count": null,
   "metadata": {
    "id": "h80Q7CeTk2gJ"
   },
   "outputs": [],
   "source": [
    "import numpy as np\n",
    "import matplotlib.pyplot as plt\n",
    "import ipywidgets as widgets\n",
    "from IPython.display import display\n",
    "from sklearn.model_selection import train_test_split\n",
    "from sklearn.metrics import accuracy_score, confusion_matrix, ConfusionMatrixDisplay\n",
    "import matplotlib.cm as cm"
   ]
  },
  {
   "cell_type": "markdown",
   "metadata": {
    "id": "ctN3dqMdjAxq"
   },
   "source": [
    "# kNN classifier"
   ]
  },
  {
   "cell_type": "markdown",
   "metadata": {
    "id": "w2wWYNXejDXA"
   },
   "source": [
    "In this section, we will implement a kNN classifier from scratch"
   ]
  },
  {
   "cell_type": "code",
   "execution_count": null,
   "metadata": {
    "id": "ATtjOKw9h7GZ"
   },
   "outputs": [],
   "source": [
    "class KNNClassifier:\n",
    "    def __init__(self, k=3, distance_func=None):\n",
    "        self.k = k\n",
    "        if distance_func is None:\n",
    "            self.distance_func = self._euclidean_distance\n",
    "        else:\n",
    "            self.distance_func = distance_func\n",
    "\n",
    "    def fit(self, X, y):\n",
    "        self.X_train = X\n",
    "        self.y_train = y\n",
    "\n",
    "    def _euclidean_distance(self, x1, x2):\n",
    "        return np.sqrt(np.sum((x1 - x2) ** 2))\n",
    "\n",
    "    def _manhattan_distance(self, x1, x2):\n",
    "        return np.sum(np.abs(x1 - x2))\n",
    "\n",
    "    def _minkowski_distance(self, x1, x2, p=3):\n",
    "        return np.sum(np.abs(x1 - x2) ** p) ** (1 / p)\n",
    "\n",
    "    def predict(self, X):\n",
    "        predictions = []\n",
    "        for index, x in enumerate(X):\n",
    "            distances = [self.distance_func(x, x_train) for x_train in self.X_train]\n",
    "\n",
    "            # indices of the k nearest neighbors\n",
    "            k_indices = np.argsort(distances)[:self.k]\n",
    "            # labels of the k nearest neighbors\n",
    "            k_neighbor_labels = self.y_train[k_indices]\n",
    "            # majority vote\n",
    "            counts = np.bincount(k_neighbor_labels.astype(int))\n",
    "            predicted_label = np.argmax(counts)\n",
    "            predictions.append(predicted_label)\n",
    "\n",
    "        return np.array(predictions)\n"
   ]
  },
  {
   "cell_type": "markdown",
   "metadata": {
    "id": "Ob97LTCtkkLP"
   },
   "source": [
    "Using the kNN classifier defined, we can use different distance measures. Let us generate some random sample points:"
   ]
  },
  {
   "cell_type": "code",
   "execution_count": null,
   "metadata": {
    "colab": {
     "base_uri": "https://localhost:8080/",
     "height": 545
    },
    "id": "lXWUCkJ1hx2o",
    "outputId": "5db15816-a1fa-41df-8df6-3ccb5c38f6d0"
   },
   "outputs": [],
   "source": [
    "def generate_synthetic_data(m=3, num_points_per_class=100, cluster_std=1.0):\n",
    "    np.random.seed(40)\n",
    "    X = []\n",
    "    y = []\n",
    "    means = []\n",
    "    for i in range(m):\n",
    "        angle = 2 * np.pi * i / m\n",
    "        radius = 3\n",
    "        mean = [radius * np.cos(angle), radius * np.sin(angle)]\n",
    "        means.append(mean)\n",
    "        cov = [[cluster_std, 0], [0, cluster_std]]\n",
    "        class_data = np.random.multivariate_normal(mean, cov, num_points_per_class)\n",
    "        X.append(class_data)\n",
    "        y += [i] * num_points_per_class\n",
    "\n",
    "    X = np.vstack(X)\n",
    "    y = np.array(y)\n",
    "    return X, y, means\n",
    "\n",
    "m = 5  # number of classes\n",
    "num_points_per_class = 50\n",
    "cluster_std = 1.0\n",
    "\n",
    "X, y, class_means = generate_synthetic_data(m=m, num_points_per_class=num_points_per_class, cluster_std=cluster_std)\n",
    "\n",
    "plt.figure(figsize=(8,6))\n",
    "colors = plt.colormaps['tab10'].colors\n",
    "for i in range(m):\n",
    "    plt.scatter(X[y == i, 0], X[y == i, 1], color=colors[i], label=f'Class {i}')\n",
    "plt.title('Synthetic Training Data for Multiple Classes')\n",
    "plt.legend()\n",
    "plt.show()\n"
   ]
  },
  {
   "cell_type": "code",
   "execution_count": null,
   "metadata": {
    "id": "R4dIZ-OZjtO8"
   },
   "outputs": [],
   "source": [
    "def euclidean_distance(x1, x2):\n",
    "    return np.sqrt(np.sum((x1 - x2) ** 2))\n",
    "\n",
    "def manhattan_distance(x1, x2):\n",
    "    return np.sum(np.abs(x1 - x2))"
   ]
  },
  {
   "cell_type": "code",
   "execution_count": null,
   "metadata": {
    "colab": {
     "base_uri": "https://localhost:8080/"
    },
    "id": "OePHwD2xrQ7E",
    "outputId": "e606c2dd-06de-4f29-ed5e-adc45d56a28e"
   },
   "outputs": [],
   "source": [
    "from sklearn.model_selection import train_test_split\n",
    "from sklearn.metrics import accuracy_score, confusion_matrix, ConfusionMatrixDisplay\n",
    "\n",
    "test_size = 0.2  # 20% for testing\n",
    "\n",
    "X_train, X_test, y_train, y_test = train_test_split(X, y, test_size=test_size, stratify=y, random_state=42)\n",
    "\n",
    "print(f\"Total samples: {X.shape[0]}\")\n",
    "print(f\"Training samples: {X_train.shape[0]}\")\n",
    "print(f\"Testing samples: {X_test.shape[0]}\")"
   ]
  },
  {
   "cell_type": "markdown",
   "metadata": {
    "id": "feheKdyes1Xm"
   },
   "source": [
    "Let us visualize as well:"
   ]
  },
  {
   "cell_type": "code",
   "execution_count": null,
   "metadata": {
    "id": "ZC388zxDraVC"
   },
   "outputs": [],
   "source": [
    "def plot_decision_boundaries(classifier, X, y, means, title='Decision Boundaries'):\n",
    "    x_min, x_max = X[:, 0].min() - 1, X[:, 0].max() + 1\n",
    "    y_min, y_max = X[:, 1].min() - 1, X[:, 1].max() + 1\n",
    "\n",
    "    h = 0.1\n",
    "    xx, yy = np.meshgrid(np.arange(x_min, x_max, h),\n",
    "                         np.arange(y_min, y_max, h))\n",
    "\n",
    "    grid_points = np.c_[xx.ravel(), yy.ravel()]\n",
    "    Z = classifier.predict(grid_points)\n",
    "    Z = Z.reshape(xx.shape)\n",
    "\n",
    "    plt.figure(figsize=(10,8))\n",
    "    colors = plt.get_cmap('tab10', np.unique(y).size + 1)\n",
    "\n",
    "    plt.contourf(xx, yy, Z, alpha=0.5, cmap=colors)\n",
    "    plt.scatter(X[:, 0], X[:, 1], c=y, cmap=colors, edgecolor='k', s=40)\n",
    "\n",
    "    plt.title(title)\n",
    "    plt.xlabel('Feature 1')\n",
    "    plt.ylabel('Feature 2')\n",
    "    plt.legend(handles=[\n",
    "        plt.Line2D([0], [0], marker='o', color='w', label=f'Class {i}',\n",
    "                   markerfacecolor=colors(i), markersize=10) for i in range(np.unique(y).size)\n",
    "    ], loc='upper right')\n",
    "    plt.show()"
   ]
  },
  {
   "cell_type": "code",
   "execution_count": null,
   "metadata": {
    "id": "hKfDav6crQ3s"
   },
   "outputs": [],
   "source": [
    "distance_func = euclidean_distance\n",
    "\n",
    "k = 5\n",
    "knn = KNNClassifier(k=k, distance_func=distance_func)\n",
    "knn.fit(X_train, y_train)"
   ]
  },
  {
   "cell_type": "code",
   "execution_count": null,
   "metadata": {
    "colab": {
     "base_uri": "https://localhost:8080/",
     "height": 587
    },
    "id": "sLA7YAFXtFj2",
    "outputId": "3bf4389e-c5e5-45c8-d5ef-7ef09e60644d"
   },
   "outputs": [],
   "source": [
    "plot_decision_boundaries(\n",
    "    classifier=knn,\n",
    "    X=X_train,\n",
    "    y=y_train,\n",
    "    means=class_means,\n",
    "    title=f'kNN Decision Boundaries (k={k}, Distance=Euclidean)'\n",
    ")"
   ]
  },
  {
   "cell_type": "code",
   "execution_count": null,
   "metadata": {
    "colab": {
     "base_uri": "https://localhost:8080/",
     "height": 456
    },
    "id": "BwNnWH8OrQ06",
    "outputId": "98989dce-bc80-449d-f0c5-3a87372768c4"
   },
   "outputs": [],
   "source": [
    "k_values = range(1, 36)\n",
    "\n",
    "accuracies = []\n",
    "\n",
    "for k in k_values:\n",
    "    knn = KNNClassifier(k=k, distance_func=euclidean_distance)\n",
    "    knn.fit(X_train, y_train)\n",
    "    y_pred = knn.predict(X_test)\n",
    "    acc = accuracy_score(y_test, y_pred)\n",
    "    accuracies.append(acc)\n",
    "\n",
    "# plotting Accuracy for different values of k\n",
    "plt.figure(figsize=(10,6))\n",
    "plt.plot(k_values, accuracies, marker='o', linestyle='-', color='b')\n",
    "plt.title('kNN Classification Accuracy for Different k Values')\n",
    "plt.xlabel('Number of Neighbors (k)')\n",
    "plt.ylabel('Accuracy')\n",
    "plt.xticks(k_values)\n",
    "plt.grid(True)\n",
    "plt.show()"
   ]
  }
 ],
 "metadata": {
  "colab": {
   "provenance": []
  },
  "kernelspec": {
   "display_name": "Python 3 (ipykernel)",
   "language": "python",
   "name": "python3"
  },
  "language_info": {
   "codemirror_mode": {
    "name": "ipython",
    "version": 3
   },
   "file_extension": ".py",
   "mimetype": "text/x-python",
   "name": "python",
   "nbconvert_exporter": "python",
   "pygments_lexer": "ipython3",
   "version": "3.12.6"
  }
 },
 "nbformat": 4,
 "nbformat_minor": 0
}
