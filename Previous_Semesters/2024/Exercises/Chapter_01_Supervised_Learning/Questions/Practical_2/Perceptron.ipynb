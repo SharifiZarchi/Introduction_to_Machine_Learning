{
 "cells": [
  {
   "cell_type": "markdown",
   "metadata": {
    "id": "y09iFsmx2Vcw"
   },
   "source": [
    "<img src='./pic/sharif-main-logo.png' alt=\"SUT logo\" width=300 height=300 align=left class=\"saturate\" > <br>\n",
    "\n",
    "<div dir=ltr align=center>\n",
    "<font color=0F5298 size=7>\n",
    "    یادگیری ماشین <br>\n",
    "<font color=2565AE size=5>\n",
    "    دانشکده مهندسی کامپیوتر <br>\n",
    "    پاییز ۱۴۰۳ <br>\n",
    "<font color=3C99D size=5>\n",
    "   تمرین عملی اول - یادگیری نظارت شده <br>\n",
    "<font color=696880 size=4>\n",
    "    عرفان سلیما - سارینا حشمتی - نیکان واسعی - فاطمه شیری"
   ]
  },
  {
   "cell_type": "markdown",
   "metadata": {
    "id": "y09iFsmx2Vcw"
   },
   "source": [
    "<div dir=rtl>\n",
    "<font size=6>\n",
    "اطلاعات دانشجو"
   ]
  },
  {
   "cell_type": "code",
   "execution_count": null,
   "metadata": {},
   "outputs": [],
   "source": [
    "student_number = ''\n",
    "Name = ''\n",
    "Last_Name = '' "
   ]
  },
  {
   "cell_type": "markdown",
   "metadata": {
    "id": "y09iFsmx2Vcw"
   },
   "source": [
    "<div dir=rtl>\n",
    "<font size=6>\n",
    "نحوه پیاده سازی"
   ]
  },
  {
   "cell_type": "markdown",
   "metadata": {
    "id": "lCUAtWN522T4"
   },
   "source": [
    "<div dir=rtl>\n",
    "<font size=4>\n",
    " با استفاده از تابع make_blobs از کتابخانه sklearn به کمک قطعه کد\n",
    "زیر، مجموعه داده ای بسازید که به صورت خطی\n",
    "جدایی پذیر باشد. هر ستون از ماتریس X شامل ویژگی های یک نمونه داده است."
   ]
  },
  {
   "cell_type": "code",
   "execution_count": null,
   "metadata": {
    "id": "sbBYk18H2TVg"
   },
   "outputs": [],
   "source": [
    "from sklearn.datasets import make_blobs\n",
    "X, y = make_blobs(n_samples=100, n_features=10, centers=2, random_state=41)"
   ]
  },
  {
   "cell_type": "markdown",
   "metadata": {
    "id": "SFi-rRwJ3E3-"
   },
   "source": [
    "<div dir=rtl>\n",
    "<font size=4>\n",
    " ابتدا کلاسی به نام F در نظر بگیرید و یکی از متد های آن را به نام sign پیاده سازی کنید. متدهای این کلاس متعلق به کلاس\n",
    "هستند و باید به صورت static تعریف شوند. در حقیقت این کلاس مسئول نگهداری توابع کاربردی برای انجام محاسبات\n",
    "است که در اینجا ما فقط میخواهیم sign را تعریف کنیم."
   ]
  },
  {
   "cell_type": "code",
   "execution_count": null,
   "metadata": {
    "id": "ta3SQGNJ3OeO"
   },
   "outputs": [],
   "source": [
    "class F:\n",
    "  @staticmethod\n",
    "  def sign(x):\n",
    "    # Implement the sign activation function\n",
    "    pass"
   ]
  },
  {
   "cell_type": "markdown",
   "metadata": {
    "id": "prCJVzUh3Wd5"
   },
   "source": [
    "<div dir=rtl>\n",
    "<font size=4>\n",
    " کلاس Perceptron را مانند تکه کد زیر در نظر بگیرید. این موجودیت تنها وظیفه نگهداری وزن های پرسپترون ما و محاسبه\n",
    "y براساس ورودی ما یعنی X را دارد. برای مقدار دهی اولیه وزن ها و بایاس میتوانید از کتابخانه numpy استفاده کنید."
   ]
  },
  {
   "cell_type": "code",
   "execution_count": null,
   "metadata": {
    "id": "FRApiOaV3khr"
   },
   "outputs": [],
   "source": [
    "class Perceptron:\n",
    "  def __init__(self, input_size):\n",
    "    # Initialize the weights and biases of the new model\n",
    "    pass\n",
    "  def forward(self, input):\n",
    "    # Feed input features to your model and return output\n",
    "    pass"
   ]
  },
  {
   "cell_type": "markdown",
   "metadata": {
    "id": "WF8lQoZA3pgt"
   },
   "source": [
    "<div dir=rtl>\n",
    "<font size=4>\n",
    "حال کلاس Optimizer را مطابق قطعه کد زیر پیاده سازی کنید. این کلاس وظیفه این را دارد که مدل ما را بهینه کند. بدین\n",
    "معنی که در هر مرحله از یادگیری سعی کند وزن ها را در جهتی بروزرسانی کند که در نهایت ما هیچ خطایی نداشته باشیم (با\n",
    "فرض خطی جدایی پذیر بودن داده ها)"
   ]
  },
  {
   "cell_type": "code",
   "execution_count": null,
   "metadata": {
    "id": "ksQEHkz54HeO"
   },
   "outputs": [],
   "source": [
    "class Optimizer:\n",
    "  def __init__(self, model):\n",
    "    pass\n",
    "  def update(self, x, y, y_hat):\n",
    "    # Update weight and bias of the model\n",
    "    pass"
   ]
  },
  {
   "cell_type": "markdown",
   "metadata": {
    "id": "lHKc8Rpc4KT2"
   },
   "source": [
    "<div dir=rtl>\n",
    "<font size=4>\n",
    "با توجه به تعداد ویژگی های داده های موجود، یک شی Perceptron بسازید (این پارامتر باید با تعداد ویژگی های قسمت\n",
    "اول یکسان باشد) در مرحله بعدی به Optimizer اجازه دهید تا به مدل شما دسترسی داشته باشد تا بتواند آن را بهینه کند."
   ]
  },
  {
   "cell_type": "markdown",
   "metadata": {
    "id": "FAwckbDH4TIa"
   },
   "source": [
    "<div dir=rtl>\n",
    "<font size=4>\n",
    "در این قسمت شما باید با پیاده سازی فرآیندی مناسب با استفاده از instance های Optimizer و Perceptron وضعیت\n",
    "مدل را بهبود بدهید تا به ابر صفحه جدا کننده نزدیک تر شود."
   ]
  },
  {
   "cell_type": "code",
   "execution_count": null,
   "metadata": {
    "id": "vlvPXwMm4QTI"
   },
   "outputs": [],
   "source": [
    "n_iter = 1000\n",
    "\n",
    "for _ in range(n_iter):\n",
    "  for x, y in zip(X, Y):\n",
    "    # Complete Code"
   ]
  },
  {
   "cell_type": "markdown",
   "metadata": {
    "id": "bg5D9ooD4c-_"
   },
   "source": [
    "<div dir=rtl>\n",
    "<font size=4>\n",
    "به ازای n_features برابر ۲ نقاط مجموعه داده ی خود و خط حاصل از Perceptron خود را به کمک کتابخانه Ⅿatpⅼotⅼib\n",
    "در فضای ۲ بعدی نمایش دهید."
   ]
  },
  {
   "cell_type": "code",
   "execution_count": null,
   "metadata": {},
   "outputs": [],
   "source": []
  }
 ],
 "metadata": {
  "colab": {
   "provenance": []
  },
  "kernelspec": {
   "display_name": "Python 3 (ipykernel)",
   "language": "python",
   "name": "python3"
  },
  "language_info": {
   "codemirror_mode": {
    "name": "ipython",
    "version": 3
   },
   "file_extension": ".py",
   "mimetype": "text/x-python",
   "name": "python",
   "nbconvert_exporter": "python",
   "pygments_lexer": "ipython3",
   "version": "3.11.3"
  }
 },
 "nbformat": 4,
 "nbformat_minor": 1
}
