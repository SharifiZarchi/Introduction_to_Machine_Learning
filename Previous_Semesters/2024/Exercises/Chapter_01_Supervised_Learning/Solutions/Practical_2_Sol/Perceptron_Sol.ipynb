{
 "cells": [
  {
   "cell_type": "markdown",
   "metadata": {
    "id": "aHH1_aL0bCDz"
   },
   "source": [
    "## ۱"
   ]
  },
  {
   "cell_type": "code",
   "execution_count": null,
   "metadata": {
    "id": "GH71oVhwJ_Wj"
   },
   "outputs": [],
   "source": [
    "from sklearn.datasets import make_blobs\n",
    "X, Y = make_blobs(n_samples=100, n_features=10, centers=2, random_state=41)"
   ]
  },
  {
   "cell_type": "markdown",
   "metadata": {
    "id": "ieRrYn2GbFF9"
   },
   "source": [
    "## ۲"
   ]
  },
  {
   "cell_type": "code",
   "execution_count": null,
   "metadata": {
    "id": "EoQY5qDZKNdn"
   },
   "outputs": [],
   "source": [
    "class F:\n",
    "  @staticmethod\n",
    "  def sign(x):\n",
    "    if x < 0:\n",
    "      return 0\n",
    "    else:\n",
    "      return 1"
   ]
  },
  {
   "cell_type": "markdown",
   "metadata": {
    "id": "CYBg4TuWbGoW"
   },
   "source": [
    "## ۳"
   ]
  },
  {
   "cell_type": "code",
   "execution_count": null,
   "metadata": {
    "id": "bDSuiQ_lFsUE"
   },
   "outputs": [],
   "source": [
    "import numpy as np\n",
    "\n",
    "class Perceptron:\n",
    "  def __init__(self, input_size):\n",
    "    self.weights = np.random.randn(input_size)\n",
    "    self.bias = np.random.randn()\n",
    "\n",
    "  def forward(self, input):\n",
    "    z = np.dot(self.weights, input) + self.bias\n",
    "    y = F.sign(z)\n",
    "    return y"
   ]
  },
  {
   "cell_type": "markdown",
   "metadata": {
    "id": "FTRxkTHBbI5c"
   },
   "source": [
    "## ۴"
   ]
  },
  {
   "cell_type": "code",
   "execution_count": null,
   "metadata": {
    "id": "HThWWQGmRDUO"
   },
   "outputs": [],
   "source": [
    "class Optimizer:\n",
    "  def __init__(self, model):\n",
    "    self.model = model\n",
    "  def update(self, x, y, y_hat):\n",
    "    self.model.weights += (y - y_hat) * x\n",
    "    self.model.bias += (y - y_hat)"
   ]
  },
  {
   "cell_type": "markdown",
   "metadata": {
    "id": "FxOc-A7La_t1"
   },
   "source": []
  },
  {
   "cell_type": "markdown",
   "metadata": {
    "id": "a99RIYl_bMiB"
   },
   "source": [
    "## ۵"
   ]
  },
  {
   "cell_type": "code",
   "execution_count": null,
   "metadata": {
    "id": "B0_qCIisbdH_"
   },
   "outputs": [],
   "source": [
    "input_size = 10\n",
    "perceptron = Perceptron(input_size)\n",
    "\n",
    "optimizer = Optimizer(perceptron)"
   ]
  },
  {
   "cell_type": "markdown",
   "metadata": {
    "id": "5CE1zvrpbaeW"
   },
   "source": [
    "## ۶"
   ]
  },
  {
   "cell_type": "code",
   "execution_count": null,
   "metadata": {
    "colab": {
     "base_uri": "https://localhost:8080/"
    },
    "id": "BIzGB9oDhm8f",
    "outputId": "7d89e071-dc35-4eb2-abca-8f148327d815"
   },
   "outputs": [],
   "source": [
    "n_iter = 1000\n",
    "Y_hat = np.zeros(100)\n",
    "\n",
    "for _ in range(n_iter):\n",
    "  n = 0\n",
    "  for x, y in zip(X, Y):\n",
    "    y_hat = perceptron.forward(x)\n",
    "    Y_hat[n] = y_hat\n",
    "    n += 1\n",
    "    optimizer.update(x, y, y_hat)\n",
    "\n",
    "Y_hat"
   ]
  },
  {
   "cell_type": "markdown",
   "metadata": {
    "id": "n22uMQ9AczDM"
   },
   "source": [
    "## ۷"
   ]
  },
  {
   "cell_type": "code",
   "execution_count": null,
   "metadata": {
    "colab": {
     "base_uri": "https://localhost:8080/"
    },
    "id": "bf1Z3851jae8",
    "outputId": "e36e54ea-42ab-4d66-ada5-090099d3c653"
   },
   "outputs": [],
   "source": [
    "X, Y = make_blobs(n_samples=100, n_features=2, centers=2, random_state=41)\n",
    "Y"
   ]
  },
  {
   "cell_type": "code",
   "execution_count": null,
   "metadata": {
    "id": "k5fICO3Gjkhz"
   },
   "outputs": [],
   "source": [
    "input_size = 2\n",
    "perceptron = Perceptron(input_size)\n",
    "\n",
    "optimizer = Optimizer(perceptron)"
   ]
  },
  {
   "cell_type": "code",
   "execution_count": null,
   "metadata": {
    "colab": {
     "base_uri": "https://localhost:8080/"
    },
    "id": "9v2z5-2bjrh7",
    "outputId": "7e57cf9d-6ba4-4ac3-839c-9dffa2eb350b"
   },
   "outputs": [],
   "source": [
    "n_iter = 1000\n",
    "Y_hat = np.zeros(100)\n",
    "\n",
    "for _ in range(n_iter):\n",
    "  n = 0\n",
    "  for x, y in zip(X, Y):\n",
    "    y_hat = perceptron.forward(x)\n",
    "    Y_hat[n] = y_hat\n",
    "    n += 1\n",
    "    optimizer.update(x, y, y_hat)\n",
    "\n",
    "W1 = perceptron.weights[0]\n",
    "W2 = perceptron.weights[1]\n",
    "B = perceptron.bias\n",
    "\n",
    "Y_hat, perceptron.weights, W1, W2, perceptron.bias, B"
   ]
  },
  {
   "cell_type": "code",
   "execution_count": null,
   "metadata": {
    "colab": {
     "base_uri": "https://localhost:8080/",
     "height": 472
    },
    "id": "QuL6Fp_jmhBC",
    "outputId": "b908c5d7-f6f8-45d0-b738-86ecaea03e6f"
   },
   "outputs": [],
   "source": [
    "import matplotlib.pyplot as plt\n",
    "\n",
    "# Plot the data points and the separating line\n",
    "plt.scatter(X[:, 0], X[:, 1], c=Y_hat, cmap='cool')\n",
    "x_min, x_max = X[:, 0].min() - 1, X[:, 0].max() + 1\n",
    "y_min, y_max = X[:, 1].min() - 1, X[:, 1].max() + 1\n",
    "xx = np.linspace(x_min, x_max, 100)\n",
    "yy = np.linspace(y_min, y_max, 100)\n",
    "XX, YY = np.meshgrid(xx, yy)\n",
    "Z = np.zeros_like(XX)\n",
    "\n",
    "for i in range(Z.shape[0]):\n",
    "    for j in range(Z.shape[1]):\n",
    "        Z[i, j] = perceptron.forward([XX[i, j], YY[i, j]])\n",
    "\n",
    "# Add the line\n",
    "x_line = np.linspace(min(x), max(x), 5)\n",
    "y_line = (B - W1 * x_line) / W2\n",
    "plt.plot(x_line, y_line, color='black', label='Hyperplane')\n",
    "\n",
    "\n",
    "plt.xlabel('Feature 1')\n",
    "plt.ylabel('Feature 2')\n",
    "plt.title('Perceptron Classification')\n",
    "plt.show()"
   ]
  }
 ],
 "metadata": {
  "colab": {
   "provenance": []
  },
  "kernelspec": {
   "display_name": "Python 3 (ipykernel)",
   "language": "python",
   "name": "python3"
  },
  "language_info": {
   "codemirror_mode": {
    "name": "ipython",
    "version": 3
   },
   "file_extension": ".py",
   "mimetype": "text/x-python",
   "name": "python",
   "nbconvert_exporter": "python",
   "pygments_lexer": "ipython3",
   "version": "3.11.3"
  }
 },
 "nbformat": 4,
 "nbformat_minor": 1
}
